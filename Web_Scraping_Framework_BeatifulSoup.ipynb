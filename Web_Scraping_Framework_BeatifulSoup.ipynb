{
  "cells": [
    {
      "cell_type": "markdown",
      "metadata": {
        "id": "view-in-github",
        "colab_type": "text"
      },
      "source": [
        "<a href=\"https://colab.research.google.com/github/PedroNhoura/Google-Collabs-Project/blob/main/Web_Scraping_Framework_BeatifulSoup.ipynb\" target=\"_parent\"><img src=\"https://colab.research.google.com/assets/colab-badge.svg\" alt=\"Open In Colab\"/></a>"
      ]
    },
    {
      "cell_type": "markdown",
      "metadata": {
        "id": "yh29fBSSEVWE"
      },
      "source": [
        "# <font color=green>1. MEU PRIMEIRO SCRAPING"
      ]
    },
    {
      "cell_type": "markdown",
      "metadata": {
        "id": "bVaoG6r4EVWF"
      },
      "source": [
        "# 1.1. Introdução"
      ]
    },
    {
      "cell_type": "markdown",
      "metadata": {
        "id": "g2-VgOOPEVWG"
      },
      "source": [
        "## *Web Scraping* é o termo utilizado para definir a prática de coletar automaticamente informações na Internet. Isto é feito, geralmente, por meio de programas que simulam a navegação humana na Web."
      ]
    },
    {
      "cell_type": "markdown",
      "metadata": {
        "id": "_jGaRkehEVWG"
      },
      "source": [
        "# 1.2. Ambiente e bibliotecas\n",
        "### Utilizaremos em nosso treinamento o navegador Google Chrome"
      ]
    },
    {
      "cell_type": "code",
      "execution_count": 82,
      "metadata": {
        "colab": {
          "base_uri": "https://localhost:8080/"
        },
        "id": "e9pXIMIWByAp",
        "outputId": "51f42447-7013-4a7c-fdb1-9b9c12c886f3"
      },
      "outputs": [
        {
          "output_type": "stream",
          "name": "stdout",
          "text": [
            "Looking in indexes: https://pypi.org/simple, https://us-python.pkg.dev/colab-wheels/public/simple/\n",
            "Requirement already satisfied: pandas in /usr/local/lib/python3.7/dist-packages (1.3.5)\n",
            "Requirement already satisfied: numpy>=1.17.3 in /usr/local/lib/python3.7/dist-packages (from pandas) (1.21.6)\n",
            "Requirement already satisfied: python-dateutil>=2.7.3 in /usr/local/lib/python3.7/dist-packages (from pandas) (2.8.2)\n",
            "Requirement already satisfied: pytz>=2017.3 in /usr/local/lib/python3.7/dist-packages (from pandas) (2022.1)\n",
            "Requirement already satisfied: six>=1.5 in /usr/local/lib/python3.7/dist-packages (from python-dateutil>=2.7.3->pandas) (1.15.0)\n",
            "BeautifulSoup -> 4.6.3\n",
            "urllib -> 3.7\n"
          ]
        }
      ],
      "source": [
        "!pip install pandas\n",
        "import bs4\n",
        "import urllib.request as urllib_request\n",
        "import pandas as pd\n",
        "from urllib.request import Request, urlopen\n",
        "from urllib.error import URLError, HTTPError\n",
        "from bs4 import BeautifulSoup\n",
        "\n",
        "print(\"BeautifulSoup ->\", bs4.__version__)\n",
        "print(\"urllib ->\", urllib_request.__version__)\n"
      ]
    },
    {
      "cell_type": "code",
      "source": [
        ""
      ],
      "metadata": {
        "id": "KS3zDPr11rc6"
      },
      "execution_count": 82,
      "outputs": []
    },
    {
      "cell_type": "code",
      "source": [
        ""
      ],
      "metadata": {
        "id": "4U1LrGy1NB66"
      },
      "execution_count": 82,
      "outputs": []
    },
    {
      "cell_type": "markdown",
      "metadata": {
        "id": "V2bc7lpCEVWH"
      },
      "source": [
        "# 1.3. Meu primeiro scraping"
      ]
    },
    {
      "cell_type": "code",
      "execution_count": 83,
      "metadata": {
        "colab": {
          "base_uri": "https://localhost:8080/"
        },
        "id": "u1Ofn8auEVWH",
        "outputId": "e0d1d56a-89f1-4140-de44-760821ab9310"
      },
      "outputs": [
        {
          "output_type": "stream",
          "name": "stdout",
          "text": [
            "Web Scraping é o termo utilizado para definir a prática de coletar automaticamente informações na Internet. Isto é feito, geralmente, por meio de programas que simulam a navegação humana na Web.\n"
          ]
        }
      ],
      "source": [
        "#salvando a url de acesso \n",
        "url = 'https://alura-site-scraping.herokuapp.com/hello-world.php'\n",
        "#salvando o método para abrir a url \n",
        "response = urlopen(url)\n",
        "#salvando o método para ler o arquivo html \n",
        "html = response.read()\n",
        "#organizando o código que foi retirado no scrap atravé do método BeautifulSoup \n",
        "soup = BeautifulSoup(html, 'html.parser' )\n",
        "#achar a TAG do html através do método find e get_text()\n",
        "soup.find('h1', id = \"hello-world\").get_text()\n",
        "#achar o elemento p no html e buscar apenas o texto com o método get-text()\n",
        "print(soup.find('p').get_text())\n",
        "\n"
      ]
    },
    {
      "cell_type": "markdown",
      "metadata": {
        "id": "yFSc88D1EVWI"
      },
      "source": [
        "---\n",
        "# <font color=green>2. OBTENDO E TRATANDO O CONTEÚDO DE UM HTML"
      ]
    },
    {
      "cell_type": "markdown",
      "metadata": {
        "id": "oRZx5GMPEVWI"
      },
      "source": [
        "# 2.1. Entendendo a web"
      ]
    },
    {
      "cell_type": "markdown",
      "metadata": {
        "id": "25IHy_hJEVWI"
      },
      "source": [
        "# 2.2. Obtendo o conteúdo HTML de um site"
      ]
    },
    {
      "cell_type": "markdown",
      "metadata": {
        "id": "iCE0OeUOEVWJ"
      },
      "source": [
        "# urllib.request\n",
        "## https://docs.python.org/3/library/urllib.html"
      ]
    },
    {
      "cell_type": "code",
      "execution_count": 84,
      "metadata": {
        "id": "c1pKGnTpgvFU",
        "colab": {
          "base_uri": "https://localhost:8080/"
        },
        "outputId": "9da01ee6-ffa9-4d6d-f390-a531fa8b18ef"
      },
      "outputs": [
        {
          "output_type": "stream",
          "name": "stdout",
          "text": [
            "b'<!DOCTYPE html>\\r\\n<html lang=\"pt-br\">\\r\\n<head>\\r\\n    <meta charset=\"utf-8\">\\r\\n    <meta name=\"viewport\" content=\"width=device-width, initial-scale=1, shrink-to-fit=no\">\\r\\n\\r\\n    <title>Alura Motors</title>\\r\\n\\t<link rel=\"stylesheet\" href=\"https://maxcdn.bootstrapcdn.com/bootstrap/3.3.7/css/bootstrap.min.css\" integrity=\"sha384-BVYiiSIFeK1dGmJRAkycuHAHRg32OmUcww7on3RYdg4Va+PmSTsz/K68vbdEjh4u\" crossorigin=\"anonymous\">\\r\\n\\t<link rel=\"stylesheet\" href=\"css/styles.css\" media=\"all\">\\r\\n\\r\\n\\t<script src=\"https://code.jquery.com/jquery-1.12.4.js\"></script>\\r\\n\\t<script src=\"https://maxcdn.bootstrapcdn.com/bootstrap/3.3.7/js/bootstrap.min.js\" integrity=\"sha384-Tc5IQib027qvyjSMfHjOMaLkfuWVxZxUPnCJA7l2mCWNIpG9mGCD8wGNIcPD7Txa\" crossorigin=\"anonymous\"></script>\\r\\n\\t<script type=\"text/javascript\" src=\"js/index.js\"></script>\\r\\n\\r\\n</head>\\r\\n<body cz-shortcut-listen=\"true\">\\r\\n    <noscript>You need to enable JavaScript to run this app.</noscript>\\r\\n\\r\\n    <div id=\"root\">\\r\\n        <header>\\r\\n            <nav class=\"navbar navbar-inverse\" style=\"margin-bottom: 0;\">\\r\\n                <div class=\"container\" style=\"margin-bottom: -20px;\">\\r\\n                    <div class=\"navbar\">\\r\\n                        <a href=\"./index.php\" class=\"navbar-brand\" title=\"Alura Motors\">\\r\\n                            <img src=\"img/alura-logo.svg\" class=\"d-inline-block align-top\" alt=\"Alura\">Motors\\r\\n                        </a>\\r\\n                        <ul class=\"nav navbar-nav\" style=\"margin-top: 35px;\">\\r\\n                            <li><a href=\"./hello-world.php\">Hello World</a></li>\\r\\n                            <li><a href=\"./index.php\">An\\xc3\\xbancios</a></li>\\r\\n                        </ul>\\r\\n                    </div>\\r\\n                </div>\\r\\n            </nav>\\r\\n        </header>\\r\\n\\r\\n\\t\\t<div class=\"container\">\\r\\n\\t\\t\\t<h1 class=\"sub-header\">Curso de Web Scraping</h1>\\r\\n\\t\\t\\t<div class=\"row\">\\r\\n\\t\\t\\t\\t<div class=\"col-md-12\">\\r\\n\\t\\t\\t\\t\\t<div class=\"container\" style=\"width: 100%;\">\\r\\n                <h1 id=\"hello-world\">Hello World!!!</h1>\\r\\n                <p class=\"definition\"><b>Web Scraping</b> \\xc3\\xa9 o termo utilizado para definir a pr\\xc3\\xa1tica de coletar automaticamente informa\\xc3\\xa7\\xc3\\xb5es na Internet. Isto \\xc3\\xa9 feito, geralmente, por meio de programas que simulam a navega\\xc3\\xa7\\xc3\\xa3o humana na Web.</p>\\r\\n\\t\\t\\t\\t\\t</div>\\r\\n\\t\\t\\t\\t</div>\\r\\n\\t\\t\\t</div>\\r\\n\\t\\t</div>\\r\\n\\r\\n\\t\\t<footer id=\"footer\">\\r\\n\\t\\t\\t<nav class=\"navbar navbar-inverse\">\\r\\n\\t\\t\\t\\t<div class=\"container\" style=\"margin-bottom: 10px;\">\\r\\n\\t\\t\\t\\t\\t<div class=\"navbar\">\\r\\n\\t\\t\\t\\t\\t\\t<a href=\"./index.php\" class=\"navbar-brand\" title=\"Alura Motors\">\\r\\n\\t\\t\\t\\t\\t\\t\\t<img src=\"img/alura-logo.svg\" class=\"d-inline-block align-top\" alt=\"Alura\">Motors\\r\\n\\t\\t\\t\\t\\t\\t</a>\\r\\n\\t\\t\\t\\t\\t\\t<p style=\"color: #fff; text-align: center; margin-top: 40px;\">Aplica\\xc3\\xa7\\xc3\\xa3o para treinamento de web scraping</p>\\r\\n\\t\\t\\t\\t\\t</div>\\r\\n\\t\\t\\t\\t</div>\\r\\n\\t\\t\\t</nav>\\r\\n   </footer>\\r\\n\\r\\n\\t</div>\\r\\n\\r\\n</body>\\r\\n</html>\\r\\n'\n"
          ]
        }
      ],
      "source": [
        "#autorização para conseguir acessar os dados do site\n",
        "headers = {'User-Agent': 'Mozilla/5.0 (Windows NT 10.0; Win64; x64) AppleWebKit/537.36 (KHTML, like Gecko) Chrome/101.0.4951.54 Safari/537.36'}\n",
        "#tentando executar o acesso, caso dê algum erro, executa o EXCEPT para verificar quais são esses erros \n",
        "try:\n",
        "  req = Request(url, headers = headers)\n",
        "  response = urlopen(req)\n",
        "  print(response.read())\n",
        "\n",
        "#visualizando os erros que podem ocorrer na requisição \n",
        "#SEMPRE COLOCAR O HTTP ERROR \n",
        "except HTTPError as e:\n",
        "  print(e.status, e.reason)\n",
        "#erro de digitação na url da página\n",
        "except URLError as e:\n",
        "  print(e.reason)\n",
        "\n"
      ]
    },
    {
      "cell_type": "markdown",
      "metadata": {
        "id": "qpmg8LzgEVWJ"
      },
      "source": [
        "## https://docs.python.org/3/library/urllib.request.html#urllib.request.Request"
      ]
    },
    {
      "cell_type": "markdown",
      "metadata": {
        "id": "45U4hXm9EVWJ"
      },
      "source": [
        "# 2.3. Tratamento de string"
      ]
    },
    {
      "cell_type": "code",
      "execution_count": 85,
      "metadata": {
        "id": "Sgs3b4DAEVWK"
      },
      "outputs": [],
      "source": [
        "url = 'https://alura-site-scraping.herokuapp.com/index.php'\n",
        "response = urlopen(url)\n",
        "#salvando o método para ler o arquivo html \n",
        "html = response.read()\n"
      ]
    },
    {
      "cell_type": "markdown",
      "metadata": {
        "id": "ZVSigX6ZEVWK"
      },
      "source": [
        "### Convertando o tipo bytes para string"
      ]
    },
    {
      "cell_type": "code",
      "execution_count": 86,
      "metadata": {
        "id": "tONiY9eEEVWK",
        "colab": {
          "base_uri": "https://localhost:8080/"
        },
        "outputId": "0e8be35a-6ca2-42e0-91b9-d9b22e19874e"
      },
      "outputs": [
        {
          "output_type": "execute_result",
          "data": {
            "text/plain": [
              "bytes"
            ]
          },
          "metadata": {},
          "execution_count": 86
        }
      ],
      "source": [
        "type(html)"
      ]
    },
    {
      "cell_type": "code",
      "execution_count": 87,
      "metadata": {
        "id": "Ct8udBo2EVWK"
      },
      "outputs": [],
      "source": [
        "#limpando caracteres inválidos\n",
        "html = html.decode('utf-8')"
      ]
    },
    {
      "cell_type": "code",
      "execution_count": 88,
      "metadata": {
        "id": "PGR92oZdEVWK",
        "colab": {
          "base_uri": "https://localhost:8080/"
        },
        "outputId": "e8221575-6cff-4c74-9fa8-528e8a126d3d"
      },
      "outputs": [
        {
          "output_type": "execute_result",
          "data": {
            "text/plain": [
              "str"
            ]
          },
          "metadata": {},
          "execution_count": 88
        }
      ],
      "source": [
        "type(html)"
      ]
    },
    {
      "cell_type": "code",
      "execution_count": 89,
      "metadata": {
        "id": "Za18dVXiEVWL",
        "colab": {
          "base_uri": "https://localhost:8080/",
          "height": 0
        },
        "outputId": "6c4a2b88-7b7b-414d-f4fe-0af4d7c752db"
      },
      "outputs": [
        {
          "output_type": "execute_result",
          "data": {
            "text/plain": [
              "'<!DOCTYPE html>\\r\\n<html lang=\"pt-br\">\\r\\n<head>\\r\\n    <meta charset=\"utf-8\">\\r\\n    <meta name=\"viewport\" content=\"width=device-width, initial-scale=1, shrink-to-fit=no\">\\r\\n\\r\\n    <title>Alura Motors</title>\\r\\n\\r\\n\\t<style>\\r\\n\\t\\t/*Regra para a animacao*/\\r\\n\\t\\t@keyframes spin {\\r\\n\\t\\t\\t0% { transform: rotate(0deg); }\\r\\n\\t\\t\\t100% { transform: rotate(360deg); }\\r\\n\\t\\t}\\r\\n\\t\\t/*Mudando o tamanho do icone de resposta*/\\r\\n\\t\\tdiv.glyphicon {\\r\\n\\t\\t\\tcolor:#6B8E23;\\r\\n\\t\\t\\tfont-size: 38px;\\r\\n\\t\\t}\\r\\n\\t\\t/*Classe que mostra a animacao \\'spin\\'*/\\r\\n\\t\\t.loader {\\r\\n\\t\\t\\tborder: 16px solid #f3f3f3;\\r\\n\\t\\t\\tborder-radius: 50%;\\r\\n\\t\\t\\tborder-top: 16px solid #3498db;\\r\\n\\t\\t\\twidth: 80px;\\r\\n\\t\\t\\theight: 80px;\\r\\n\\t\\t\\t-webkit-animation: spin 2s linear infinite;\\r\\n\\t\\t\\tanimation: spin 2s linear infinite;\\r\\n\\t\\t}\\r\\n\\t</style>\\r\\n\\t<link rel=\"stylesheet\" href=\"https://maxcdn.bootstrapcdn.com/bootstrap/3.3.7/css/bootstrap.min.css\" integrity=\"sha384-BVYiiSIFeK1dGmJRAkycuHAHRg32OmUcww7on3RYdg4Va+PmSTsz/K68vbdEjh4u\" crossorigin=\"anonymous\">\\r\\n\\t<link rel=\"stylesheet\" href=\"css/styles.css\" media=\"all\">\\r\\n\\r\\n\\t<script src=\"https://code.jquery.com/jquery-1.12.4.js\"></script>\\r\\n\\t<script src=\"https://maxcdn.bootstrapcdn.com/bootstrap/3.3.7/js/bootstrap.min.js\" integrity=\"sha384-Tc5IQib027qvyjSMfHjOMaLkfuWVxZxUPnCJA7l2mCWNIpG9mGCD8wGNIcPD7Txa\" crossorigin=\"anonymous\"></script>\\r\\n\\t<script type=\"text/javascript\" src=\"js/index.js\"></script>\\r\\n\\t<script>\\r\\n\\t\\trequisitar(\"https://alura-scraping.herokuapp.com/produtos?_page=\"+1+\"&_limit=10\")\\r\\n\\t</script>\\r\\n\\r\\n</head>\\r\\n<body cz-shortcut-listen=\"true\">\\r\\n    <noscript>You need to enable JavaScript to run this app.</noscript>\\r\\n\\r\\n\\t<div class=\"modal fade\" data-backdrop=\"static\" id=\"loadingModal\" tabindex=\"-1\" role=\"dialog\" aria-labelledby=\"loadingModal_label\">\\r\\n\\t\\t<div class=\"modal-dialog\" role=\"document\">\\r\\n\\t\\t\\t<div class=\"modal-content\">\\r\\n\\t\\t\\t\\t<div class=\"modal-header\">\\r\\n\\t\\t\\t\\t\\t<h5 class=\"modal-title\" id=\"loadingModal_label\">\\r\\n\\t\\t\\t\\t\\t\\t<span class=\"glyphicon glyphicon-refresh\"></span>Aguarde...\\r\\n\\t\\t\\t\\t\\t</h5>\\r\\n\\t\\t\\t\\t</div>\\r\\n\\t\\t\\t\\t<div class=\"modal-body\">\\r\\n\\t\\t\\t\\t\\t<div class=\\'alert\\' role=\\'alert\\'>\\r\\n\\t\\t\\t\\t\\t\\t<center>\\r\\n\\t\\t\\t\\t\\t\\t\\t<div class=\"loader\" id=\"loader\"></div><br>\\r\\n\\t\\t\\t\\t\\t\\t\\t<h4><b id=\"loadingModal_content\"></b></h4>\\r\\n\\t\\t\\t\\t\\t\\t</center>\\r\\n\\t\\t\\t\\t\\t</div>\\r\\n\\t\\t\\t\\t</div>\\r\\n\\t\\t\\t</div>\\r\\n\\t\\t</div>\\r\\n\\t</div>\\r\\n\\r\\n    <div id=\"root\">\\r\\n\\t\\t<header>\\r\\n\\t\\t\\t<nav class=\"navbar navbar-inverse\" style=\"margin-bottom: 0;\">\\r\\n\\t\\t\\t\\t<div class=\"container\" style=\"margin-bottom: -20px;\">\\r\\n\\t\\t\\t\\t\\t<div class=\"navbar\">\\r\\n\\t\\t\\t\\t\\t\\t<a href=\"./index.php\" class=\"navbar-brand\" title=\"Alura Motors\">\\r\\n\\t\\t\\t\\t\\t\\t\\t<img src=\"img/alura-logo.svg\" class=\"d-inline-block align-top\" alt=\"Alura\">Motors\\r\\n\\t\\t\\t\\t\\t\\t</a>\\r\\n\\t\\t\\t\\t\\t\\t<ul class=\"nav navbar-nav\" style=\"margin-top: 35px;\">\\r\\n\\t\\t\\t\\t\\t\\t\\t<li><a href=\"./hello-world.php\">Hello World</a></li>\\r\\n\\t\\t\\t\\t\\t\\t\\t<li><a href=\"./index.php\">Anúncios</a></li>\\r\\n\\t\\t\\t\\t\\t\\t</ul>\\r\\n\\t\\t\\t\\t\\t</div>\\r\\n\\t\\t\\t\\t</div>\\r\\n\\t\\t\\t</nav>\\r\\n\\t\\t</header>\\r\\n\\r\\n\\t\\t<div class=\"container\">\\r\\n\\t\\t\\t<h1 class=\"sub-header\">Veículos de Luxo Novos e Usados - Todas as Marcas</h1>\\r\\n\\t\\t\\t<div class=\"row\">\\r\\n\\t\\t\\t\\t<div class=\"col-md-12\">\\r\\n\\t\\t\\t\\t\\t<div class=\"container\" style=\"width: 100%\">\\r\\n\\t\\t\\t\\t\\t\\t<div class=\"type-select\">246 veículos encontrados</div>\\r\\n\\t\\t\\t\\t\\t\\t\\t<div class=\"container-pagination\" style=\"float: right\">\\r\\n\\t\\t\\t\\t\\t\\t\\t\\t<span class=\"info-pages\">Página 1 de 25</span>\\r\\n\\t\\t\\t\\t\\t\\t\\t</div>\\r\\n\\t\\t\\t\\t\\t\\t</div>\\r\\n\\t\\t\\t\\t\\t\\t<div id=\"container-cards\" style=\"height: 100%\">\\r\\n\\t\\t\\t\\t\\t\\t\\t\\r\\n                <div class=\"well card\">\\r\\n                    <div class=\"col-md-3 image-card\">\\r\\n                        <img width=\"220\" height=\"155\" alt=\"Foto\" src=\"https://caelum-online-public.s3.amazonaws.com/1381-scraping/01/img-cars/lamborghini-aventador/lamborghini-aventador-2932196__340.jpg\">\\r\\n                    </div>\\r\\n                    <div class=\"col-md-6 body-card\">\\r\\n                        <p class=\"txt-name inline\">LAMBORGHINI AVENTADOR</p>\\r\\n                            <p class=\"txt-category badge badge-secondary inline\">USADO</p>\\r\\n                            \\r\\n                        <p class=\"txt-motor\">Motor 1.8 16v</p>\\r\\n                        <p class=\"txt-description\">Ano 1993 - 55.286 km</p>\\r\\n                        <ul class=\"lst-items\">\\r\\n                            <li class=\"txt-items\">► 4 X 4</li>\\r\\n                            <li class=\"txt-items\">► Câmera de estacionamento</li>\\r\\n                            <li class=\"txt-items\">► Controle de tração</li>\\r\\n                            <li class=\"txt-items\">► Sensor de estacionamento</li>\\r\\n                            <li class=\"txt-items\">...</li>\\r\\n                        </ul>\\r\\n                        <p class=\"txt-location\">Belo Horizonte - MG</p>\\r\\n                    </div>\\r\\n                    <div class=\"col-md-3 value-card\">\\r\\n                        <div class=\"value\">\\r\\n                            <p class=\"txt-value\">R$ 338.000</p>\\r\\n                        </div>\\r\\n                    </div>\\r\\n                </div>\\r\\n                <div class=\"well card\">\\r\\n                    <div class=\"col-md-3 image-card\">\\r\\n                        <img width=\"220\" height=\"155\" alt=\"Foto\" src=\"https://caelum-online-public.s3.amazonaws.com/1381-scraping/01/img-cars/bmw-m2/bmw-m2-2970882__340.jpg\">\\r\\n                    </div>\\r\\n                    <div class=\"col-md-6 body-card\">\\r\\n                        <p class=\"txt-name inline\">BMW M2</p>\\r\\n                            <p class=\"txt-category badge badge-secondary inline\">USADO</p>\\r\\n                            \\r\\n                        <p class=\"txt-motor\">Motor 3.0 32v</p>\\r\\n                        <p class=\"txt-description\">Ano 2018 - 83.447 km</p>\\r\\n                        <ul class=\"lst-items\">\\r\\n                            <li class=\"txt-items\">► Câmera de estacionamento</li>\\r\\n                            <li class=\"txt-items\">► Controle de estabilidade</li>\\r\\n                            <li class=\"txt-items\">► Travas elétricas</li>\\r\\n                            <li class=\"txt-items\">► Freios ABS</li>\\r\\n                            <li class=\"txt-items\">...</li>\\r\\n                        </ul>\\r\\n                        <p class=\"txt-location\">Belo Horizonte - MG</p>\\r\\n                    </div>\\r\\n                    <div class=\"col-md-3 value-card\">\\r\\n                        <div class=\"value\">\\r\\n                            <p class=\"txt-value\">R$ 346.000</p>\\r\\n                        </div>\\r\\n                    </div>\\r\\n                </div>\\r\\n                <div class=\"well card\">\\r\\n                    <div class=\"col-md-3 image-card\">\\r\\n                        <img width=\"220\" height=\"155\" alt=\"Foto\" src=\"https://caelum-online-public.s3.amazonaws.com/1381-scraping/01/img-cars/alfa/alfa-1823056__340.jpg\">\\r\\n                    </div>\\r\\n                    <div class=\"col-md-6 body-card\">\\r\\n                        <p class=\"txt-name inline\">ALFA</p>\\r\\n                            <p class=\"txt-category badge badge-secondary inline\">USADO</p>\\r\\n                            \\r\\n                        <p class=\"txt-motor\">Motor 1.8 16v</p>\\r\\n                        <p class=\"txt-description\">Ano 2004 - 19.722 km</p>\\r\\n                        <ul class=\"lst-items\">\\r\\n                            <li class=\"txt-items\">► Central multimídia</li>\\r\\n                            <li class=\"txt-items\">► Bancos de couro</li>\\r\\n                            <li class=\"txt-items\">► Rodas de liga</li>\\r\\n                            <li class=\"txt-items\">► Câmera de estacionamento</li>\\r\\n                            <li class=\"txt-items\">...</li>\\r\\n                        </ul>\\r\\n                        <p class=\"txt-location\">Rio de Janeiro - RJ</p>\\r\\n                    </div>\\r\\n                    <div class=\"col-md-3 value-card\">\\r\\n                        <div class=\"value\">\\r\\n                            <p class=\"txt-value\">R$ 480.000</p>\\r\\n                        </div>\\r\\n                    </div>\\r\\n                </div>\\r\\n                <div class=\"well card\">\\r\\n                    <div class=\"col-md-3 image-card\">\\r\\n                        <img width=\"220\" height=\"155\" alt=\"Foto\" src=\"https://caelum-online-public.s3.amazonaws.com/1381-scraping/01/img-cars/puech/puech-4055386__340.jpg\">\\r\\n                    </div>\\r\\n                    <div class=\"col-md-6 body-card\">\\r\\n                        <p class=\"txt-name inline\">PUECH</p>\\r\\n                            <p class=\"txt-category badge badge-secondary inline\">USADO</p>\\r\\n                            \\r\\n                        <p class=\"txt-motor\">Motor Diesel V8</p>\\r\\n                        <p class=\"txt-description\">Ano 1992 - 34.335 km</p>\\r\\n                        <ul class=\"lst-items\">\\r\\n                            <li class=\"txt-items\">► Bancos de couro</li>\\r\\n                            <li class=\"txt-items\">► Freios ABS</li>\\r\\n                            <li class=\"txt-items\">► Rodas de liga</li>\\r\\n                            <li class=\"txt-items\">► Câmbio automático</li>\\r\\n                            <li class=\"txt-items\">...</li>\\r\\n                        </ul>\\r\\n                        <p class=\"txt-location\">São Paulo - SP</p>\\r\\n                    </div>\\r\\n                    <div class=\"col-md-3 value-card\">\\r\\n                        <div class=\"value\">\\r\\n                            <p class=\"txt-value\">R$ 133.000</p>\\r\\n                        </div>\\r\\n                    </div>\\r\\n                </div>\\r\\n                <div class=\"well card\">\\r\\n                    <div class=\"col-md-3 image-card\">\\r\\n                        <img width=\"220\" height=\"155\" alt=\"Foto\" src=\"https://caelum-online-public.s3.amazonaws.com/1381-scraping/01/img-cars/lamborghini-murcielago/lamborghini-murcielago-2872974__340.jpg\">\\r\\n                    </div>\\r\\n                    <div class=\"col-md-6 body-card\">\\r\\n                        <p class=\"txt-name inline\">LAMBORGHINI MURCIELAGO</p>\\r\\n                            <p class=\"txt-category badge badge-secondary inline\">USADO</p>\\r\\n                            \\r\\n                        <p class=\"txt-motor\">Motor 1.0 8v</p>\\r\\n                        <p class=\"txt-description\">Ano 1991 - 464 km</p>\\r\\n                        <ul class=\"lst-items\">\\r\\n                            <li class=\"txt-items\">► Central multimídia</li>\\r\\n                            <li class=\"txt-items\">► Teto panorâmico</li>\\r\\n                            <li class=\"txt-items\">► Sensor crepuscular</li>\\r\\n                            <li class=\"txt-items\">► Piloto automático</li>\\r\\n                            <li class=\"txt-items\">...</li>\\r\\n                        </ul>\\r\\n                        <p class=\"txt-location\">Belo Horizonte - MG</p>\\r\\n                    </div>\\r\\n                    <div class=\"col-md-3 value-card\">\\r\\n                        <div class=\"value\">\\r\\n                            <p class=\"txt-value\">R$ 175.000</p>\\r\\n                        </div>\\r\\n                    </div>\\r\\n                </div>\\r\\n                <div class=\"well card\">\\r\\n                    <div class=\"col-md-3 image-card\">\\r\\n                        <img width=\"220\" height=\"155\" alt=\"Foto\" src=\"https://caelum-online-public.s3.amazonaws.com/1381-scraping/01/img-cars/aston-martin/aston-martin-2977916__340.jpg\">\\r\\n                    </div>\\r\\n                    <div class=\"col-md-6 body-card\">\\r\\n                        <p class=\"txt-name inline\">ASTON MARTIN</p>\\r\\n                            <p class=\"txt-category badge badge-secondary inline\">USADO</p>\\r\\n                            <p class=\"txt-opportunity badge badge-danger inline\">OPORTUNIDADE</p>\\r\\n                        <p class=\"txt-motor\">Motor Diesel V6</p>\\r\\n                        <p class=\"txt-description\">Ano 2004 - 50.189 km</p>\\r\\n                        <ul class=\"lst-items\">\\r\\n                            <li class=\"txt-items\">► Painel digital</li>\\r\\n                            <li class=\"txt-items\">► Controle de tração</li>\\r\\n                            <li class=\"txt-items\">► Teto panorâmico</li>\\r\\n                            <li class=\"txt-items\">► Central multimídia</li>\\r\\n                            <li class=\"txt-items\">...</li>\\r\\n                        </ul>\\r\\n                        <p class=\"txt-location\">Belo Horizonte - MG</p>\\r\\n                    </div>\\r\\n                    <div class=\"col-md-3 value-card\">\\r\\n                        <div class=\"value\">\\r\\n                            <p class=\"txt-value\">R$ 239.000</p>\\r\\n                        </div>\\r\\n                    </div>\\r\\n                </div>\\r\\n                <div class=\"well card\">\\r\\n                    <div class=\"col-md-3 image-card\">\\r\\n                        <img width=\"220\" height=\"155\" alt=\"Foto\" src=\"https://caelum-online-public.s3.amazonaws.com/1381-scraping/01/img-cars/tvr/tvr-2943925__340.jpg\">\\r\\n                    </div>\\r\\n                    <div class=\"col-md-6 body-card\">\\r\\n                        <p class=\"txt-name inline\">TVR</p>\\r\\n                            <p class=\"txt-category badge badge-secondary inline\">USADO</p>\\r\\n                            \\r\\n                        <p class=\"txt-motor\">Motor 4.0 Turbo</p>\\r\\n                        <p class=\"txt-description\">Ano 2014 - 17.778 km</p>\\r\\n                        <ul class=\"lst-items\">\\r\\n                            <li class=\"txt-items\">► 4 X 4</li>\\r\\n                            <li class=\"txt-items\">► Teto panorâmico</li>\\r\\n                            <li class=\"txt-items\">► Central multimídia</li>\\r\\n                            <li class=\"txt-items\">► Controle de estabilidade</li>\\r\\n                            <li class=\"txt-items\">...</li>\\r\\n                        </ul>\\r\\n                        <p class=\"txt-location\">Belo Horizonte - MG</p>\\r\\n                    </div>\\r\\n                    <div class=\"col-md-3 value-card\">\\r\\n                        <div class=\"value\">\\r\\n                            <p class=\"txt-value\">R$ 115.000</p>\\r\\n                        </div>\\r\\n                    </div>\\r\\n                </div>\\r\\n                <div class=\"well card\">\\r\\n                    <div class=\"col-md-3 image-card\">\\r\\n                        <img width=\"220\" height=\"155\" alt=\"Foto\" src=\"https://caelum-online-public.s3.amazonaws.com/1381-scraping/01/img-cars/excalibur/excalibur-2916730__340.jpg\">\\r\\n                    </div>\\r\\n                    <div class=\"col-md-6 body-card\">\\r\\n                        <p class=\"txt-name inline\">EXCALIBUR</p>\\r\\n                            <p class=\"txt-category badge badge-secondary inline\">USADO</p>\\r\\n                            \\r\\n                        <p class=\"txt-motor\">Motor 3.0 32v</p>\\r\\n                        <p class=\"txt-description\">Ano 2009 - 81.251 km</p>\\r\\n                        <ul class=\"lst-items\">\\r\\n                            <li class=\"txt-items\">► Painel digital</li>\\r\\n                            <li class=\"txt-items\">► Câmbio automático</li>\\r\\n                            <li class=\"txt-items\">► Sensor de chuva</li>\\r\\n                            <li class=\"txt-items\">► Travas elétricas</li>\\r\\n                            <li class=\"txt-items\">...</li>\\r\\n                        </ul>\\r\\n                        <p class=\"txt-location\">Rio de Janeiro - RJ</p>\\r\\n                    </div>\\r\\n                    <div class=\"col-md-3 value-card\">\\r\\n                        <div class=\"value\">\\r\\n                            <p class=\"txt-value\">R$ 114.000</p>\\r\\n                        </div>\\r\\n                    </div>\\r\\n                </div>\\r\\n                <div class=\"well card\">\\r\\n                    <div class=\"col-md-3 image-card\">\\r\\n                        <img width=\"220\" height=\"155\" alt=\"Foto\" src=\"https://caelum-online-public.s3.amazonaws.com/1381-scraping/01/img-cars/mclaren/mclaren-2855240__340.jpg\">\\r\\n                    </div>\\r\\n                    <div class=\"col-md-6 body-card\">\\r\\n                        <p class=\"txt-name inline\">MCLAREN</p>\\r\\n                            <p class=\"txt-category badge badge-secondary inline\">NOVO</p>\\r\\n                            \\r\\n                        <p class=\"txt-motor\">Motor Diesel</p>\\r\\n                        <p class=\"txt-description\">Ano 2019 - 0 km</p>\\r\\n                        <ul class=\"lst-items\">\\r\\n                            <li class=\"txt-items\">► Central multimídia</li>\\r\\n                            <li class=\"txt-items\">► Câmera de estacionamento</li>\\r\\n                            <li class=\"txt-items\">► Câmbio automático</li>\\r\\n                            <li class=\"txt-items\">► Ar condicionado</li>\\r\\n                            <li class=\"txt-items\">...</li>\\r\\n                        </ul>\\r\\n                        <p class=\"txt-location\">São Paulo - SP</p>\\r\\n                    </div>\\r\\n                    <div class=\"col-md-3 value-card\">\\r\\n                        <div class=\"value\">\\r\\n                            <p class=\"txt-value\">R$ 75.000</p>\\r\\n                        </div>\\r\\n                    </div>\\r\\n                </div>\\r\\n                <div class=\"well card\">\\r\\n                    <div class=\"col-md-3 image-card\">\\r\\n                        <img width=\"220\" height=\"155\" alt=\"Foto\" src=\"https://caelum-online-public.s3.amazonaws.com/1381-scraping/01/img-cars/toyota/toyota-3245397__340.jpg\">\\r\\n                    </div>\\r\\n                    <div class=\"col-md-6 body-card\">\\r\\n                        <p class=\"txt-name inline\">TOYOTA</p>\\r\\n                            <p class=\"txt-category badge badge-secondary inline\">USADO</p>\\r\\n                            <p class=\"txt-opportunity badge badge-danger inline\">OPORTUNIDADE</p>\\r\\n                        <p class=\"txt-motor\">Motor 4.0 Turbo</p>\\r\\n                        <p class=\"txt-description\">Ano 1999 - 12.536 km</p>\\r\\n                        <ul class=\"lst-items\">\\r\\n                            <li class=\"txt-items\">► Bancos de couro</li>\\r\\n                            <li class=\"txt-items\">► Freios ABS</li>\\r\\n                            <li class=\"txt-items\">► Piloto automático</li>\\r\\n                            <li class=\"txt-items\">► Controle de estabilidade</li>\\r\\n                            <li class=\"txt-items\">...</li>\\r\\n                        </ul>\\r\\n                        <p class=\"txt-location\">São Paulo - SP</p>\\r\\n                    </div>\\r\\n                    <div class=\"col-md-3 value-card\">\\r\\n                        <div class=\"value\">\\r\\n                            <p class=\"txt-value\">R$ 117.000</p>\\r\\n                        </div>\\r\\n                    </div>\\r\\n                </div>\\t\\t\\t\\t\\t\\t</div>\\r\\n\\t\\t\\t\\t\\t\\t<div class=\"type-select\">246 veículos encontrados</div>\\r\\n\\t\\t\\t\\t\\t\\t\\t<div class=\"container-pagination\" style=\"float: right\">\\r\\n\\t\\t\\t\\t\\t\\t\\t\\t<span class=\"info-pages\">Página 1 de 25</span>\\r\\n\\t\\t\\t\\t\\t\\t\\t</div>\\r\\n\\t\\t\\t\\t\\t\\t</div>\\r\\n\\t\\t\\t\\t\\t</div>\\r\\n\\t\\t\\t\\t</div>\\r\\n\\t\\t\\t</div>\\r\\n\\t\\t</div>\\r\\n\\r\\n\\t\\t<footer>\\r\\n\\t\\t\\t<nav class=\"navbar navbar-inverse\">\\r\\n\\t\\t\\t\\t<div class=\"container\" style=\"margin-bottom: 10px;\">\\r\\n\\t\\t\\t\\t\\t<div class=\"navbar\">\\r\\n\\t\\t\\t\\t\\t\\t<a href=\"./index.php\" class=\"navbar-brand\" title=\"Alura Motors\">\\r\\n\\t\\t\\t\\t\\t\\t\\t<img src=\"img/alura-logo.svg\" class=\"d-inline-block align-top\" alt=\"Alura\">Motors\\r\\n\\t\\t\\t\\t\\t\\t</a>\\r\\n\\t\\t\\t\\t\\t\\t<p style=\"color: #fff; text-align: center; margin-top: 40px;\">Aplicação para treinamento de web scraping</p>\\r\\n\\t\\t\\t\\t\\t</div>\\r\\n\\t\\t\\t\\t</div>\\r\\n\\t\\t\\t</nav>\\r\\n\\t\\t</footer>\\r\\n\\r\\n\\t</div>\\r\\n\\r\\n</body>\\r\\n</html>\\r\\n'"
            ],
            "application/vnd.google.colaboratory.intrinsic+json": {
              "type": "string"
            }
          },
          "metadata": {},
          "execution_count": 89
        }
      ],
      "source": [
        "html"
      ]
    },
    {
      "cell_type": "markdown",
      "metadata": {
        "id": "lQ1Tcb7cEVWL"
      },
      "source": [
        "### Eliminando os caracteres de tabulação, quebra de linha etc."
      ]
    },
    {
      "cell_type": "code",
      "execution_count": 90,
      "metadata": {
        "id": "p9-Jd2TuEVWL"
      },
      "outputs": [],
      "source": [
        "#salvo numa lista todas palavras pelo espaço em branco \n",
        "#html.split()"
      ]
    },
    {
      "cell_type": "code",
      "execution_count": 91,
      "metadata": {
        "scrolled": true,
        "id": "hdXu_ipvEVWL",
        "colab": {
          "base_uri": "https://localhost:8080/",
          "height": 0
        },
        "outputId": "74284c4d-ca24-4796-c458-743ed784a28f"
      },
      "outputs": [
        {
          "output_type": "execute_result",
          "data": {
            "text/plain": [
              "'<!DOCTYPE html> <html lang=\"pt-br\"> <head> <meta charset=\"utf-8\"> <meta name=\"viewport\" content=\"width=device-width, initial-scale=1, shrink-to-fit=no\"> <title>Alura Motors</title> <style> /*Regra para a animacao*/ @keyframes spin { 0% { transform: rotate(0deg); } 100% { transform: rotate(360deg); } } /*Mudando o tamanho do icone de resposta*/ div.glyphicon { color:#6B8E23; font-size: 38px; } /*Classe que mostra a animacao \\'spin\\'*/ .loader { border: 16px solid #f3f3f3; border-radius: 50%; border-top: 16px solid #3498db; width: 80px; height: 80px; -webkit-animation: spin 2s linear infinite; animation: spin 2s linear infinite; } </style> <link rel=\"stylesheet\" href=\"https://maxcdn.bootstrapcdn.com/bootstrap/3.3.7/css/bootstrap.min.css\" integrity=\"sha384-BVYiiSIFeK1dGmJRAkycuHAHRg32OmUcww7on3RYdg4Va+PmSTsz/K68vbdEjh4u\" crossorigin=\"anonymous\"> <link rel=\"stylesheet\" href=\"css/styles.css\" media=\"all\"> <script src=\"https://code.jquery.com/jquery-1.12.4.js\"></script> <script src=\"https://maxcdn.bootstrapcdn.com/bootstrap/3.3.7/js/bootstrap.min.js\" integrity=\"sha384-Tc5IQib027qvyjSMfHjOMaLkfuWVxZxUPnCJA7l2mCWNIpG9mGCD8wGNIcPD7Txa\" crossorigin=\"anonymous\"></script> <script type=\"text/javascript\" src=\"js/index.js\"></script> <script> requisitar(\"https://alura-scraping.herokuapp.com/produtos?_page=\"+1+\"&_limit=10\") </script> </head> <body cz-shortcut-listen=\"true\"> <noscript>You need to enable JavaScript to run this app.</noscript> <div class=\"modal fade\" data-backdrop=\"static\" id=\"loadingModal\" tabindex=\"-1\" role=\"dialog\" aria-labelledby=\"loadingModal_label\"> <div class=\"modal-dialog\" role=\"document\"> <div class=\"modal-content\"> <div class=\"modal-header\"> <h5 class=\"modal-title\" id=\"loadingModal_label\"> <span class=\"glyphicon glyphicon-refresh\"></span>Aguarde... </h5> </div> <div class=\"modal-body\"> <div class=\\'alert\\' role=\\'alert\\'> <center> <div class=\"loader\" id=\"loader\"></div><br> <h4><b id=\"loadingModal_content\"></b></h4> </center> </div> </div> </div> </div> </div> <div id=\"root\"> <header> <nav class=\"navbar navbar-inverse\" style=\"margin-bottom: 0;\"> <div class=\"container\" style=\"margin-bottom: -20px;\"> <div class=\"navbar\"> <a href=\"./index.php\" class=\"navbar-brand\" title=\"Alura Motors\"> <img src=\"img/alura-logo.svg\" class=\"d-inline-block align-top\" alt=\"Alura\">Motors </a> <ul class=\"nav navbar-nav\" style=\"margin-top: 35px;\"> <li><a href=\"./hello-world.php\">Hello World</a></li> <li><a href=\"./index.php\">Anúncios</a></li> </ul> </div> </div> </nav> </header> <div class=\"container\"> <h1 class=\"sub-header\">Veículos de Luxo Novos e Usados - Todas as Marcas</h1> <div class=\"row\"> <div class=\"col-md-12\"> <div class=\"container\" style=\"width: 100%\"> <div class=\"type-select\">246 veículos encontrados</div> <div class=\"container-pagination\" style=\"float: right\"> <span class=\"info-pages\">Página 1 de 25</span> </div> </div> <div id=\"container-cards\" style=\"height: 100%\"> <div class=\"well card\"> <div class=\"col-md-3 image-card\"> <img width=\"220\" height=\"155\" alt=\"Foto\" src=\"https://caelum-online-public.s3.amazonaws.com/1381-scraping/01/img-cars/lamborghini-aventador/lamborghini-aventador-2932196__340.jpg\"> </div> <div class=\"col-md-6 body-card\"> <p class=\"txt-name inline\">LAMBORGHINI AVENTADOR</p> <p class=\"txt-category badge badge-secondary inline\">USADO</p> <p class=\"txt-motor\">Motor 1.8 16v</p> <p class=\"txt-description\">Ano 1993 - 55.286 km</p> <ul class=\"lst-items\"> <li class=\"txt-items\">► 4 X 4</li> <li class=\"txt-items\">► Câmera de estacionamento</li> <li class=\"txt-items\">► Controle de tração</li> <li class=\"txt-items\">► Sensor de estacionamento</li> <li class=\"txt-items\">...</li> </ul> <p class=\"txt-location\">Belo Horizonte - MG</p> </div> <div class=\"col-md-3 value-card\"> <div class=\"value\"> <p class=\"txt-value\">R$ 338.000</p> </div> </div> </div> <div class=\"well card\"> <div class=\"col-md-3 image-card\"> <img width=\"220\" height=\"155\" alt=\"Foto\" src=\"https://caelum-online-public.s3.amazonaws.com/1381-scraping/01/img-cars/bmw-m2/bmw-m2-2970882__340.jpg\"> </div> <div class=\"col-md-6 body-card\"> <p class=\"txt-name inline\">BMW M2</p> <p class=\"txt-category badge badge-secondary inline\">USADO</p> <p class=\"txt-motor\">Motor 3.0 32v</p> <p class=\"txt-description\">Ano 2018 - 83.447 km</p> <ul class=\"lst-items\"> <li class=\"txt-items\">► Câmera de estacionamento</li> <li class=\"txt-items\">► Controle de estabilidade</li> <li class=\"txt-items\">► Travas elétricas</li> <li class=\"txt-items\">► Freios ABS</li> <li class=\"txt-items\">...</li> </ul> <p class=\"txt-location\">Belo Horizonte - MG</p> </div> <div class=\"col-md-3 value-card\"> <div class=\"value\"> <p class=\"txt-value\">R$ 346.000</p> </div> </div> </div> <div class=\"well card\"> <div class=\"col-md-3 image-card\"> <img width=\"220\" height=\"155\" alt=\"Foto\" src=\"https://caelum-online-public.s3.amazonaws.com/1381-scraping/01/img-cars/alfa/alfa-1823056__340.jpg\"> </div> <div class=\"col-md-6 body-card\"> <p class=\"txt-name inline\">ALFA</p> <p class=\"txt-category badge badge-secondary inline\">USADO</p> <p class=\"txt-motor\">Motor 1.8 16v</p> <p class=\"txt-description\">Ano 2004 - 19.722 km</p> <ul class=\"lst-items\"> <li class=\"txt-items\">► Central multimídia</li> <li class=\"txt-items\">► Bancos de couro</li> <li class=\"txt-items\">► Rodas de liga</li> <li class=\"txt-items\">► Câmera de estacionamento</li> <li class=\"txt-items\">...</li> </ul> <p class=\"txt-location\">Rio de Janeiro - RJ</p> </div> <div class=\"col-md-3 value-card\"> <div class=\"value\"> <p class=\"txt-value\">R$ 480.000</p> </div> </div> </div> <div class=\"well card\"> <div class=\"col-md-3 image-card\"> <img width=\"220\" height=\"155\" alt=\"Foto\" src=\"https://caelum-online-public.s3.amazonaws.com/1381-scraping/01/img-cars/puech/puech-4055386__340.jpg\"> </div> <div class=\"col-md-6 body-card\"> <p class=\"txt-name inline\">PUECH</p> <p class=\"txt-category badge badge-secondary inline\">USADO</p> <p class=\"txt-motor\">Motor Diesel V8</p> <p class=\"txt-description\">Ano 1992 - 34.335 km</p> <ul class=\"lst-items\"> <li class=\"txt-items\">► Bancos de couro</li> <li class=\"txt-items\">► Freios ABS</li> <li class=\"txt-items\">► Rodas de liga</li> <li class=\"txt-items\">► Câmbio automático</li> <li class=\"txt-items\">...</li> </ul> <p class=\"txt-location\">São Paulo - SP</p> </div> <div class=\"col-md-3 value-card\"> <div class=\"value\"> <p class=\"txt-value\">R$ 133.000</p> </div> </div> </div> <div class=\"well card\"> <div class=\"col-md-3 image-card\"> <img width=\"220\" height=\"155\" alt=\"Foto\" src=\"https://caelum-online-public.s3.amazonaws.com/1381-scraping/01/img-cars/lamborghini-murcielago/lamborghini-murcielago-2872974__340.jpg\"> </div> <div class=\"col-md-6 body-card\"> <p class=\"txt-name inline\">LAMBORGHINI MURCIELAGO</p> <p class=\"txt-category badge badge-secondary inline\">USADO</p> <p class=\"txt-motor\">Motor 1.0 8v</p> <p class=\"txt-description\">Ano 1991 - 464 km</p> <ul class=\"lst-items\"> <li class=\"txt-items\">► Central multimídia</li> <li class=\"txt-items\">► Teto panorâmico</li> <li class=\"txt-items\">► Sensor crepuscular</li> <li class=\"txt-items\">► Piloto automático</li> <li class=\"txt-items\">...</li> </ul> <p class=\"txt-location\">Belo Horizonte - MG</p> </div> <div class=\"col-md-3 value-card\"> <div class=\"value\"> <p class=\"txt-value\">R$ 175.000</p> </div> </div> </div> <div class=\"well card\"> <div class=\"col-md-3 image-card\"> <img width=\"220\" height=\"155\" alt=\"Foto\" src=\"https://caelum-online-public.s3.amazonaws.com/1381-scraping/01/img-cars/aston-martin/aston-martin-2977916__340.jpg\"> </div> <div class=\"col-md-6 body-card\"> <p class=\"txt-name inline\">ASTON MARTIN</p> <p class=\"txt-category badge badge-secondary inline\">USADO</p> <p class=\"txt-opportunity badge badge-danger inline\">OPORTUNIDADE</p> <p class=\"txt-motor\">Motor Diesel V6</p> <p class=\"txt-description\">Ano 2004 - 50.189 km</p> <ul class=\"lst-items\"> <li class=\"txt-items\">► Painel digital</li> <li class=\"txt-items\">► Controle de tração</li> <li class=\"txt-items\">► Teto panorâmico</li> <li class=\"txt-items\">► Central multimídia</li> <li class=\"txt-items\">...</li> </ul> <p class=\"txt-location\">Belo Horizonte - MG</p> </div> <div class=\"col-md-3 value-card\"> <div class=\"value\"> <p class=\"txt-value\">R$ 239.000</p> </div> </div> </div> <div class=\"well card\"> <div class=\"col-md-3 image-card\"> <img width=\"220\" height=\"155\" alt=\"Foto\" src=\"https://caelum-online-public.s3.amazonaws.com/1381-scraping/01/img-cars/tvr/tvr-2943925__340.jpg\"> </div> <div class=\"col-md-6 body-card\"> <p class=\"txt-name inline\">TVR</p> <p class=\"txt-category badge badge-secondary inline\">USADO</p> <p class=\"txt-motor\">Motor 4.0 Turbo</p> <p class=\"txt-description\">Ano 2014 - 17.778 km</p> <ul class=\"lst-items\"> <li class=\"txt-items\">► 4 X 4</li> <li class=\"txt-items\">► Teto panorâmico</li> <li class=\"txt-items\">► Central multimídia</li> <li class=\"txt-items\">► Controle de estabilidade</li> <li class=\"txt-items\">...</li> </ul> <p class=\"txt-location\">Belo Horizonte - MG</p> </div> <div class=\"col-md-3 value-card\"> <div class=\"value\"> <p class=\"txt-value\">R$ 115.000</p> </div> </div> </div> <div class=\"well card\"> <div class=\"col-md-3 image-card\"> <img width=\"220\" height=\"155\" alt=\"Foto\" src=\"https://caelum-online-public.s3.amazonaws.com/1381-scraping/01/img-cars/excalibur/excalibur-2916730__340.jpg\"> </div> <div class=\"col-md-6 body-card\"> <p class=\"txt-name inline\">EXCALIBUR</p> <p class=\"txt-category badge badge-secondary inline\">USADO</p> <p class=\"txt-motor\">Motor 3.0 32v</p> <p class=\"txt-description\">Ano 2009 - 81.251 km</p> <ul class=\"lst-items\"> <li class=\"txt-items\">► Painel digital</li> <li class=\"txt-items\">► Câmbio automático</li> <li class=\"txt-items\">► Sensor de chuva</li> <li class=\"txt-items\">► Travas elétricas</li> <li class=\"txt-items\">...</li> </ul> <p class=\"txt-location\">Rio de Janeiro - RJ</p> </div> <div class=\"col-md-3 value-card\"> <div class=\"value\"> <p class=\"txt-value\">R$ 114.000</p> </div> </div> </div> <div class=\"well card\"> <div class=\"col-md-3 image-card\"> <img width=\"220\" height=\"155\" alt=\"Foto\" src=\"https://caelum-online-public.s3.amazonaws.com/1381-scraping/01/img-cars/mclaren/mclaren-2855240__340.jpg\"> </div> <div class=\"col-md-6 body-card\"> <p class=\"txt-name inline\">MCLAREN</p> <p class=\"txt-category badge badge-secondary inline\">NOVO</p> <p class=\"txt-motor\">Motor Diesel</p> <p class=\"txt-description\">Ano 2019 - 0 km</p> <ul class=\"lst-items\"> <li class=\"txt-items\">► Central multimídia</li> <li class=\"txt-items\">► Câmera de estacionamento</li> <li class=\"txt-items\">► Câmbio automático</li> <li class=\"txt-items\">► Ar condicionado</li> <li class=\"txt-items\">...</li> </ul> <p class=\"txt-location\">São Paulo - SP</p> </div> <div class=\"col-md-3 value-card\"> <div class=\"value\"> <p class=\"txt-value\">R$ 75.000</p> </div> </div> </div> <div class=\"well card\"> <div class=\"col-md-3 image-card\"> <img width=\"220\" height=\"155\" alt=\"Foto\" src=\"https://caelum-online-public.s3.amazonaws.com/1381-scraping/01/img-cars/toyota/toyota-3245397__340.jpg\"> </div> <div class=\"col-md-6 body-card\"> <p class=\"txt-name inline\">TOYOTA</p> <p class=\"txt-category badge badge-secondary inline\">USADO</p> <p class=\"txt-opportunity badge badge-danger inline\">OPORTUNIDADE</p> <p class=\"txt-motor\">Motor 4.0 Turbo</p> <p class=\"txt-description\">Ano 1999 - 12.536 km</p> <ul class=\"lst-items\"> <li class=\"txt-items\">► Bancos de couro</li> <li class=\"txt-items\">► Freios ABS</li> <li class=\"txt-items\">► Piloto automático</li> <li class=\"txt-items\">► Controle de estabilidade</li> <li class=\"txt-items\">...</li> </ul> <p class=\"txt-location\">São Paulo - SP</p> </div> <div class=\"col-md-3 value-card\"> <div class=\"value\"> <p class=\"txt-value\">R$ 117.000</p> </div> </div> </div> </div> <div class=\"type-select\">246 veículos encontrados</div> <div class=\"container-pagination\" style=\"float: right\"> <span class=\"info-pages\">Página 1 de 25</span> </div> </div> </div> </div> </div> </div> <footer> <nav class=\"navbar navbar-inverse\"> <div class=\"container\" style=\"margin-bottom: 10px;\"> <div class=\"navbar\"> <a href=\"./index.php\" class=\"navbar-brand\" title=\"Alura Motors\"> <img src=\"img/alura-logo.svg\" class=\"d-inline-block align-top\" alt=\"Alura\">Motors </a> <p style=\"color: #fff; text-align: center; margin-top: 40px;\">Aplicação para treinamento de web scraping</p> </div> </div> </nav> </footer> </div> </body> </html>'"
            ],
            "application/vnd.google.colaboratory.intrinsic+json": {
              "type": "string"
            }
          },
          "metadata": {},
          "execution_count": 91
        }
      ],
      "source": [
        "#junto novamente com a função join separando pelo espaço \n",
        "\" \".join(html.split())"
      ]
    },
    {
      "cell_type": "markdown",
      "metadata": {
        "id": "-pY3cvIDEVWL"
      },
      "source": [
        "### Eliminando os espaços em branco entre as TAGS"
      ]
    },
    {
      "cell_type": "code",
      "execution_count": 92,
      "metadata": {
        "scrolled": true,
        "id": "RR-X14NpEVWL",
        "colab": {
          "base_uri": "https://localhost:8080/",
          "height": 0
        },
        "outputId": "fb5dc3ee-6411-48d3-953e-32a7fd550700"
      },
      "outputs": [
        {
          "output_type": "execute_result",
          "data": {
            "text/plain": [
              "'<!DOCTYPE html><html lang=\"pt-br\"><head><meta charset=\"utf-8\"><meta name=\"viewport\" content=\"width=device-width, initial-scale=1, shrink-to-fit=no\"><title>Alura Motors</title><style> /*Regra para a animacao*/ @keyframes spin { 0% { transform: rotate(0deg); } 100% { transform: rotate(360deg); } } /*Mudando o tamanho do icone de resposta*/ div.glyphicon { color:#6B8E23; font-size: 38px; } /*Classe que mostra a animacao \\'spin\\'*/ .loader { border: 16px solid #f3f3f3; border-radius: 50%; border-top: 16px solid #3498db; width: 80px; height: 80px; -webkit-animation: spin 2s linear infinite; animation: spin 2s linear infinite; } </style><link rel=\"stylesheet\" href=\"https://maxcdn.bootstrapcdn.com/bootstrap/3.3.7/css/bootstrap.min.css\" integrity=\"sha384-BVYiiSIFeK1dGmJRAkycuHAHRg32OmUcww7on3RYdg4Va+PmSTsz/K68vbdEjh4u\" crossorigin=\"anonymous\"><link rel=\"stylesheet\" href=\"css/styles.css\" media=\"all\"><script src=\"https://code.jquery.com/jquery-1.12.4.js\"></script><script src=\"https://maxcdn.bootstrapcdn.com/bootstrap/3.3.7/js/bootstrap.min.js\" integrity=\"sha384-Tc5IQib027qvyjSMfHjOMaLkfuWVxZxUPnCJA7l2mCWNIpG9mGCD8wGNIcPD7Txa\" crossorigin=\"anonymous\"></script><script type=\"text/javascript\" src=\"js/index.js\"></script><script> requisitar(\"https://alura-scraping.herokuapp.com/produtos?_page=\"+1+\"&_limit=10\") </script></head><body cz-shortcut-listen=\"true\"><noscript>You need to enable JavaScript to run this app.</noscript><div class=\"modal fade\" data-backdrop=\"static\" id=\"loadingModal\" tabindex=\"-1\" role=\"dialog\" aria-labelledby=\"loadingModal_label\"><div class=\"modal-dialog\" role=\"document\"><div class=\"modal-content\"><div class=\"modal-header\"><h5 class=\"modal-title\" id=\"loadingModal_label\"><span class=\"glyphicon glyphicon-refresh\"></span>Aguarde... </h5></div><div class=\"modal-body\"><div class=\\'alert\\' role=\\'alert\\'><center><div class=\"loader\" id=\"loader\"></div><br><h4><b id=\"loadingModal_content\"></b></h4></center></div></div></div></div></div><div id=\"root\"><header><nav class=\"navbar navbar-inverse\" style=\"margin-bottom: 0;\"><div class=\"container\" style=\"margin-bottom: -20px;\"><div class=\"navbar\"><a href=\"./index.php\" class=\"navbar-brand\" title=\"Alura Motors\"><img src=\"img/alura-logo.svg\" class=\"d-inline-block align-top\" alt=\"Alura\">Motors </a><ul class=\"nav navbar-nav\" style=\"margin-top: 35px;\"><li><a href=\"./hello-world.php\">Hello World</a></li><li><a href=\"./index.php\">Anúncios</a></li></ul></div></div></nav></header><div class=\"container\"><h1 class=\"sub-header\">Veículos de Luxo Novos e Usados - Todas as Marcas</h1><div class=\"row\"><div class=\"col-md-12\"><div class=\"container\" style=\"width: 100%\"><div class=\"type-select\">246 veículos encontrados</div><div class=\"container-pagination\" style=\"float: right\"><span class=\"info-pages\">Página 1 de 25</span></div></div><div id=\"container-cards\" style=\"height: 100%\"><div class=\"well card\"><div class=\"col-md-3 image-card\"><img width=\"220\" height=\"155\" alt=\"Foto\" src=\"https://caelum-online-public.s3.amazonaws.com/1381-scraping/01/img-cars/lamborghini-aventador/lamborghini-aventador-2932196__340.jpg\"></div><div class=\"col-md-6 body-card\"><p class=\"txt-name inline\">LAMBORGHINI AVENTADOR</p><p class=\"txt-category badge badge-secondary inline\">USADO</p><p class=\"txt-motor\">Motor 1.8 16v</p><p class=\"txt-description\">Ano 1993 - 55.286 km</p><ul class=\"lst-items\"><li class=\"txt-items\">► 4 X 4</li><li class=\"txt-items\">► Câmera de estacionamento</li><li class=\"txt-items\">► Controle de tração</li><li class=\"txt-items\">► Sensor de estacionamento</li><li class=\"txt-items\">...</li></ul><p class=\"txt-location\">Belo Horizonte - MG</p></div><div class=\"col-md-3 value-card\"><div class=\"value\"><p class=\"txt-value\">R$ 338.000</p></div></div></div><div class=\"well card\"><div class=\"col-md-3 image-card\"><img width=\"220\" height=\"155\" alt=\"Foto\" src=\"https://caelum-online-public.s3.amazonaws.com/1381-scraping/01/img-cars/bmw-m2/bmw-m2-2970882__340.jpg\"></div><div class=\"col-md-6 body-card\"><p class=\"txt-name inline\">BMW M2</p><p class=\"txt-category badge badge-secondary inline\">USADO</p><p class=\"txt-motor\">Motor 3.0 32v</p><p class=\"txt-description\">Ano 2018 - 83.447 km</p><ul class=\"lst-items\"><li class=\"txt-items\">► Câmera de estacionamento</li><li class=\"txt-items\">► Controle de estabilidade</li><li class=\"txt-items\">► Travas elétricas</li><li class=\"txt-items\">► Freios ABS</li><li class=\"txt-items\">...</li></ul><p class=\"txt-location\">Belo Horizonte - MG</p></div><div class=\"col-md-3 value-card\"><div class=\"value\"><p class=\"txt-value\">R$ 346.000</p></div></div></div><div class=\"well card\"><div class=\"col-md-3 image-card\"><img width=\"220\" height=\"155\" alt=\"Foto\" src=\"https://caelum-online-public.s3.amazonaws.com/1381-scraping/01/img-cars/alfa/alfa-1823056__340.jpg\"></div><div class=\"col-md-6 body-card\"><p class=\"txt-name inline\">ALFA</p><p class=\"txt-category badge badge-secondary inline\">USADO</p><p class=\"txt-motor\">Motor 1.8 16v</p><p class=\"txt-description\">Ano 2004 - 19.722 km</p><ul class=\"lst-items\"><li class=\"txt-items\">► Central multimídia</li><li class=\"txt-items\">► Bancos de couro</li><li class=\"txt-items\">► Rodas de liga</li><li class=\"txt-items\">► Câmera de estacionamento</li><li class=\"txt-items\">...</li></ul><p class=\"txt-location\">Rio de Janeiro - RJ</p></div><div class=\"col-md-3 value-card\"><div class=\"value\"><p class=\"txt-value\">R$ 480.000</p></div></div></div><div class=\"well card\"><div class=\"col-md-3 image-card\"><img width=\"220\" height=\"155\" alt=\"Foto\" src=\"https://caelum-online-public.s3.amazonaws.com/1381-scraping/01/img-cars/puech/puech-4055386__340.jpg\"></div><div class=\"col-md-6 body-card\"><p class=\"txt-name inline\">PUECH</p><p class=\"txt-category badge badge-secondary inline\">USADO</p><p class=\"txt-motor\">Motor Diesel V8</p><p class=\"txt-description\">Ano 1992 - 34.335 km</p><ul class=\"lst-items\"><li class=\"txt-items\">► Bancos de couro</li><li class=\"txt-items\">► Freios ABS</li><li class=\"txt-items\">► Rodas de liga</li><li class=\"txt-items\">► Câmbio automático</li><li class=\"txt-items\">...</li></ul><p class=\"txt-location\">São Paulo - SP</p></div><div class=\"col-md-3 value-card\"><div class=\"value\"><p class=\"txt-value\">R$ 133.000</p></div></div></div><div class=\"well card\"><div class=\"col-md-3 image-card\"><img width=\"220\" height=\"155\" alt=\"Foto\" src=\"https://caelum-online-public.s3.amazonaws.com/1381-scraping/01/img-cars/lamborghini-murcielago/lamborghini-murcielago-2872974__340.jpg\"></div><div class=\"col-md-6 body-card\"><p class=\"txt-name inline\">LAMBORGHINI MURCIELAGO</p><p class=\"txt-category badge badge-secondary inline\">USADO</p><p class=\"txt-motor\">Motor 1.0 8v</p><p class=\"txt-description\">Ano 1991 - 464 km</p><ul class=\"lst-items\"><li class=\"txt-items\">► Central multimídia</li><li class=\"txt-items\">► Teto panorâmico</li><li class=\"txt-items\">► Sensor crepuscular</li><li class=\"txt-items\">► Piloto automático</li><li class=\"txt-items\">...</li></ul><p class=\"txt-location\">Belo Horizonte - MG</p></div><div class=\"col-md-3 value-card\"><div class=\"value\"><p class=\"txt-value\">R$ 175.000</p></div></div></div><div class=\"well card\"><div class=\"col-md-3 image-card\"><img width=\"220\" height=\"155\" alt=\"Foto\" src=\"https://caelum-online-public.s3.amazonaws.com/1381-scraping/01/img-cars/aston-martin/aston-martin-2977916__340.jpg\"></div><div class=\"col-md-6 body-card\"><p class=\"txt-name inline\">ASTON MARTIN</p><p class=\"txt-category badge badge-secondary inline\">USADO</p><p class=\"txt-opportunity badge badge-danger inline\">OPORTUNIDADE</p><p class=\"txt-motor\">Motor Diesel V6</p><p class=\"txt-description\">Ano 2004 - 50.189 km</p><ul class=\"lst-items\"><li class=\"txt-items\">► Painel digital</li><li class=\"txt-items\">► Controle de tração</li><li class=\"txt-items\">► Teto panorâmico</li><li class=\"txt-items\">► Central multimídia</li><li class=\"txt-items\">...</li></ul><p class=\"txt-location\">Belo Horizonte - MG</p></div><div class=\"col-md-3 value-card\"><div class=\"value\"><p class=\"txt-value\">R$ 239.000</p></div></div></div><div class=\"well card\"><div class=\"col-md-3 image-card\"><img width=\"220\" height=\"155\" alt=\"Foto\" src=\"https://caelum-online-public.s3.amazonaws.com/1381-scraping/01/img-cars/tvr/tvr-2943925__340.jpg\"></div><div class=\"col-md-6 body-card\"><p class=\"txt-name inline\">TVR</p><p class=\"txt-category badge badge-secondary inline\">USADO</p><p class=\"txt-motor\">Motor 4.0 Turbo</p><p class=\"txt-description\">Ano 2014 - 17.778 km</p><ul class=\"lst-items\"><li class=\"txt-items\">► 4 X 4</li><li class=\"txt-items\">► Teto panorâmico</li><li class=\"txt-items\">► Central multimídia</li><li class=\"txt-items\">► Controle de estabilidade</li><li class=\"txt-items\">...</li></ul><p class=\"txt-location\">Belo Horizonte - MG</p></div><div class=\"col-md-3 value-card\"><div class=\"value\"><p class=\"txt-value\">R$ 115.000</p></div></div></div><div class=\"well card\"><div class=\"col-md-3 image-card\"><img width=\"220\" height=\"155\" alt=\"Foto\" src=\"https://caelum-online-public.s3.amazonaws.com/1381-scraping/01/img-cars/excalibur/excalibur-2916730__340.jpg\"></div><div class=\"col-md-6 body-card\"><p class=\"txt-name inline\">EXCALIBUR</p><p class=\"txt-category badge badge-secondary inline\">USADO</p><p class=\"txt-motor\">Motor 3.0 32v</p><p class=\"txt-description\">Ano 2009 - 81.251 km</p><ul class=\"lst-items\"><li class=\"txt-items\">► Painel digital</li><li class=\"txt-items\">► Câmbio automático</li><li class=\"txt-items\">► Sensor de chuva</li><li class=\"txt-items\">► Travas elétricas</li><li class=\"txt-items\">...</li></ul><p class=\"txt-location\">Rio de Janeiro - RJ</p></div><div class=\"col-md-3 value-card\"><div class=\"value\"><p class=\"txt-value\">R$ 114.000</p></div></div></div><div class=\"well card\"><div class=\"col-md-3 image-card\"><img width=\"220\" height=\"155\" alt=\"Foto\" src=\"https://caelum-online-public.s3.amazonaws.com/1381-scraping/01/img-cars/mclaren/mclaren-2855240__340.jpg\"></div><div class=\"col-md-6 body-card\"><p class=\"txt-name inline\">MCLAREN</p><p class=\"txt-category badge badge-secondary inline\">NOVO</p><p class=\"txt-motor\">Motor Diesel</p><p class=\"txt-description\">Ano 2019 - 0 km</p><ul class=\"lst-items\"><li class=\"txt-items\">► Central multimídia</li><li class=\"txt-items\">► Câmera de estacionamento</li><li class=\"txt-items\">► Câmbio automático</li><li class=\"txt-items\">► Ar condicionado</li><li class=\"txt-items\">...</li></ul><p class=\"txt-location\">São Paulo - SP</p></div><div class=\"col-md-3 value-card\"><div class=\"value\"><p class=\"txt-value\">R$ 75.000</p></div></div></div><div class=\"well card\"><div class=\"col-md-3 image-card\"><img width=\"220\" height=\"155\" alt=\"Foto\" src=\"https://caelum-online-public.s3.amazonaws.com/1381-scraping/01/img-cars/toyota/toyota-3245397__340.jpg\"></div><div class=\"col-md-6 body-card\"><p class=\"txt-name inline\">TOYOTA</p><p class=\"txt-category badge badge-secondary inline\">USADO</p><p class=\"txt-opportunity badge badge-danger inline\">OPORTUNIDADE</p><p class=\"txt-motor\">Motor 4.0 Turbo</p><p class=\"txt-description\">Ano 1999 - 12.536 km</p><ul class=\"lst-items\"><li class=\"txt-items\">► Bancos de couro</li><li class=\"txt-items\">► Freios ABS</li><li class=\"txt-items\">► Piloto automático</li><li class=\"txt-items\">► Controle de estabilidade</li><li class=\"txt-items\">...</li></ul><p class=\"txt-location\">São Paulo - SP</p></div><div class=\"col-md-3 value-card\"><div class=\"value\"><p class=\"txt-value\">R$ 117.000</p></div></div></div></div><div class=\"type-select\">246 veículos encontrados</div><div class=\"container-pagination\" style=\"float: right\"><span class=\"info-pages\">Página 1 de 25</span></div></div></div></div></div></div><footer><nav class=\"navbar navbar-inverse\"><div class=\"container\" style=\"margin-bottom: 10px;\"><div class=\"navbar\"><a href=\"./index.php\" class=\"navbar-brand\" title=\"Alura Motors\"><img src=\"img/alura-logo.svg\" class=\"d-inline-block align-top\" alt=\"Alura\">Motors </a><p style=\"color: #fff; text-align: center; margin-top: 40px;\">Aplicação para treinamento de web scraping</p></div></div></nav></footer></div></body></html>'"
            ],
            "application/vnd.google.colaboratory.intrinsic+json": {
              "type": "string"
            }
          },
          "metadata": {},
          "execution_count": 92
        }
      ],
      "source": [
        "\" \".join(html.split()).replace('> <', '><')"
      ]
    },
    {
      "cell_type": "markdown",
      "metadata": {
        "id": "qSIRGXu5EVWM"
      },
      "source": [
        "### Função de tratamento de strings"
      ]
    },
    {
      "cell_type": "code",
      "execution_count": 93,
      "metadata": {
        "id": "YWHpx9RfEVWM"
      },
      "outputs": [],
      "source": [
        "#função unindo a limpeza e recebendo um input sendo ele o HTML \n",
        "def trata_html(input):\n",
        "  return \" \".join(input.split()).replace('> <', '><')"
      ]
    },
    {
      "cell_type": "code",
      "execution_count": 94,
      "metadata": {
        "id": "bOIUcFznEVWM"
      },
      "outputs": [],
      "source": [
        "#uso a função e salvo este RETURN em uma variável, sobreescrevendo a antiga variável html\n",
        "html = trata_html(html)"
      ]
    },
    {
      "cell_type": "code",
      "execution_count": 95,
      "metadata": {
        "scrolled": true,
        "id": "U05De11MEVWM",
        "colab": {
          "base_uri": "https://localhost:8080/",
          "height": 0
        },
        "outputId": "bf62c0db-caf2-4677-ae80-075c10a8039e"
      },
      "outputs": [
        {
          "output_type": "execute_result",
          "data": {
            "text/plain": [
              "'<!DOCTYPE html><html lang=\"pt-br\"><head><meta charset=\"utf-8\"><meta name=\"viewport\" content=\"width=device-width, initial-scale=1, shrink-to-fit=no\"><title>Alura Motors</title><style> /*Regra para a animacao*/ @keyframes spin { 0% { transform: rotate(0deg); } 100% { transform: rotate(360deg); } } /*Mudando o tamanho do icone de resposta*/ div.glyphicon { color:#6B8E23; font-size: 38px; } /*Classe que mostra a animacao \\'spin\\'*/ .loader { border: 16px solid #f3f3f3; border-radius: 50%; border-top: 16px solid #3498db; width: 80px; height: 80px; -webkit-animation: spin 2s linear infinite; animation: spin 2s linear infinite; } </style><link rel=\"stylesheet\" href=\"https://maxcdn.bootstrapcdn.com/bootstrap/3.3.7/css/bootstrap.min.css\" integrity=\"sha384-BVYiiSIFeK1dGmJRAkycuHAHRg32OmUcww7on3RYdg4Va+PmSTsz/K68vbdEjh4u\" crossorigin=\"anonymous\"><link rel=\"stylesheet\" href=\"css/styles.css\" media=\"all\"><script src=\"https://code.jquery.com/jquery-1.12.4.js\"></script><script src=\"https://maxcdn.bootstrapcdn.com/bootstrap/3.3.7/js/bootstrap.min.js\" integrity=\"sha384-Tc5IQib027qvyjSMfHjOMaLkfuWVxZxUPnCJA7l2mCWNIpG9mGCD8wGNIcPD7Txa\" crossorigin=\"anonymous\"></script><script type=\"text/javascript\" src=\"js/index.js\"></script><script> requisitar(\"https://alura-scraping.herokuapp.com/produtos?_page=\"+1+\"&_limit=10\") </script></head><body cz-shortcut-listen=\"true\"><noscript>You need to enable JavaScript to run this app.</noscript><div class=\"modal fade\" data-backdrop=\"static\" id=\"loadingModal\" tabindex=\"-1\" role=\"dialog\" aria-labelledby=\"loadingModal_label\"><div class=\"modal-dialog\" role=\"document\"><div class=\"modal-content\"><div class=\"modal-header\"><h5 class=\"modal-title\" id=\"loadingModal_label\"><span class=\"glyphicon glyphicon-refresh\"></span>Aguarde... </h5></div><div class=\"modal-body\"><div class=\\'alert\\' role=\\'alert\\'><center><div class=\"loader\" id=\"loader\"></div><br><h4><b id=\"loadingModal_content\"></b></h4></center></div></div></div></div></div><div id=\"root\"><header><nav class=\"navbar navbar-inverse\" style=\"margin-bottom: 0;\"><div class=\"container\" style=\"margin-bottom: -20px;\"><div class=\"navbar\"><a href=\"./index.php\" class=\"navbar-brand\" title=\"Alura Motors\"><img src=\"img/alura-logo.svg\" class=\"d-inline-block align-top\" alt=\"Alura\">Motors </a><ul class=\"nav navbar-nav\" style=\"margin-top: 35px;\"><li><a href=\"./hello-world.php\">Hello World</a></li><li><a href=\"./index.php\">Anúncios</a></li></ul></div></div></nav></header><div class=\"container\"><h1 class=\"sub-header\">Veículos de Luxo Novos e Usados - Todas as Marcas</h1><div class=\"row\"><div class=\"col-md-12\"><div class=\"container\" style=\"width: 100%\"><div class=\"type-select\">246 veículos encontrados</div><div class=\"container-pagination\" style=\"float: right\"><span class=\"info-pages\">Página 1 de 25</span></div></div><div id=\"container-cards\" style=\"height: 100%\"><div class=\"well card\"><div class=\"col-md-3 image-card\"><img width=\"220\" height=\"155\" alt=\"Foto\" src=\"https://caelum-online-public.s3.amazonaws.com/1381-scraping/01/img-cars/lamborghini-aventador/lamborghini-aventador-2932196__340.jpg\"></div><div class=\"col-md-6 body-card\"><p class=\"txt-name inline\">LAMBORGHINI AVENTADOR</p><p class=\"txt-category badge badge-secondary inline\">USADO</p><p class=\"txt-motor\">Motor 1.8 16v</p><p class=\"txt-description\">Ano 1993 - 55.286 km</p><ul class=\"lst-items\"><li class=\"txt-items\">► 4 X 4</li><li class=\"txt-items\">► Câmera de estacionamento</li><li class=\"txt-items\">► Controle de tração</li><li class=\"txt-items\">► Sensor de estacionamento</li><li class=\"txt-items\">...</li></ul><p class=\"txt-location\">Belo Horizonte - MG</p></div><div class=\"col-md-3 value-card\"><div class=\"value\"><p class=\"txt-value\">R$ 338.000</p></div></div></div><div class=\"well card\"><div class=\"col-md-3 image-card\"><img width=\"220\" height=\"155\" alt=\"Foto\" src=\"https://caelum-online-public.s3.amazonaws.com/1381-scraping/01/img-cars/bmw-m2/bmw-m2-2970882__340.jpg\"></div><div class=\"col-md-6 body-card\"><p class=\"txt-name inline\">BMW M2</p><p class=\"txt-category badge badge-secondary inline\">USADO</p><p class=\"txt-motor\">Motor 3.0 32v</p><p class=\"txt-description\">Ano 2018 - 83.447 km</p><ul class=\"lst-items\"><li class=\"txt-items\">► Câmera de estacionamento</li><li class=\"txt-items\">► Controle de estabilidade</li><li class=\"txt-items\">► Travas elétricas</li><li class=\"txt-items\">► Freios ABS</li><li class=\"txt-items\">...</li></ul><p class=\"txt-location\">Belo Horizonte - MG</p></div><div class=\"col-md-3 value-card\"><div class=\"value\"><p class=\"txt-value\">R$ 346.000</p></div></div></div><div class=\"well card\"><div class=\"col-md-3 image-card\"><img width=\"220\" height=\"155\" alt=\"Foto\" src=\"https://caelum-online-public.s3.amazonaws.com/1381-scraping/01/img-cars/alfa/alfa-1823056__340.jpg\"></div><div class=\"col-md-6 body-card\"><p class=\"txt-name inline\">ALFA</p><p class=\"txt-category badge badge-secondary inline\">USADO</p><p class=\"txt-motor\">Motor 1.8 16v</p><p class=\"txt-description\">Ano 2004 - 19.722 km</p><ul class=\"lst-items\"><li class=\"txt-items\">► Central multimídia</li><li class=\"txt-items\">► Bancos de couro</li><li class=\"txt-items\">► Rodas de liga</li><li class=\"txt-items\">► Câmera de estacionamento</li><li class=\"txt-items\">...</li></ul><p class=\"txt-location\">Rio de Janeiro - RJ</p></div><div class=\"col-md-3 value-card\"><div class=\"value\"><p class=\"txt-value\">R$ 480.000</p></div></div></div><div class=\"well card\"><div class=\"col-md-3 image-card\"><img width=\"220\" height=\"155\" alt=\"Foto\" src=\"https://caelum-online-public.s3.amazonaws.com/1381-scraping/01/img-cars/puech/puech-4055386__340.jpg\"></div><div class=\"col-md-6 body-card\"><p class=\"txt-name inline\">PUECH</p><p class=\"txt-category badge badge-secondary inline\">USADO</p><p class=\"txt-motor\">Motor Diesel V8</p><p class=\"txt-description\">Ano 1992 - 34.335 km</p><ul class=\"lst-items\"><li class=\"txt-items\">► Bancos de couro</li><li class=\"txt-items\">► Freios ABS</li><li class=\"txt-items\">► Rodas de liga</li><li class=\"txt-items\">► Câmbio automático</li><li class=\"txt-items\">...</li></ul><p class=\"txt-location\">São Paulo - SP</p></div><div class=\"col-md-3 value-card\"><div class=\"value\"><p class=\"txt-value\">R$ 133.000</p></div></div></div><div class=\"well card\"><div class=\"col-md-3 image-card\"><img width=\"220\" height=\"155\" alt=\"Foto\" src=\"https://caelum-online-public.s3.amazonaws.com/1381-scraping/01/img-cars/lamborghini-murcielago/lamborghini-murcielago-2872974__340.jpg\"></div><div class=\"col-md-6 body-card\"><p class=\"txt-name inline\">LAMBORGHINI MURCIELAGO</p><p class=\"txt-category badge badge-secondary inline\">USADO</p><p class=\"txt-motor\">Motor 1.0 8v</p><p class=\"txt-description\">Ano 1991 - 464 km</p><ul class=\"lst-items\"><li class=\"txt-items\">► Central multimídia</li><li class=\"txt-items\">► Teto panorâmico</li><li class=\"txt-items\">► Sensor crepuscular</li><li class=\"txt-items\">► Piloto automático</li><li class=\"txt-items\">...</li></ul><p class=\"txt-location\">Belo Horizonte - MG</p></div><div class=\"col-md-3 value-card\"><div class=\"value\"><p class=\"txt-value\">R$ 175.000</p></div></div></div><div class=\"well card\"><div class=\"col-md-3 image-card\"><img width=\"220\" height=\"155\" alt=\"Foto\" src=\"https://caelum-online-public.s3.amazonaws.com/1381-scraping/01/img-cars/aston-martin/aston-martin-2977916__340.jpg\"></div><div class=\"col-md-6 body-card\"><p class=\"txt-name inline\">ASTON MARTIN</p><p class=\"txt-category badge badge-secondary inline\">USADO</p><p class=\"txt-opportunity badge badge-danger inline\">OPORTUNIDADE</p><p class=\"txt-motor\">Motor Diesel V6</p><p class=\"txt-description\">Ano 2004 - 50.189 km</p><ul class=\"lst-items\"><li class=\"txt-items\">► Painel digital</li><li class=\"txt-items\">► Controle de tração</li><li class=\"txt-items\">► Teto panorâmico</li><li class=\"txt-items\">► Central multimídia</li><li class=\"txt-items\">...</li></ul><p class=\"txt-location\">Belo Horizonte - MG</p></div><div class=\"col-md-3 value-card\"><div class=\"value\"><p class=\"txt-value\">R$ 239.000</p></div></div></div><div class=\"well card\"><div class=\"col-md-3 image-card\"><img width=\"220\" height=\"155\" alt=\"Foto\" src=\"https://caelum-online-public.s3.amazonaws.com/1381-scraping/01/img-cars/tvr/tvr-2943925__340.jpg\"></div><div class=\"col-md-6 body-card\"><p class=\"txt-name inline\">TVR</p><p class=\"txt-category badge badge-secondary inline\">USADO</p><p class=\"txt-motor\">Motor 4.0 Turbo</p><p class=\"txt-description\">Ano 2014 - 17.778 km</p><ul class=\"lst-items\"><li class=\"txt-items\">► 4 X 4</li><li class=\"txt-items\">► Teto panorâmico</li><li class=\"txt-items\">► Central multimídia</li><li class=\"txt-items\">► Controle de estabilidade</li><li class=\"txt-items\">...</li></ul><p class=\"txt-location\">Belo Horizonte - MG</p></div><div class=\"col-md-3 value-card\"><div class=\"value\"><p class=\"txt-value\">R$ 115.000</p></div></div></div><div class=\"well card\"><div class=\"col-md-3 image-card\"><img width=\"220\" height=\"155\" alt=\"Foto\" src=\"https://caelum-online-public.s3.amazonaws.com/1381-scraping/01/img-cars/excalibur/excalibur-2916730__340.jpg\"></div><div class=\"col-md-6 body-card\"><p class=\"txt-name inline\">EXCALIBUR</p><p class=\"txt-category badge badge-secondary inline\">USADO</p><p class=\"txt-motor\">Motor 3.0 32v</p><p class=\"txt-description\">Ano 2009 - 81.251 km</p><ul class=\"lst-items\"><li class=\"txt-items\">► Painel digital</li><li class=\"txt-items\">► Câmbio automático</li><li class=\"txt-items\">► Sensor de chuva</li><li class=\"txt-items\">► Travas elétricas</li><li class=\"txt-items\">...</li></ul><p class=\"txt-location\">Rio de Janeiro - RJ</p></div><div class=\"col-md-3 value-card\"><div class=\"value\"><p class=\"txt-value\">R$ 114.000</p></div></div></div><div class=\"well card\"><div class=\"col-md-3 image-card\"><img width=\"220\" height=\"155\" alt=\"Foto\" src=\"https://caelum-online-public.s3.amazonaws.com/1381-scraping/01/img-cars/mclaren/mclaren-2855240__340.jpg\"></div><div class=\"col-md-6 body-card\"><p class=\"txt-name inline\">MCLAREN</p><p class=\"txt-category badge badge-secondary inline\">NOVO</p><p class=\"txt-motor\">Motor Diesel</p><p class=\"txt-description\">Ano 2019 - 0 km</p><ul class=\"lst-items\"><li class=\"txt-items\">► Central multimídia</li><li class=\"txt-items\">► Câmera de estacionamento</li><li class=\"txt-items\">► Câmbio automático</li><li class=\"txt-items\">► Ar condicionado</li><li class=\"txt-items\">...</li></ul><p class=\"txt-location\">São Paulo - SP</p></div><div class=\"col-md-3 value-card\"><div class=\"value\"><p class=\"txt-value\">R$ 75.000</p></div></div></div><div class=\"well card\"><div class=\"col-md-3 image-card\"><img width=\"220\" height=\"155\" alt=\"Foto\" src=\"https://caelum-online-public.s3.amazonaws.com/1381-scraping/01/img-cars/toyota/toyota-3245397__340.jpg\"></div><div class=\"col-md-6 body-card\"><p class=\"txt-name inline\">TOYOTA</p><p class=\"txt-category badge badge-secondary inline\">USADO</p><p class=\"txt-opportunity badge badge-danger inline\">OPORTUNIDADE</p><p class=\"txt-motor\">Motor 4.0 Turbo</p><p class=\"txt-description\">Ano 1999 - 12.536 km</p><ul class=\"lst-items\"><li class=\"txt-items\">► Bancos de couro</li><li class=\"txt-items\">► Freios ABS</li><li class=\"txt-items\">► Piloto automático</li><li class=\"txt-items\">► Controle de estabilidade</li><li class=\"txt-items\">...</li></ul><p class=\"txt-location\">São Paulo - SP</p></div><div class=\"col-md-3 value-card\"><div class=\"value\"><p class=\"txt-value\">R$ 117.000</p></div></div></div></div><div class=\"type-select\">246 veículos encontrados</div><div class=\"container-pagination\" style=\"float: right\"><span class=\"info-pages\">Página 1 de 25</span></div></div></div></div></div></div><footer><nav class=\"navbar navbar-inverse\"><div class=\"container\" style=\"margin-bottom: 10px;\"><div class=\"navbar\"><a href=\"./index.php\" class=\"navbar-brand\" title=\"Alura Motors\"><img src=\"img/alura-logo.svg\" class=\"d-inline-block align-top\" alt=\"Alura\">Motors </a><p style=\"color: #fff; text-align: center; margin-top: 40px;\">Aplicação para treinamento de web scraping</p></div></div></nav></footer></div></body></html>'"
            ],
            "application/vnd.google.colaboratory.intrinsic+json": {
              "type": "string"
            }
          },
          "metadata": {},
          "execution_count": 95
        }
      ],
      "source": [
        "html"
      ]
    },
    {
      "cell_type": "code",
      "metadata": {
        "id": "BsfhL3sZFRZu"
      },
      "source": [
        "\n",
        "# <font color=green>3. INTRODUÇÃO AO BEAUTIFULSOUP"
      ],
      "execution_count": 96,
      "outputs": []
    },
    {
      "cell_type": "code",
      "metadata": {
        "id": "547UWjrpEVWM"
      },
      "source": [
        "# 3.1. HTML da nossa página"
      ],
      "execution_count": 97,
      "outputs": []
    },
    {
      "cell_type": "markdown",
      "metadata": {
        "id": "uxKc3ldFEVWN"
      },
      "source": [
        "**HTML** (*HyperText Markup Language*) é uma linguagem de marcação composta por **tags** que deteminam o papel que cada parte do documento vai assumir. As **tags** são formadas pelo seu nome e atributos. Os atributos servem para configurar e também modificar as características padrões de uma **tag**.\n",
        "\n",
        "## Estrutura básica\n",
        "\n",
        "```html\n",
        "<html>\n",
        "    <head>\n",
        "        <meta charset=\"utf-8\" />\n",
        "        <title>Alura Motors</title>\n",
        "    </head>\n",
        "    <body>\n",
        "        <div id=\"container\">\n",
        "            <h1>Alura</h1>\n",
        "            <h2 class=\"formato\">Cursos de Tecnologia</h2>\n",
        "            <p>testes para extração. Projeto Pedro.</p>\n",
        "            <a href=\"https://www.alura.com.br/\">Clique aqui</a>\n",
        "        </div>\n",
        "    </body>\n",
        "</html>\n",
        "```\n",
        "\n",
        "```<html>``` - determina o início do documento.\n",
        "\n",
        "```<head>``` - cabeçalho. Contém informações e configurações do documento.\n",
        "\n",
        "```<body>``` - é o corpo do documento, onde todo o conteúdo é colocado. Esta é a parte visível em um navegador.\n",
        "\n",
        "## Tags mais comuns\n",
        "\n",
        "```<div>``` - define uma divisão da página. Pode ser formatada de diversas maneiras.\n",
        "\n",
        "```<h1>, <h2>, <h3>, <h4>, <h5>, <h6>``` - marcadores de títulos.\n",
        "\n",
        "```<p>``` - marcador de parágrafo.\n",
        "\n",
        "```<a>``` - hiperlink.\n",
        "\n",
        "```<img>``` - exibição de imagens.\n",
        "\n",
        "```<table>``` - definição de tabelas.\n",
        "\n",
        "```<ul>, <li>``` - definição de listas.\n"
      ]
    },
    {
      "cell_type": "markdown",
      "source": [
        "<html>\n",
        "    <head>\n",
        "        <meta charset=\"utf-8\" />\n",
        "        <title>Alura Motors</title>\n",
        "    </head>\n",
        "    <body>\n",
        "        <div id=\"container\">\n",
        "            <h1>Alura</h1>\n",
        "            <h2 class=\"formato\">Cursos de Tecnologia</h2>\n",
        "            <p>Você vai estudar, praticar, discutir e aprender.</p>\n",
        "            <a href=\"https://www.alura.com.br/\">Clique aqui</a>\n",
        "        </div>\n",
        "    </body>\n",
        "</html>"
      ],
      "metadata": {
        "id": "rmuaSpaU5Atk"
      }
    },
    {
      "cell_type": "markdown",
      "metadata": {
        "id": "FlQIC6u7EVWN"
      },
      "source": [
        "# 3.2. Criando um objeto BeautifulSoup"
      ]
    },
    {
      "cell_type": "markdown",
      "metadata": {
        "id": "HwmvpHn2EVWN"
      },
      "source": [
        "## https://www.crummy.com/software/BeautifulSoup/\n",
        "\n",
        "### Sobre parser ver: https://www.crummy.com/software/BeautifulSoup/bs4/doc/#parser-installation"
      ]
    },
    {
      "cell_type": "code",
      "source": [
        "soup = BeautifulSoup(html, 'html.parser')\n",
        "soup"
      ],
      "metadata": {
        "colab": {
          "base_uri": "https://localhost:8080/"
        },
        "id": "VReKxpa46EQA",
        "outputId": "5dd3e12a-de51-445b-9e29-8237fb75ebca"
      },
      "execution_count": 98,
      "outputs": [
        {
          "output_type": "execute_result",
          "data": {
            "text/plain": [
              "<!DOCTYPE html>\n",
              "<html lang=\"pt-br\"><head><meta charset=\"utf-8\"/><meta content=\"width=device-width, initial-scale=1, shrink-to-fit=no\" name=\"viewport\"/><title>Alura Motors</title><style> /*Regra para a animacao*/ @keyframes spin { 0% { transform: rotate(0deg); } 100% { transform: rotate(360deg); } } /*Mudando o tamanho do icone de resposta*/ div.glyphicon { color:#6B8E23; font-size: 38px; } /*Classe que mostra a animacao 'spin'*/ .loader { border: 16px solid #f3f3f3; border-radius: 50%; border-top: 16px solid #3498db; width: 80px; height: 80px; -webkit-animation: spin 2s linear infinite; animation: spin 2s linear infinite; } </style><link crossorigin=\"anonymous\" href=\"https://maxcdn.bootstrapcdn.com/bootstrap/3.3.7/css/bootstrap.min.css\" integrity=\"sha384-BVYiiSIFeK1dGmJRAkycuHAHRg32OmUcww7on3RYdg4Va+PmSTsz/K68vbdEjh4u\" rel=\"stylesheet\"/><link href=\"css/styles.css\" media=\"all\" rel=\"stylesheet\"/><script src=\"https://code.jquery.com/jquery-1.12.4.js\"></script><script crossorigin=\"anonymous\" integrity=\"sha384-Tc5IQib027qvyjSMfHjOMaLkfuWVxZxUPnCJA7l2mCWNIpG9mGCD8wGNIcPD7Txa\" src=\"https://maxcdn.bootstrapcdn.com/bootstrap/3.3.7/js/bootstrap.min.js\"></script><script src=\"js/index.js\" type=\"text/javascript\"></script><script> requisitar(\"https://alura-scraping.herokuapp.com/produtos?_page=\"+1+\"&_limit=10\") </script></head><body cz-shortcut-listen=\"true\"><noscript>You need to enable JavaScript to run this app.</noscript><div aria-labelledby=\"loadingModal_label\" class=\"modal fade\" data-backdrop=\"static\" id=\"loadingModal\" role=\"dialog\" tabindex=\"-1\"><div class=\"modal-dialog\" role=\"document\"><div class=\"modal-content\"><div class=\"modal-header\"><h5 class=\"modal-title\" id=\"loadingModal_label\"><span class=\"glyphicon glyphicon-refresh\"></span>Aguarde... </h5></div><div class=\"modal-body\"><div class=\"alert\" role=\"alert\"><center><div class=\"loader\" id=\"loader\"></div><br/><h4><b id=\"loadingModal_content\"></b></h4></center></div></div></div></div></div><div id=\"root\"><header><nav class=\"navbar navbar-inverse\" style=\"margin-bottom: 0;\"><div class=\"container\" style=\"margin-bottom: -20px;\"><div class=\"navbar\"><a class=\"navbar-brand\" href=\"./index.php\" title=\"Alura Motors\"><img alt=\"Alura\" class=\"d-inline-block align-top\" src=\"img/alura-logo.svg\"/>Motors </a><ul class=\"nav navbar-nav\" style=\"margin-top: 35px;\"><li><a href=\"./hello-world.php\">Hello World</a></li><li><a href=\"./index.php\">Anúncios</a></li></ul></div></div></nav></header><div class=\"container\"><h1 class=\"sub-header\">Veículos de Luxo Novos e Usados - Todas as Marcas</h1><div class=\"row\"><div class=\"col-md-12\"><div class=\"container\" style=\"width: 100%\"><div class=\"type-select\">246 veículos encontrados</div><div class=\"container-pagination\" style=\"float: right\"><span class=\"info-pages\">Página 1 de 25</span></div></div><div id=\"container-cards\" style=\"height: 100%\"><div class=\"well card\"><div class=\"col-md-3 image-card\"><img alt=\"Foto\" height=\"155\" src=\"https://caelum-online-public.s3.amazonaws.com/1381-scraping/01/img-cars/lamborghini-aventador/lamborghini-aventador-2932196__340.jpg\" width=\"220\"/></div><div class=\"col-md-6 body-card\"><p class=\"txt-name inline\">LAMBORGHINI AVENTADOR</p><p class=\"txt-category badge badge-secondary inline\">USADO</p><p class=\"txt-motor\">Motor 1.8 16v</p><p class=\"txt-description\">Ano 1993 - 55.286 km</p><ul class=\"lst-items\"><li class=\"txt-items\">► 4 X 4</li><li class=\"txt-items\">► Câmera de estacionamento</li><li class=\"txt-items\">► Controle de tração</li><li class=\"txt-items\">► Sensor de estacionamento</li><li class=\"txt-items\">...</li></ul><p class=\"txt-location\">Belo Horizonte - MG</p></div><div class=\"col-md-3 value-card\"><div class=\"value\"><p class=\"txt-value\">R$ 338.000</p></div></div></div><div class=\"well card\"><div class=\"col-md-3 image-card\"><img alt=\"Foto\" height=\"155\" src=\"https://caelum-online-public.s3.amazonaws.com/1381-scraping/01/img-cars/bmw-m2/bmw-m2-2970882__340.jpg\" width=\"220\"/></div><div class=\"col-md-6 body-card\"><p class=\"txt-name inline\">BMW M2</p><p class=\"txt-category badge badge-secondary inline\">USADO</p><p class=\"txt-motor\">Motor 3.0 32v</p><p class=\"txt-description\">Ano 2018 - 83.447 km</p><ul class=\"lst-items\"><li class=\"txt-items\">► Câmera de estacionamento</li><li class=\"txt-items\">► Controle de estabilidade</li><li class=\"txt-items\">► Travas elétricas</li><li class=\"txt-items\">► Freios ABS</li><li class=\"txt-items\">...</li></ul><p class=\"txt-location\">Belo Horizonte - MG</p></div><div class=\"col-md-3 value-card\"><div class=\"value\"><p class=\"txt-value\">R$ 346.000</p></div></div></div><div class=\"well card\"><div class=\"col-md-3 image-card\"><img alt=\"Foto\" height=\"155\" src=\"https://caelum-online-public.s3.amazonaws.com/1381-scraping/01/img-cars/alfa/alfa-1823056__340.jpg\" width=\"220\"/></div><div class=\"col-md-6 body-card\"><p class=\"txt-name inline\">ALFA</p><p class=\"txt-category badge badge-secondary inline\">USADO</p><p class=\"txt-motor\">Motor 1.8 16v</p><p class=\"txt-description\">Ano 2004 - 19.722 km</p><ul class=\"lst-items\"><li class=\"txt-items\">► Central multimídia</li><li class=\"txt-items\">► Bancos de couro</li><li class=\"txt-items\">► Rodas de liga</li><li class=\"txt-items\">► Câmera de estacionamento</li><li class=\"txt-items\">...</li></ul><p class=\"txt-location\">Rio de Janeiro - RJ</p></div><div class=\"col-md-3 value-card\"><div class=\"value\"><p class=\"txt-value\">R$ 480.000</p></div></div></div><div class=\"well card\"><div class=\"col-md-3 image-card\"><img alt=\"Foto\" height=\"155\" src=\"https://caelum-online-public.s3.amazonaws.com/1381-scraping/01/img-cars/puech/puech-4055386__340.jpg\" width=\"220\"/></div><div class=\"col-md-6 body-card\"><p class=\"txt-name inline\">PUECH</p><p class=\"txt-category badge badge-secondary inline\">USADO</p><p class=\"txt-motor\">Motor Diesel V8</p><p class=\"txt-description\">Ano 1992 - 34.335 km</p><ul class=\"lst-items\"><li class=\"txt-items\">► Bancos de couro</li><li class=\"txt-items\">► Freios ABS</li><li class=\"txt-items\">► Rodas de liga</li><li class=\"txt-items\">► Câmbio automático</li><li class=\"txt-items\">...</li></ul><p class=\"txt-location\">São Paulo - SP</p></div><div class=\"col-md-3 value-card\"><div class=\"value\"><p class=\"txt-value\">R$ 133.000</p></div></div></div><div class=\"well card\"><div class=\"col-md-3 image-card\"><img alt=\"Foto\" height=\"155\" src=\"https://caelum-online-public.s3.amazonaws.com/1381-scraping/01/img-cars/lamborghini-murcielago/lamborghini-murcielago-2872974__340.jpg\" width=\"220\"/></div><div class=\"col-md-6 body-card\"><p class=\"txt-name inline\">LAMBORGHINI MURCIELAGO</p><p class=\"txt-category badge badge-secondary inline\">USADO</p><p class=\"txt-motor\">Motor 1.0 8v</p><p class=\"txt-description\">Ano 1991 - 464 km</p><ul class=\"lst-items\"><li class=\"txt-items\">► Central multimídia</li><li class=\"txt-items\">► Teto panorâmico</li><li class=\"txt-items\">► Sensor crepuscular</li><li class=\"txt-items\">► Piloto automático</li><li class=\"txt-items\">...</li></ul><p class=\"txt-location\">Belo Horizonte - MG</p></div><div class=\"col-md-3 value-card\"><div class=\"value\"><p class=\"txt-value\">R$ 175.000</p></div></div></div><div class=\"well card\"><div class=\"col-md-3 image-card\"><img alt=\"Foto\" height=\"155\" src=\"https://caelum-online-public.s3.amazonaws.com/1381-scraping/01/img-cars/aston-martin/aston-martin-2977916__340.jpg\" width=\"220\"/></div><div class=\"col-md-6 body-card\"><p class=\"txt-name inline\">ASTON MARTIN</p><p class=\"txt-category badge badge-secondary inline\">USADO</p><p class=\"txt-opportunity badge badge-danger inline\">OPORTUNIDADE</p><p class=\"txt-motor\">Motor Diesel V6</p><p class=\"txt-description\">Ano 2004 - 50.189 km</p><ul class=\"lst-items\"><li class=\"txt-items\">► Painel digital</li><li class=\"txt-items\">► Controle de tração</li><li class=\"txt-items\">► Teto panorâmico</li><li class=\"txt-items\">► Central multimídia</li><li class=\"txt-items\">...</li></ul><p class=\"txt-location\">Belo Horizonte - MG</p></div><div class=\"col-md-3 value-card\"><div class=\"value\"><p class=\"txt-value\">R$ 239.000</p></div></div></div><div class=\"well card\"><div class=\"col-md-3 image-card\"><img alt=\"Foto\" height=\"155\" src=\"https://caelum-online-public.s3.amazonaws.com/1381-scraping/01/img-cars/tvr/tvr-2943925__340.jpg\" width=\"220\"/></div><div class=\"col-md-6 body-card\"><p class=\"txt-name inline\">TVR</p><p class=\"txt-category badge badge-secondary inline\">USADO</p><p class=\"txt-motor\">Motor 4.0 Turbo</p><p class=\"txt-description\">Ano 2014 - 17.778 km</p><ul class=\"lst-items\"><li class=\"txt-items\">► 4 X 4</li><li class=\"txt-items\">► Teto panorâmico</li><li class=\"txt-items\">► Central multimídia</li><li class=\"txt-items\">► Controle de estabilidade</li><li class=\"txt-items\">...</li></ul><p class=\"txt-location\">Belo Horizonte - MG</p></div><div class=\"col-md-3 value-card\"><div class=\"value\"><p class=\"txt-value\">R$ 115.000</p></div></div></div><div class=\"well card\"><div class=\"col-md-3 image-card\"><img alt=\"Foto\" height=\"155\" src=\"https://caelum-online-public.s3.amazonaws.com/1381-scraping/01/img-cars/excalibur/excalibur-2916730__340.jpg\" width=\"220\"/></div><div class=\"col-md-6 body-card\"><p class=\"txt-name inline\">EXCALIBUR</p><p class=\"txt-category badge badge-secondary inline\">USADO</p><p class=\"txt-motor\">Motor 3.0 32v</p><p class=\"txt-description\">Ano 2009 - 81.251 km</p><ul class=\"lst-items\"><li class=\"txt-items\">► Painel digital</li><li class=\"txt-items\">► Câmbio automático</li><li class=\"txt-items\">► Sensor de chuva</li><li class=\"txt-items\">► Travas elétricas</li><li class=\"txt-items\">...</li></ul><p class=\"txt-location\">Rio de Janeiro - RJ</p></div><div class=\"col-md-3 value-card\"><div class=\"value\"><p class=\"txt-value\">R$ 114.000</p></div></div></div><div class=\"well card\"><div class=\"col-md-3 image-card\"><img alt=\"Foto\" height=\"155\" src=\"https://caelum-online-public.s3.amazonaws.com/1381-scraping/01/img-cars/mclaren/mclaren-2855240__340.jpg\" width=\"220\"/></div><div class=\"col-md-6 body-card\"><p class=\"txt-name inline\">MCLAREN</p><p class=\"txt-category badge badge-secondary inline\">NOVO</p><p class=\"txt-motor\">Motor Diesel</p><p class=\"txt-description\">Ano 2019 - 0 km</p><ul class=\"lst-items\"><li class=\"txt-items\">► Central multimídia</li><li class=\"txt-items\">► Câmera de estacionamento</li><li class=\"txt-items\">► Câmbio automático</li><li class=\"txt-items\">► Ar condicionado</li><li class=\"txt-items\">...</li></ul><p class=\"txt-location\">São Paulo - SP</p></div><div class=\"col-md-3 value-card\"><div class=\"value\"><p class=\"txt-value\">R$ 75.000</p></div></div></div><div class=\"well card\"><div class=\"col-md-3 image-card\"><img alt=\"Foto\" height=\"155\" src=\"https://caelum-online-public.s3.amazonaws.com/1381-scraping/01/img-cars/toyota/toyota-3245397__340.jpg\" width=\"220\"/></div><div class=\"col-md-6 body-card\"><p class=\"txt-name inline\">TOYOTA</p><p class=\"txt-category badge badge-secondary inline\">USADO</p><p class=\"txt-opportunity badge badge-danger inline\">OPORTUNIDADE</p><p class=\"txt-motor\">Motor 4.0 Turbo</p><p class=\"txt-description\">Ano 1999 - 12.536 km</p><ul class=\"lst-items\"><li class=\"txt-items\">► Bancos de couro</li><li class=\"txt-items\">► Freios ABS</li><li class=\"txt-items\">► Piloto automático</li><li class=\"txt-items\">► Controle de estabilidade</li><li class=\"txt-items\">...</li></ul><p class=\"txt-location\">São Paulo - SP</p></div><div class=\"col-md-3 value-card\"><div class=\"value\"><p class=\"txt-value\">R$ 117.000</p></div></div></div></div><div class=\"type-select\">246 veículos encontrados</div><div class=\"container-pagination\" style=\"float: right\"><span class=\"info-pages\">Página 1 de 25</span></div></div></div></div></div></body></html><footer><nav class=\"navbar navbar-inverse\"><div class=\"container\" style=\"margin-bottom: 10px;\"><div class=\"navbar\"><a class=\"navbar-brand\" href=\"./index.php\" title=\"Alura Motors\"><img alt=\"Alura\" class=\"d-inline-block align-top\" src=\"img/alura-logo.svg\"/>Motors </a><p style=\"color: #fff; text-align: center; margin-top: 40px;\">Aplicação para treinamento de web scraping</p></div></div></nav></footer>"
            ]
          },
          "metadata": {},
          "execution_count": 98
        }
      ]
    },
    {
      "cell_type": "code",
      "source": [
        "type(soup)"
      ],
      "metadata": {
        "colab": {
          "base_uri": "https://localhost:8080/"
        },
        "id": "LB4Cpuy96h9f",
        "outputId": "5239ba73-4439-4d7c-db59-f5fb8e5155a1"
      },
      "execution_count": 99,
      "outputs": [
        {
          "output_type": "execute_result",
          "data": {
            "text/plain": [
              "bs4.BeautifulSoup"
            ]
          },
          "metadata": {},
          "execution_count": 99
        }
      ]
    },
    {
      "cell_type": "code",
      "source": [
        "#print(soup.prettify())"
      ],
      "metadata": {
        "id": "9Rp7G7oh7NGd"
      },
      "execution_count": 100,
      "outputs": []
    },
    {
      "cell_type": "markdown",
      "metadata": {
        "id": "R8Ie3i-YEVWO"
      },
      "source": [
        "# 3.3. Acessando tags"
      ]
    },
    {
      "cell_type": "code",
      "execution_count": 101,
      "metadata": {
        "scrolled": true,
        "id": "h_pcrwn1EVWO",
        "colab": {
          "base_uri": "https://localhost:8080/"
        },
        "outputId": "65eee66c-8f8b-4a0a-ef0f-bfaa2ea60d39"
      },
      "outputs": [
        {
          "output_type": "execute_result",
          "data": {
            "text/plain": [
              "<html lang=\"pt-br\"><head><meta charset=\"utf-8\"/><meta content=\"width=device-width, initial-scale=1, shrink-to-fit=no\" name=\"viewport\"/><title>Alura Motors</title><style> /*Regra para a animacao*/ @keyframes spin { 0% { transform: rotate(0deg); } 100% { transform: rotate(360deg); } } /*Mudando o tamanho do icone de resposta*/ div.glyphicon { color:#6B8E23; font-size: 38px; } /*Classe que mostra a animacao 'spin'*/ .loader { border: 16px solid #f3f3f3; border-radius: 50%; border-top: 16px solid #3498db; width: 80px; height: 80px; -webkit-animation: spin 2s linear infinite; animation: spin 2s linear infinite; } </style><link crossorigin=\"anonymous\" href=\"https://maxcdn.bootstrapcdn.com/bootstrap/3.3.7/css/bootstrap.min.css\" integrity=\"sha384-BVYiiSIFeK1dGmJRAkycuHAHRg32OmUcww7on3RYdg4Va+PmSTsz/K68vbdEjh4u\" rel=\"stylesheet\"/><link href=\"css/styles.css\" media=\"all\" rel=\"stylesheet\"/><script src=\"https://code.jquery.com/jquery-1.12.4.js\"></script><script crossorigin=\"anonymous\" integrity=\"sha384-Tc5IQib027qvyjSMfHjOMaLkfuWVxZxUPnCJA7l2mCWNIpG9mGCD8wGNIcPD7Txa\" src=\"https://maxcdn.bootstrapcdn.com/bootstrap/3.3.7/js/bootstrap.min.js\"></script><script src=\"js/index.js\" type=\"text/javascript\"></script><script> requisitar(\"https://alura-scraping.herokuapp.com/produtos?_page=\"+1+\"&_limit=10\") </script></head><body cz-shortcut-listen=\"true\"><noscript>You need to enable JavaScript to run this app.</noscript><div aria-labelledby=\"loadingModal_label\" class=\"modal fade\" data-backdrop=\"static\" id=\"loadingModal\" role=\"dialog\" tabindex=\"-1\"><div class=\"modal-dialog\" role=\"document\"><div class=\"modal-content\"><div class=\"modal-header\"><h5 class=\"modal-title\" id=\"loadingModal_label\"><span class=\"glyphicon glyphicon-refresh\"></span>Aguarde... </h5></div><div class=\"modal-body\"><div class=\"alert\" role=\"alert\"><center><div class=\"loader\" id=\"loader\"></div><br/><h4><b id=\"loadingModal_content\"></b></h4></center></div></div></div></div></div><div id=\"root\"><header><nav class=\"navbar navbar-inverse\" style=\"margin-bottom: 0;\"><div class=\"container\" style=\"margin-bottom: -20px;\"><div class=\"navbar\"><a class=\"navbar-brand\" href=\"./index.php\" title=\"Alura Motors\"><img alt=\"Alura\" class=\"d-inline-block align-top\" src=\"img/alura-logo.svg\"/>Motors </a><ul class=\"nav navbar-nav\" style=\"margin-top: 35px;\"><li><a href=\"./hello-world.php\">Hello World</a></li><li><a href=\"./index.php\">Anúncios</a></li></ul></div></div></nav></header><div class=\"container\"><h1 class=\"sub-header\">Veículos de Luxo Novos e Usados - Todas as Marcas</h1><div class=\"row\"><div class=\"col-md-12\"><div class=\"container\" style=\"width: 100%\"><div class=\"type-select\">246 veículos encontrados</div><div class=\"container-pagination\" style=\"float: right\"><span class=\"info-pages\">Página 1 de 25</span></div></div><div id=\"container-cards\" style=\"height: 100%\"><div class=\"well card\"><div class=\"col-md-3 image-card\"><img alt=\"Foto\" height=\"155\" src=\"https://caelum-online-public.s3.amazonaws.com/1381-scraping/01/img-cars/lamborghini-aventador/lamborghini-aventador-2932196__340.jpg\" width=\"220\"/></div><div class=\"col-md-6 body-card\"><p class=\"txt-name inline\">LAMBORGHINI AVENTADOR</p><p class=\"txt-category badge badge-secondary inline\">USADO</p><p class=\"txt-motor\">Motor 1.8 16v</p><p class=\"txt-description\">Ano 1993 - 55.286 km</p><ul class=\"lst-items\"><li class=\"txt-items\">► 4 X 4</li><li class=\"txt-items\">► Câmera de estacionamento</li><li class=\"txt-items\">► Controle de tração</li><li class=\"txt-items\">► Sensor de estacionamento</li><li class=\"txt-items\">...</li></ul><p class=\"txt-location\">Belo Horizonte - MG</p></div><div class=\"col-md-3 value-card\"><div class=\"value\"><p class=\"txt-value\">R$ 338.000</p></div></div></div><div class=\"well card\"><div class=\"col-md-3 image-card\"><img alt=\"Foto\" height=\"155\" src=\"https://caelum-online-public.s3.amazonaws.com/1381-scraping/01/img-cars/bmw-m2/bmw-m2-2970882__340.jpg\" width=\"220\"/></div><div class=\"col-md-6 body-card\"><p class=\"txt-name inline\">BMW M2</p><p class=\"txt-category badge badge-secondary inline\">USADO</p><p class=\"txt-motor\">Motor 3.0 32v</p><p class=\"txt-description\">Ano 2018 - 83.447 km</p><ul class=\"lst-items\"><li class=\"txt-items\">► Câmera de estacionamento</li><li class=\"txt-items\">► Controle de estabilidade</li><li class=\"txt-items\">► Travas elétricas</li><li class=\"txt-items\">► Freios ABS</li><li class=\"txt-items\">...</li></ul><p class=\"txt-location\">Belo Horizonte - MG</p></div><div class=\"col-md-3 value-card\"><div class=\"value\"><p class=\"txt-value\">R$ 346.000</p></div></div></div><div class=\"well card\"><div class=\"col-md-3 image-card\"><img alt=\"Foto\" height=\"155\" src=\"https://caelum-online-public.s3.amazonaws.com/1381-scraping/01/img-cars/alfa/alfa-1823056__340.jpg\" width=\"220\"/></div><div class=\"col-md-6 body-card\"><p class=\"txt-name inline\">ALFA</p><p class=\"txt-category badge badge-secondary inline\">USADO</p><p class=\"txt-motor\">Motor 1.8 16v</p><p class=\"txt-description\">Ano 2004 - 19.722 km</p><ul class=\"lst-items\"><li class=\"txt-items\">► Central multimídia</li><li class=\"txt-items\">► Bancos de couro</li><li class=\"txt-items\">► Rodas de liga</li><li class=\"txt-items\">► Câmera de estacionamento</li><li class=\"txt-items\">...</li></ul><p class=\"txt-location\">Rio de Janeiro - RJ</p></div><div class=\"col-md-3 value-card\"><div class=\"value\"><p class=\"txt-value\">R$ 480.000</p></div></div></div><div class=\"well card\"><div class=\"col-md-3 image-card\"><img alt=\"Foto\" height=\"155\" src=\"https://caelum-online-public.s3.amazonaws.com/1381-scraping/01/img-cars/puech/puech-4055386__340.jpg\" width=\"220\"/></div><div class=\"col-md-6 body-card\"><p class=\"txt-name inline\">PUECH</p><p class=\"txt-category badge badge-secondary inline\">USADO</p><p class=\"txt-motor\">Motor Diesel V8</p><p class=\"txt-description\">Ano 1992 - 34.335 km</p><ul class=\"lst-items\"><li class=\"txt-items\">► Bancos de couro</li><li class=\"txt-items\">► Freios ABS</li><li class=\"txt-items\">► Rodas de liga</li><li class=\"txt-items\">► Câmbio automático</li><li class=\"txt-items\">...</li></ul><p class=\"txt-location\">São Paulo - SP</p></div><div class=\"col-md-3 value-card\"><div class=\"value\"><p class=\"txt-value\">R$ 133.000</p></div></div></div><div class=\"well card\"><div class=\"col-md-3 image-card\"><img alt=\"Foto\" height=\"155\" src=\"https://caelum-online-public.s3.amazonaws.com/1381-scraping/01/img-cars/lamborghini-murcielago/lamborghini-murcielago-2872974__340.jpg\" width=\"220\"/></div><div class=\"col-md-6 body-card\"><p class=\"txt-name inline\">LAMBORGHINI MURCIELAGO</p><p class=\"txt-category badge badge-secondary inline\">USADO</p><p class=\"txt-motor\">Motor 1.0 8v</p><p class=\"txt-description\">Ano 1991 - 464 km</p><ul class=\"lst-items\"><li class=\"txt-items\">► Central multimídia</li><li class=\"txt-items\">► Teto panorâmico</li><li class=\"txt-items\">► Sensor crepuscular</li><li class=\"txt-items\">► Piloto automático</li><li class=\"txt-items\">...</li></ul><p class=\"txt-location\">Belo Horizonte - MG</p></div><div class=\"col-md-3 value-card\"><div class=\"value\"><p class=\"txt-value\">R$ 175.000</p></div></div></div><div class=\"well card\"><div class=\"col-md-3 image-card\"><img alt=\"Foto\" height=\"155\" src=\"https://caelum-online-public.s3.amazonaws.com/1381-scraping/01/img-cars/aston-martin/aston-martin-2977916__340.jpg\" width=\"220\"/></div><div class=\"col-md-6 body-card\"><p class=\"txt-name inline\">ASTON MARTIN</p><p class=\"txt-category badge badge-secondary inline\">USADO</p><p class=\"txt-opportunity badge badge-danger inline\">OPORTUNIDADE</p><p class=\"txt-motor\">Motor Diesel V6</p><p class=\"txt-description\">Ano 2004 - 50.189 km</p><ul class=\"lst-items\"><li class=\"txt-items\">► Painel digital</li><li class=\"txt-items\">► Controle de tração</li><li class=\"txt-items\">► Teto panorâmico</li><li class=\"txt-items\">► Central multimídia</li><li class=\"txt-items\">...</li></ul><p class=\"txt-location\">Belo Horizonte - MG</p></div><div class=\"col-md-3 value-card\"><div class=\"value\"><p class=\"txt-value\">R$ 239.000</p></div></div></div><div class=\"well card\"><div class=\"col-md-3 image-card\"><img alt=\"Foto\" height=\"155\" src=\"https://caelum-online-public.s3.amazonaws.com/1381-scraping/01/img-cars/tvr/tvr-2943925__340.jpg\" width=\"220\"/></div><div class=\"col-md-6 body-card\"><p class=\"txt-name inline\">TVR</p><p class=\"txt-category badge badge-secondary inline\">USADO</p><p class=\"txt-motor\">Motor 4.0 Turbo</p><p class=\"txt-description\">Ano 2014 - 17.778 km</p><ul class=\"lst-items\"><li class=\"txt-items\">► 4 X 4</li><li class=\"txt-items\">► Teto panorâmico</li><li class=\"txt-items\">► Central multimídia</li><li class=\"txt-items\">► Controle de estabilidade</li><li class=\"txt-items\">...</li></ul><p class=\"txt-location\">Belo Horizonte - MG</p></div><div class=\"col-md-3 value-card\"><div class=\"value\"><p class=\"txt-value\">R$ 115.000</p></div></div></div><div class=\"well card\"><div class=\"col-md-3 image-card\"><img alt=\"Foto\" height=\"155\" src=\"https://caelum-online-public.s3.amazonaws.com/1381-scraping/01/img-cars/excalibur/excalibur-2916730__340.jpg\" width=\"220\"/></div><div class=\"col-md-6 body-card\"><p class=\"txt-name inline\">EXCALIBUR</p><p class=\"txt-category badge badge-secondary inline\">USADO</p><p class=\"txt-motor\">Motor 3.0 32v</p><p class=\"txt-description\">Ano 2009 - 81.251 km</p><ul class=\"lst-items\"><li class=\"txt-items\">► Painel digital</li><li class=\"txt-items\">► Câmbio automático</li><li class=\"txt-items\">► Sensor de chuva</li><li class=\"txt-items\">► Travas elétricas</li><li class=\"txt-items\">...</li></ul><p class=\"txt-location\">Rio de Janeiro - RJ</p></div><div class=\"col-md-3 value-card\"><div class=\"value\"><p class=\"txt-value\">R$ 114.000</p></div></div></div><div class=\"well card\"><div class=\"col-md-3 image-card\"><img alt=\"Foto\" height=\"155\" src=\"https://caelum-online-public.s3.amazonaws.com/1381-scraping/01/img-cars/mclaren/mclaren-2855240__340.jpg\" width=\"220\"/></div><div class=\"col-md-6 body-card\"><p class=\"txt-name inline\">MCLAREN</p><p class=\"txt-category badge badge-secondary inline\">NOVO</p><p class=\"txt-motor\">Motor Diesel</p><p class=\"txt-description\">Ano 2019 - 0 km</p><ul class=\"lst-items\"><li class=\"txt-items\">► Central multimídia</li><li class=\"txt-items\">► Câmera de estacionamento</li><li class=\"txt-items\">► Câmbio automático</li><li class=\"txt-items\">► Ar condicionado</li><li class=\"txt-items\">...</li></ul><p class=\"txt-location\">São Paulo - SP</p></div><div class=\"col-md-3 value-card\"><div class=\"value\"><p class=\"txt-value\">R$ 75.000</p></div></div></div><div class=\"well card\"><div class=\"col-md-3 image-card\"><img alt=\"Foto\" height=\"155\" src=\"https://caelum-online-public.s3.amazonaws.com/1381-scraping/01/img-cars/toyota/toyota-3245397__340.jpg\" width=\"220\"/></div><div class=\"col-md-6 body-card\"><p class=\"txt-name inline\">TOYOTA</p><p class=\"txt-category badge badge-secondary inline\">USADO</p><p class=\"txt-opportunity badge badge-danger inline\">OPORTUNIDADE</p><p class=\"txt-motor\">Motor 4.0 Turbo</p><p class=\"txt-description\">Ano 1999 - 12.536 km</p><ul class=\"lst-items\"><li class=\"txt-items\">► Bancos de couro</li><li class=\"txt-items\">► Freios ABS</li><li class=\"txt-items\">► Piloto automático</li><li class=\"txt-items\">► Controle de estabilidade</li><li class=\"txt-items\">...</li></ul><p class=\"txt-location\">São Paulo - SP</p></div><div class=\"col-md-3 value-card\"><div class=\"value\"><p class=\"txt-value\">R$ 117.000</p></div></div></div></div><div class=\"type-select\">246 veículos encontrados</div><div class=\"container-pagination\" style=\"float: right\"><span class=\"info-pages\">Página 1 de 25</span></div></div></div></div></div></body></html>"
            ]
          },
          "metadata": {},
          "execution_count": 101
        }
      ],
      "source": [
        "soup.html"
      ]
    },
    {
      "cell_type": "code",
      "execution_count": 102,
      "metadata": {
        "scrolled": true,
        "id": "_2kb-NlkEVWR",
        "colab": {
          "base_uri": "https://localhost:8080/"
        },
        "outputId": "fb93fac7-09cc-47d7-a09d-c5df37e03319"
      },
      "outputs": [
        {
          "output_type": "execute_result",
          "data": {
            "text/plain": [
              "<title>Alura Motors</title>"
            ]
          },
          "metadata": {},
          "execution_count": 102
        }
      ],
      "source": [
        "#encontra de forma sequencial sempre o primeiro\n",
        "soup.html.head.title"
      ]
    },
    {
      "cell_type": "code",
      "execution_count": 103,
      "metadata": {
        "id": "kxkpIytSEVWR",
        "colab": {
          "base_uri": "https://localhost:8080/"
        },
        "outputId": "e29d955a-9cee-404a-f1e8-4da773481337"
      },
      "outputs": [
        {
          "output_type": "execute_result",
          "data": {
            "text/plain": [
              "<title>Alura Motors</title>"
            ]
          },
          "metadata": {},
          "execution_count": 103
        }
      ],
      "source": [
        "##encontra de forma sequencial sempre o primeiro\n",
        "soup.title"
      ]
    },
    {
      "cell_type": "code",
      "execution_count": 104,
      "metadata": {
        "id": "1VI1tK1BEVWR",
        "colab": {
          "base_uri": "https://localhost:8080/"
        },
        "outputId": "1b61a5b8-b1f3-4ef0-c27b-dec4e5e02659"
      },
      "outputs": [
        {
          "output_type": "execute_result",
          "data": {
            "text/plain": [
              "<div aria-labelledby=\"loadingModal_label\" class=\"modal fade\" data-backdrop=\"static\" id=\"loadingModal\" role=\"dialog\" tabindex=\"-1\"><div class=\"modal-dialog\" role=\"document\"><div class=\"modal-content\"><div class=\"modal-header\"><h5 class=\"modal-title\" id=\"loadingModal_label\"><span class=\"glyphicon glyphicon-refresh\"></span>Aguarde... </h5></div><div class=\"modal-body\"><div class=\"alert\" role=\"alert\"><center><div class=\"loader\" id=\"loader\"></div><br/><h4><b id=\"loadingModal_content\"></b></h4></center></div></div></div></div></div>"
            ]
          },
          "metadata": {},
          "execution_count": 104
        }
      ],
      "source": [
        "##encontra de forma sequencial sempre o primeiro\n",
        "soup.div"
      ]
    },
    {
      "cell_type": "code",
      "execution_count": 105,
      "metadata": {
        "id": "9SkDfTMIEVWR",
        "colab": {
          "base_uri": "https://localhost:8080/"
        },
        "outputId": "dbd24eda-cc4f-48e5-c643-a9669a28fde0"
      },
      "outputs": [
        {
          "output_type": "execute_result",
          "data": {
            "text/plain": [
              "<div class=\"modal-header\"><h5 class=\"modal-title\" id=\"loadingModal_label\"><span class=\"glyphicon glyphicon-refresh\"></span>Aguarde... </h5></div>"
            ]
          },
          "metadata": {},
          "execution_count": 105
        }
      ],
      "source": [
        "#acessando cada div da página\n",
        "soup.div.div.div.div"
      ]
    },
    {
      "cell_type": "code",
      "source": [
        "soup.h5"
      ],
      "metadata": {
        "id": "VkzTXLSO6fHm",
        "colab": {
          "base_uri": "https://localhost:8080/"
        },
        "outputId": "6c51aa22-73c2-42b5-a279-da08cb5cf6a9"
      },
      "execution_count": 106,
      "outputs": [
        {
          "output_type": "execute_result",
          "data": {
            "text/plain": [
              "<h5 class=\"modal-title\" id=\"loadingModal_label\"><span class=\"glyphicon glyphicon-refresh\"></span>Aguarde... </h5>"
            ]
          },
          "metadata": {},
          "execution_count": 106
        }
      ]
    },
    {
      "cell_type": "markdown",
      "metadata": {
        "id": "__hxKm0TEVWR"
      },
      "source": [
        "# 3.4. Acessando o conteúdo das tags"
      ]
    },
    {
      "cell_type": "code",
      "execution_count": 107,
      "metadata": {
        "id": "ceuMymeHEVWS",
        "colab": {
          "base_uri": "https://localhost:8080/",
          "height": 0
        },
        "outputId": "329fe49c-2545-48b9-fa29-9bde9479d28f"
      },
      "outputs": [
        {
          "output_type": "execute_result",
          "data": {
            "text/plain": [
              "'Aguarde... '"
            ],
            "application/vnd.google.colaboratory.intrinsic+json": {
              "type": "string"
            }
          },
          "metadata": {},
          "execution_count": 107
        }
      ],
      "source": [
        "#recolhe o conteúdo dentro das TAGS \n",
        "soup.h5.getText()"
      ]
    },
    {
      "cell_type": "code",
      "execution_count": 108,
      "metadata": {
        "id": "1yefnkUrEVWS",
        "colab": {
          "base_uri": "https://localhost:8080/",
          "height": 0
        },
        "outputId": "35b28f43-f27b-46ff-ba00-2200d1d1fbc6"
      },
      "outputs": [
        {
          "output_type": "execute_result",
          "data": {
            "text/plain": [
              "'Alura Motors /*Regra para a animacao*/ @keyframes spin { 0% { transform: rotate(0deg); } 100% { transform: rotate(360deg); } } /*Mudando o tamanho do icone de resposta*/ div.glyphicon { color:#6B8E23; font-size: 38px; } /*Classe que mostra a animacao \\'spin\\'*/ .loader { border: 16px solid #f3f3f3; border-radius: 50%; border-top: 16px solid #3498db; width: 80px; height: 80px; -webkit-animation: spin 2s linear infinite; animation: spin 2s linear infinite; }  requisitar(\"https://alura-scraping.herokuapp.com/produtos?_page=\"+1+\"&_limit=10\") You need to enable JavaScript to run this app.Aguarde... Motors Hello WorldAnúnciosVeículos de Luxo Novos e Usados - Todas as Marcas246 veículos encontradosPágina 1 de 25LAMBORGHINI AVENTADORUSADOMotor 1.8 16vAno 1993 - 55.286 km► 4 X 4► Câmera de estacionamento► Controle de tração► Sensor de estacionamento...Belo Horizonte - MGR$ 338.000BMW M2USADOMotor 3.0 32vAno 2018 - 83.447 km► Câmera de estacionamento► Controle de estabilidade► Travas elétricas► Freios ABS...Belo Horizonte - MGR$ 346.000ALFAUSADOMotor 1.8 16vAno 2004 - 19.722 km► Central multimídia► Bancos de couro► Rodas de liga► Câmera de estacionamento...Rio de Janeiro - RJR$ 480.000PUECHUSADOMotor Diesel V8Ano 1992 - 34.335 km► Bancos de couro► Freios ABS► Rodas de liga► Câmbio automático...São Paulo - SPR$ 133.000LAMBORGHINI MURCIELAGOUSADOMotor 1.0 8vAno 1991 - 464 km► Central multimídia► Teto panorâmico► Sensor crepuscular► Piloto automático...Belo Horizonte - MGR$ 175.000ASTON MARTINUSADOOPORTUNIDADEMotor Diesel V6Ano 2004 - 50.189 km► Painel digital► Controle de tração► Teto panorâmico► Central multimídia...Belo Horizonte - MGR$ 239.000TVRUSADOMotor 4.0 TurboAno 2014 - 17.778 km► 4 X 4► Teto panorâmico► Central multimídia► Controle de estabilidade...Belo Horizonte - MGR$ 115.000EXCALIBURUSADOMotor 3.0 32vAno 2009 - 81.251 km► Painel digital► Câmbio automático► Sensor de chuva► Travas elétricas...Rio de Janeiro - RJR$ 114.000MCLARENNOVOMotor DieselAno 2019 - 0 km► Central multimídia► Câmera de estacionamento► Câmbio automático► Ar condicionado...São Paulo - SPR$ 75.000TOYOTAUSADOOPORTUNIDADEMotor 4.0 TurboAno 1999 - 12.536 km► Bancos de couro► Freios ABS► Piloto automático► Controle de estabilidade...São Paulo - SPR$ 117.000246 veículos encontradosPágina 1 de 25Motors Aplicação para treinamento de web scraping'"
            ],
            "application/vnd.google.colaboratory.intrinsic+json": {
              "type": "string"
            }
          },
          "metadata": {},
          "execution_count": 108
        }
      ],
      "source": [
        "#retorna todo o texto da página, pior forma de fazer\n",
        "soup.get_text()"
      ]
    },
    {
      "cell_type": "code",
      "execution_count": 109,
      "metadata": {
        "id": "hKdKUEf9EVWS",
        "colab": {
          "base_uri": "https://localhost:8080/"
        },
        "outputId": "6f531af0-c095-4388-bba4-2673200f6d19"
      },
      "outputs": [
        {
          "output_type": "execute_result",
          "data": {
            "text/plain": [
              "['Alura Motors',\n",
              " \"/*Regra para a animacao*/ @keyframes spin { 0% { transform: rotate(0deg); } 100% { transform: rotate(360deg); } } /*Mudando o tamanho do icone de resposta*/ div.glyphicon { color:#6B8E23; font-size: 38px; } /*Classe que mostra a animacao 'spin'*/ .loader { border: 16px solid #f3f3f3; border-radius: 50%; border-top: 16px solid #3498db; width: 80px; height: 80px; -webkit-animation: spin 2s linear infinite; animation: spin 2s linear infinite; }\",\n",
              " 'requisitar(\"https://alura-scraping.herokuapp.com/produtos?_page=\"+1+\"&_limit=10\")',\n",
              " 'You need to enable JavaScript to run this app.',\n",
              " 'Aguarde...',\n",
              " 'Motors',\n",
              " 'Hello World',\n",
              " 'Anúncios',\n",
              " 'Veículos de Luxo Novos e Usados - Todas as Marcas',\n",
              " '246 veículos encontrados',\n",
              " 'Página 1 de 25',\n",
              " 'LAMBORGHINI AVENTADOR',\n",
              " 'USADO',\n",
              " 'Motor 1.8 16v',\n",
              " 'Ano 1993 - 55.286 km',\n",
              " '► 4 X 4',\n",
              " '► Câmera de estacionamento',\n",
              " '► Controle de tração',\n",
              " '► Sensor de estacionamento',\n",
              " '...',\n",
              " 'Belo Horizonte - MG',\n",
              " 'R$ 338.000',\n",
              " 'BMW M2',\n",
              " 'USADO',\n",
              " 'Motor 3.0 32v',\n",
              " 'Ano 2018 - 83.447 km',\n",
              " '► Câmera de estacionamento',\n",
              " '► Controle de estabilidade',\n",
              " '► Travas elétricas',\n",
              " '► Freios ABS',\n",
              " '...',\n",
              " 'Belo Horizonte - MG',\n",
              " 'R$ 346.000',\n",
              " 'ALFA',\n",
              " 'USADO',\n",
              " 'Motor 1.8 16v',\n",
              " 'Ano 2004 - 19.722 km',\n",
              " '► Central multimídia',\n",
              " '► Bancos de couro',\n",
              " '► Rodas de liga',\n",
              " '► Câmera de estacionamento',\n",
              " '...',\n",
              " 'Rio de Janeiro - RJ',\n",
              " 'R$ 480.000',\n",
              " 'PUECH',\n",
              " 'USADO',\n",
              " 'Motor Diesel V8',\n",
              " 'Ano 1992 - 34.335 km',\n",
              " '► Bancos de couro',\n",
              " '► Freios ABS',\n",
              " '► Rodas de liga',\n",
              " '► Câmbio automático',\n",
              " '...',\n",
              " 'São Paulo - SP',\n",
              " 'R$ 133.000',\n",
              " 'LAMBORGHINI MURCIELAGO',\n",
              " 'USADO',\n",
              " 'Motor 1.0 8v',\n",
              " 'Ano 1991 - 464 km',\n",
              " '► Central multimídia',\n",
              " '► Teto panorâmico',\n",
              " '► Sensor crepuscular',\n",
              " '► Piloto automático',\n",
              " '...',\n",
              " 'Belo Horizonte - MG',\n",
              " 'R$ 175.000',\n",
              " 'ASTON MARTIN',\n",
              " 'USADO',\n",
              " 'OPORTUNIDADE',\n",
              " 'Motor Diesel V6',\n",
              " 'Ano 2004 - 50.189 km',\n",
              " '► Painel digital',\n",
              " '► Controle de tração',\n",
              " '► Teto panorâmico',\n",
              " '► Central multimídia',\n",
              " '...',\n",
              " 'Belo Horizonte - MG',\n",
              " 'R$ 239.000',\n",
              " 'TVR',\n",
              " 'USADO',\n",
              " 'Motor 4.0 Turbo',\n",
              " 'Ano 2014 - 17.778 km',\n",
              " '► 4 X 4',\n",
              " '► Teto panorâmico',\n",
              " '► Central multimídia',\n",
              " '► Controle de estabilidade',\n",
              " '...',\n",
              " 'Belo Horizonte - MG',\n",
              " 'R$ 115.000',\n",
              " 'EXCALIBUR',\n",
              " 'USADO',\n",
              " 'Motor 3.0 32v',\n",
              " 'Ano 2009 - 81.251 km',\n",
              " '► Painel digital',\n",
              " '► Câmbio automático',\n",
              " '► Sensor de chuva',\n",
              " '► Travas elétricas',\n",
              " '...',\n",
              " 'Rio de Janeiro - RJ',\n",
              " 'R$ 114.000',\n",
              " 'MCLAREN',\n",
              " 'NOVO',\n",
              " 'Motor Diesel',\n",
              " 'Ano 2019 - 0 km',\n",
              " '► Central multimídia',\n",
              " '► Câmera de estacionamento',\n",
              " '► Câmbio automático',\n",
              " '► Ar condicionado',\n",
              " '...',\n",
              " 'São Paulo - SP',\n",
              " 'R$ 75.000',\n",
              " 'TOYOTA',\n",
              " 'USADO',\n",
              " 'OPORTUNIDADE',\n",
              " 'Motor 4.0 Turbo',\n",
              " 'Ano 1999 - 12.536 km',\n",
              " '► Bancos de couro',\n",
              " '► Freios ABS',\n",
              " '► Piloto automático',\n",
              " '► Controle de estabilidade',\n",
              " '...',\n",
              " 'São Paulo - SP',\n",
              " 'R$ 117.000',\n",
              " '246 veículos encontrados',\n",
              " 'Página 1 de 25',\n",
              " 'Motors',\n",
              " 'Aplicação para treinamento de web scraping']"
            ]
          },
          "metadata": {},
          "execution_count": 109
        }
      ],
      "source": [
        "#seta os parâmetros adicionando símbolos entre os conteúdos das TAGS e ainda gera uma lista separada pelo ||\n",
        "soup.get_text(separator=' || ', strip=True).split(' || ')"
      ]
    },
    {
      "cell_type": "markdown",
      "metadata": {
        "id": "qqp_b7xSEVWS"
      },
      "source": [
        "# 3.5. Acessando os atributos de uma tag"
      ]
    },
    {
      "cell_type": "code",
      "execution_count": 110,
      "metadata": {
        "id": "pHXxRyNVEVWS",
        "colab": {
          "base_uri": "https://localhost:8080/"
        },
        "outputId": "c582cb3a-9635-4b48-acc8-1a0a2e5eb5c8"
      },
      "outputs": [
        {
          "output_type": "execute_result",
          "data": {
            "text/plain": [
              "<img alt=\"Alura\" class=\"d-inline-block align-top\" src=\"img/alura-logo.svg\"/>"
            ]
          },
          "metadata": {},
          "execution_count": 110
        }
      ],
      "source": [
        "soup.img "
      ]
    },
    {
      "cell_type": "code",
      "execution_count": 111,
      "metadata": {
        "id": "R5dNdbNoEVWS",
        "colab": {
          "base_uri": "https://localhost:8080/"
        },
        "outputId": "5c84a622-4690-4876-9e15-d87828ac010d"
      },
      "outputs": [
        {
          "output_type": "execute_result",
          "data": {
            "text/plain": [
              "{'alt': 'Alura',\n",
              " 'class': ['d-inline-block', 'align-top'],\n",
              " 'src': 'img/alura-logo.svg'}"
            ]
          },
          "metadata": {},
          "execution_count": 111
        }
      ],
      "source": [
        "#te retorna os atributos associados a imagem que você buscou \n",
        "soup.img.attrs"
      ]
    },
    {
      "cell_type": "code",
      "execution_count": 112,
      "metadata": {
        "id": "1FOB-LNiEVWT",
        "colab": {
          "base_uri": "https://localhost:8080/"
        },
        "outputId": "60e6787b-ba8e-4850-ff7e-ac24e9f26efb"
      },
      "outputs": [
        {
          "output_type": "execute_result",
          "data": {
            "text/plain": [
              "dict_keys(['src', 'class', 'alt'])"
            ]
          },
          "metadata": {},
          "execution_count": 112
        }
      ],
      "source": [
        "#mostra as keys do dic criados com a função attrs\n",
        "soup.img.attrs.keys()"
      ]
    },
    {
      "cell_type": "code",
      "source": [
        "#mostra os valores dentro das keys \n",
        "soup.img.attrs.values()"
      ],
      "metadata": {
        "id": "BZKCkDF0yTt8",
        "colab": {
          "base_uri": "https://localhost:8080/"
        },
        "outputId": "696e146a-c60f-4204-ecce-58a4c2fdec58"
      },
      "execution_count": 113,
      "outputs": [
        {
          "output_type": "execute_result",
          "data": {
            "text/plain": [
              "dict_values(['img/alura-logo.svg', ['d-inline-block', 'align-top'], 'Alura'])"
            ]
          },
          "metadata": {},
          "execution_count": 113
        }
      ]
    },
    {
      "cell_type": "code",
      "execution_count": 114,
      "metadata": {
        "id": "ISAuBfVyEVWT",
        "colab": {
          "base_uri": "https://localhost:8080/"
        },
        "outputId": "2a13671c-45ce-497c-b8e7-298d0b1ca6ca"
      },
      "outputs": [
        {
          "output_type": "execute_result",
          "data": {
            "text/plain": [
              "['d-inline-block', 'align-top']"
            ]
          },
          "metadata": {},
          "execution_count": 114
        }
      ],
      "source": [
        "soup.img['class']"
      ]
    },
    {
      "cell_type": "code",
      "execution_count": 115,
      "metadata": {
        "id": "lxoEcLo6EVWT",
        "colab": {
          "base_uri": "https://localhost:8080/",
          "height": 0
        },
        "outputId": "30589f18-79de-4008-d5eb-50892cad9cfd"
      },
      "outputs": [
        {
          "output_type": "execute_result",
          "data": {
            "text/plain": [
              "'img/alura-logo.svg'"
            ],
            "application/vnd.google.colaboratory.intrinsic+json": {
              "type": "string"
            }
          },
          "metadata": {},
          "execution_count": 115
        }
      ],
      "source": [
        "soup.img.get('src')"
      ]
    },
    {
      "cell_type": "code",
      "execution_count": 115,
      "metadata": {
        "id": "f8IVHKsJEVWT"
      },
      "outputs": [],
      "source": [
        ""
      ]
    },
    {
      "cell_type": "markdown",
      "metadata": {
        "id": "DWcfLgFPEVWT"
      },
      "source": [
        "---\n",
        "# <font color=green>4. PESQUISANDO COM O BEAUTIFULSOUP"
      ]
    },
    {
      "cell_type": "markdown",
      "metadata": {
        "id": "2b38BE1VEVWT"
      },
      "source": [
        "# 4.1. Os métodos *find()* e *findAll()*"
      ]
    },
    {
      "cell_type": "markdown",
      "metadata": {
        "id": "zRs9-sumEVWT"
      },
      "source": [
        "- ### *find(tag, attributes, recursive, text, **kwargs)*\n",
        "\n",
        "- ### *findAll(tag, attributes, recursive, text, limit, **kwargs)*\n",
        "\n",
        "#### https://www.crummy.com/software/BeautifulSoup/bs4/doc/#find\n",
        "#### https://www.crummy.com/software/BeautifulSoup/bs4/doc/#find-all\n",
        "\n",
        "> **Observação:**\n",
        "> - *findAll()* também pode ser utilizado como *find_all()*"
      ]
    },
    {
      "cell_type": "markdown",
      "metadata": {
        "id": "jLhtfmbqEVWU"
      },
      "source": [
        "### Método *find()*"
      ]
    },
    {
      "cell_type": "code",
      "execution_count": 116,
      "metadata": {
        "id": "PeTeQ95iEVWU",
        "colab": {
          "base_uri": "https://localhost:8080/"
        },
        "outputId": "448f86fb-7c88-44ca-b57f-386921e2ddf7"
      },
      "outputs": [
        {
          "output_type": "execute_result",
          "data": {
            "text/plain": [
              "<img alt=\"Alura\" class=\"d-inline-block align-top\" src=\"img/alura-logo.svg\"/>"
            ]
          },
          "metadata": {},
          "execution_count": 116
        }
      ],
      "source": [
        "#acessa o PRIMEIRO atributo do html\n",
        "soup.find('img')"
      ]
    },
    {
      "cell_type": "code",
      "execution_count": 117,
      "metadata": {
        "id": "E3kOC9lWEVWU",
        "colab": {
          "base_uri": "https://localhost:8080/"
        },
        "outputId": "0abb4690-7291-4759-fbdf-bae50c245a5d"
      },
      "outputs": [
        {
          "output_type": "execute_result",
          "data": {
            "text/plain": [
              "<img alt=\"Alura\" class=\"d-inline-block align-top\" src=\"img/alura-logo.svg\"/>"
            ]
          },
          "metadata": {},
          "execution_count": 117
        }
      ],
      "source": [
        "#Realiza a mesma função \n",
        "soup.img"
      ]
    },
    {
      "cell_type": "markdown",
      "metadata": {
        "id": "zv2OLqO7EVWU"
      },
      "source": [
        "### Método *findAll()*"
      ]
    },
    {
      "cell_type": "code",
      "execution_count": 118,
      "metadata": {
        "id": "5g0BBB4HEVWU",
        "colab": {
          "base_uri": "https://localhost:8080/"
        },
        "outputId": "1eb2bba2-a9cc-450f-c2ee-f38790b18449"
      },
      "outputs": [
        {
          "output_type": "execute_result",
          "data": {
            "text/plain": [
              "[<img alt=\"Alura\" class=\"d-inline-block align-top\" src=\"img/alura-logo.svg\"/>,\n",
              " <img alt=\"Foto\" height=\"155\" src=\"https://caelum-online-public.s3.amazonaws.com/1381-scraping/01/img-cars/lamborghini-aventador/lamborghini-aventador-2932196__340.jpg\" width=\"220\"/>,\n",
              " <img alt=\"Foto\" height=\"155\" src=\"https://caelum-online-public.s3.amazonaws.com/1381-scraping/01/img-cars/bmw-m2/bmw-m2-2970882__340.jpg\" width=\"220\"/>,\n",
              " <img alt=\"Foto\" height=\"155\" src=\"https://caelum-online-public.s3.amazonaws.com/1381-scraping/01/img-cars/alfa/alfa-1823056__340.jpg\" width=\"220\"/>,\n",
              " <img alt=\"Foto\" height=\"155\" src=\"https://caelum-online-public.s3.amazonaws.com/1381-scraping/01/img-cars/puech/puech-4055386__340.jpg\" width=\"220\"/>,\n",
              " <img alt=\"Foto\" height=\"155\" src=\"https://caelum-online-public.s3.amazonaws.com/1381-scraping/01/img-cars/lamborghini-murcielago/lamborghini-murcielago-2872974__340.jpg\" width=\"220\"/>,\n",
              " <img alt=\"Foto\" height=\"155\" src=\"https://caelum-online-public.s3.amazonaws.com/1381-scraping/01/img-cars/aston-martin/aston-martin-2977916__340.jpg\" width=\"220\"/>,\n",
              " <img alt=\"Foto\" height=\"155\" src=\"https://caelum-online-public.s3.amazonaws.com/1381-scraping/01/img-cars/tvr/tvr-2943925__340.jpg\" width=\"220\"/>,\n",
              " <img alt=\"Foto\" height=\"155\" src=\"https://caelum-online-public.s3.amazonaws.com/1381-scraping/01/img-cars/excalibur/excalibur-2916730__340.jpg\" width=\"220\"/>,\n",
              " <img alt=\"Foto\" height=\"155\" src=\"https://caelum-online-public.s3.amazonaws.com/1381-scraping/01/img-cars/mclaren/mclaren-2855240__340.jpg\" width=\"220\"/>,\n",
              " <img alt=\"Foto\" height=\"155\" src=\"https://caelum-online-public.s3.amazonaws.com/1381-scraping/01/img-cars/toyota/toyota-3245397__340.jpg\" width=\"220\"/>,\n",
              " <img alt=\"Alura\" class=\"d-inline-block align-top\" src=\"img/alura-logo.svg\"/>]"
            ]
          },
          "metadata": {},
          "execution_count": 118
        }
      ],
      "source": [
        "soup.find_all('img')"
      ]
    },
    {
      "cell_type": "markdown",
      "metadata": {
        "id": "oToYggMXEVWU"
      },
      "source": [
        "### Comando equivalente ao método *find()*"
      ]
    },
    {
      "cell_type": "code",
      "execution_count": 119,
      "metadata": {
        "id": "YTJNAN4ZEVWU",
        "colab": {
          "base_uri": "https://localhost:8080/"
        },
        "outputId": "8f3eac27-c2c9-49ab-cf40-344f196753d7"
      },
      "outputs": [
        {
          "output_type": "execute_result",
          "data": {
            "text/plain": [
              "[<img alt=\"Alura\" class=\"d-inline-block align-top\" src=\"img/alura-logo.svg\"/>,\n",
              " <img alt=\"Foto\" height=\"155\" src=\"https://caelum-online-public.s3.amazonaws.com/1381-scraping/01/img-cars/lamborghini-aventador/lamborghini-aventador-2932196__340.jpg\" width=\"220\"/>,\n",
              " <img alt=\"Foto\" height=\"155\" src=\"https://caelum-online-public.s3.amazonaws.com/1381-scraping/01/img-cars/bmw-m2/bmw-m2-2970882__340.jpg\" width=\"220\"/>]"
            ]
          },
          "metadata": {},
          "execution_count": 119
        }
      ],
      "source": [
        "#procura todos os atributos 'img'. Quando utilizado o parâmetro limit define qual a quantidade de amostragem \n",
        "soup.findAll('img', limit = 3)"
      ]
    },
    {
      "cell_type": "markdown",
      "metadata": {
        "id": "7N7eAiMEEVWU"
      },
      "source": [
        "### Atalho para o método *findAll()*"
      ]
    },
    {
      "cell_type": "code",
      "execution_count": 120,
      "metadata": {
        "id": "B0zwS7PHEVWV",
        "colab": {
          "base_uri": "https://localhost:8080/"
        },
        "outputId": "20d336e6-6b46-46ce-bc66-fb4f121ab4fa"
      },
      "outputs": [
        {
          "output_type": "execute_result",
          "data": {
            "text/plain": [
              "[<img alt=\"Alura\" class=\"d-inline-block align-top\" src=\"img/alura-logo.svg\"/>,\n",
              " <img alt=\"Foto\" height=\"155\" src=\"https://caelum-online-public.s3.amazonaws.com/1381-scraping/01/img-cars/lamborghini-aventador/lamborghini-aventador-2932196__340.jpg\" width=\"220\"/>,\n",
              " <img alt=\"Foto\" height=\"155\" src=\"https://caelum-online-public.s3.amazonaws.com/1381-scraping/01/img-cars/bmw-m2/bmw-m2-2970882__340.jpg\" width=\"220\"/>,\n",
              " <img alt=\"Foto\" height=\"155\" src=\"https://caelum-online-public.s3.amazonaws.com/1381-scraping/01/img-cars/alfa/alfa-1823056__340.jpg\" width=\"220\"/>,\n",
              " <img alt=\"Foto\" height=\"155\" src=\"https://caelum-online-public.s3.amazonaws.com/1381-scraping/01/img-cars/puech/puech-4055386__340.jpg\" width=\"220\"/>,\n",
              " <img alt=\"Foto\" height=\"155\" src=\"https://caelum-online-public.s3.amazonaws.com/1381-scraping/01/img-cars/lamborghini-murcielago/lamborghini-murcielago-2872974__340.jpg\" width=\"220\"/>,\n",
              " <img alt=\"Foto\" height=\"155\" src=\"https://caelum-online-public.s3.amazonaws.com/1381-scraping/01/img-cars/aston-martin/aston-martin-2977916__340.jpg\" width=\"220\"/>,\n",
              " <img alt=\"Foto\" height=\"155\" src=\"https://caelum-online-public.s3.amazonaws.com/1381-scraping/01/img-cars/tvr/tvr-2943925__340.jpg\" width=\"220\"/>,\n",
              " <img alt=\"Foto\" height=\"155\" src=\"https://caelum-online-public.s3.amazonaws.com/1381-scraping/01/img-cars/excalibur/excalibur-2916730__340.jpg\" width=\"220\"/>,\n",
              " <img alt=\"Foto\" height=\"155\" src=\"https://caelum-online-public.s3.amazonaws.com/1381-scraping/01/img-cars/mclaren/mclaren-2855240__340.jpg\" width=\"220\"/>,\n",
              " <img alt=\"Foto\" height=\"155\" src=\"https://caelum-online-public.s3.amazonaws.com/1381-scraping/01/img-cars/toyota/toyota-3245397__340.jpg\" width=\"220\"/>,\n",
              " <img alt=\"Alura\" class=\"d-inline-block align-top\" src=\"img/alura-logo.svg\"/>]"
            ]
          },
          "metadata": {},
          "execution_count": 120
        }
      ],
      "source": [
        "soup('img')"
      ]
    },
    {
      "cell_type": "markdown",
      "metadata": {
        "id": "eVbGDGvWEVWV"
      },
      "source": [
        "### Passando listas de TAGs"
      ]
    },
    {
      "cell_type": "code",
      "execution_count": 121,
      "metadata": {
        "id": "bsCsQDRuEVWV",
        "colab": {
          "base_uri": "https://localhost:8080/"
        },
        "outputId": "c9ecb28e-065f-4ad9-ac52-5c14e643b3ac"
      },
      "outputs": [
        {
          "output_type": "execute_result",
          "data": {
            "text/plain": [
              "[<h5 class=\"modal-title\" id=\"loadingModal_label\"><span class=\"glyphicon glyphicon-refresh\"></span>Aguarde... </h5>,\n",
              " <h4><b id=\"loadingModal_content\"></b></h4>,\n",
              " <h1 class=\"sub-header\">Veículos de Luxo Novos e Usados - Todas as Marcas</h1>]"
            ]
          },
          "metadata": {},
          "execution_count": 121
        }
      ],
      "source": [
        "#procura uma lista de itens e retorna aquilo que estiver no html apenas\n",
        "soup.findAll(['h1', 'h2', 'h3', 'h4', 'h5', 'h6'])"
      ]
    },
    {
      "cell_type": "markdown",
      "metadata": {
        "id": "sRHk8cJFEVWV"
      },
      "source": [
        "### Utilizando o argumento *attributes*"
      ]
    },
    {
      "cell_type": "code",
      "execution_count": 122,
      "metadata": {
        "scrolled": true,
        "id": "51vUeiwjEVWV",
        "colab": {
          "base_uri": "https://localhost:8080/"
        },
        "outputId": "bb38f532-cd87-4376-bc24-7bb4235cbe7b"
      },
      "outputs": [
        {
          "output_type": "execute_result",
          "data": {
            "text/plain": [
              "[<p class=\"txt-value\">R$ 338.000</p>,\n",
              " <p class=\"txt-value\">R$ 346.000</p>,\n",
              " <p class=\"txt-value\">R$ 480.000</p>,\n",
              " <p class=\"txt-value\">R$ 133.000</p>,\n",
              " <p class=\"txt-value\">R$ 175.000</p>,\n",
              " <p class=\"txt-value\">R$ 239.000</p>,\n",
              " <p class=\"txt-value\">R$ 115.000</p>,\n",
              " <p class=\"txt-value\">R$ 114.000</p>,\n",
              " <p class=\"txt-value\">R$ 75.000</p>,\n",
              " <p class=\"txt-value\">R$ 117.000</p>]"
            ]
          },
          "metadata": {},
          "execution_count": 122
        }
      ],
      "source": [
        "#este método retorna todas as TAGS p encontradas com a classe txt-value\n",
        "soup.findAll('p', {'class' :'txt-value'})"
      ]
    },
    {
      "cell_type": "markdown",
      "metadata": {
        "id": "CeRovu5UEVWV"
      },
      "source": [
        "### Buscando por conteúdo de uma TAG"
      ]
    },
    {
      "cell_type": "code",
      "execution_count": 123,
      "metadata": {
        "id": "307zw8D7EVWV",
        "colab": {
          "base_uri": "https://localhost:8080/"
        },
        "outputId": "9e26ce65-d707-4f16-a67e-d66eb6fe5388"
      },
      "outputs": [
        {
          "output_type": "execute_result",
          "data": {
            "text/plain": [
              "[<p class=\"txt-location\">Belo Horizonte - MG</p>,\n",
              " <p class=\"txt-location\">Belo Horizonte - MG</p>,\n",
              " <p class=\"txt-location\">Belo Horizonte - MG</p>,\n",
              " <p class=\"txt-location\">Belo Horizonte - MG</p>,\n",
              " <p class=\"txt-location\">Belo Horizonte - MG</p>]"
            ]
          },
          "metadata": {},
          "execution_count": 123
        }
      ],
      "source": [
        "#utilizando o parâmetro text, localiza em forma de texto todas as ocorrências dentro da TAG 'p'\n",
        "soup.findAll('p', text = 'Belo Horizonte - MG' )"
      ]
    },
    {
      "cell_type": "markdown",
      "metadata": {
        "id": "19nreTCfEVWW"
      },
      "source": [
        "### Utilizando diretamente os atributos"
      ]
    },
    {
      "cell_type": "code",
      "execution_count": 124,
      "metadata": {
        "id": "rKM-rVi1EVWW",
        "colab": {
          "base_uri": "https://localhost:8080/"
        },
        "outputId": "fa25ec09-fccd-4ed0-9ecb-4a7468dd0c1e"
      },
      "outputs": [
        {
          "output_type": "execute_result",
          "data": {
            "text/plain": [
              "[<img alt=\"Foto\" height=\"155\" src=\"https://caelum-online-public.s3.amazonaws.com/1381-scraping/01/img-cars/lamborghini-aventador/lamborghini-aventador-2932196__340.jpg\" width=\"220\"/>,\n",
              " <img alt=\"Foto\" height=\"155\" src=\"https://caelum-online-public.s3.amazonaws.com/1381-scraping/01/img-cars/bmw-m2/bmw-m2-2970882__340.jpg\" width=\"220\"/>,\n",
              " <img alt=\"Foto\" height=\"155\" src=\"https://caelum-online-public.s3.amazonaws.com/1381-scraping/01/img-cars/alfa/alfa-1823056__340.jpg\" width=\"220\"/>,\n",
              " <img alt=\"Foto\" height=\"155\" src=\"https://caelum-online-public.s3.amazonaws.com/1381-scraping/01/img-cars/puech/puech-4055386__340.jpg\" width=\"220\"/>,\n",
              " <img alt=\"Foto\" height=\"155\" src=\"https://caelum-online-public.s3.amazonaws.com/1381-scraping/01/img-cars/lamborghini-murcielago/lamborghini-murcielago-2872974__340.jpg\" width=\"220\"/>,\n",
              " <img alt=\"Foto\" height=\"155\" src=\"https://caelum-online-public.s3.amazonaws.com/1381-scraping/01/img-cars/aston-martin/aston-martin-2977916__340.jpg\" width=\"220\"/>,\n",
              " <img alt=\"Foto\" height=\"155\" src=\"https://caelum-online-public.s3.amazonaws.com/1381-scraping/01/img-cars/tvr/tvr-2943925__340.jpg\" width=\"220\"/>,\n",
              " <img alt=\"Foto\" height=\"155\" src=\"https://caelum-online-public.s3.amazonaws.com/1381-scraping/01/img-cars/excalibur/excalibur-2916730__340.jpg\" width=\"220\"/>,\n",
              " <img alt=\"Foto\" height=\"155\" src=\"https://caelum-online-public.s3.amazonaws.com/1381-scraping/01/img-cars/mclaren/mclaren-2855240__340.jpg\" width=\"220\"/>,\n",
              " <img alt=\"Foto\" height=\"155\" src=\"https://caelum-online-public.s3.amazonaws.com/1381-scraping/01/img-cars/toyota/toyota-3245397__340.jpg\" width=\"220\"/>]"
            ]
          },
          "metadata": {},
          "execution_count": 124
        }
      ],
      "source": [
        "#atraves do alt- 'Foto que está contido em toda a foto da página HTML, retorna uma lista de todas essas fotos\n",
        "soup.findAll('img', alt='Foto')"
      ]
    },
    {
      "cell_type": "code",
      "execution_count": 125,
      "metadata": {
        "id": "4pkPQe7pEVWW",
        "colab": {
          "base_uri": "https://localhost:8080/"
        },
        "outputId": "2a90bd38-1bd2-4746-bd98-b3365d336a52"
      },
      "outputs": [
        {
          "output_type": "stream",
          "name": "stdout",
          "text": [
            "https://caelum-online-public.s3.amazonaws.com/1381-scraping/01/img-cars/lamborghini-aventador/lamborghini-aventador-2932196__340.jpg\n",
            "https://caelum-online-public.s3.amazonaws.com/1381-scraping/01/img-cars/bmw-m2/bmw-m2-2970882__340.jpg\n",
            "https://caelum-online-public.s3.amazonaws.com/1381-scraping/01/img-cars/alfa/alfa-1823056__340.jpg\n",
            "https://caelum-online-public.s3.amazonaws.com/1381-scraping/01/img-cars/puech/puech-4055386__340.jpg\n",
            "https://caelum-online-public.s3.amazonaws.com/1381-scraping/01/img-cars/lamborghini-murcielago/lamborghini-murcielago-2872974__340.jpg\n",
            "https://caelum-online-public.s3.amazonaws.com/1381-scraping/01/img-cars/aston-martin/aston-martin-2977916__340.jpg\n",
            "https://caelum-online-public.s3.amazonaws.com/1381-scraping/01/img-cars/tvr/tvr-2943925__340.jpg\n",
            "https://caelum-online-public.s3.amazonaws.com/1381-scraping/01/img-cars/excalibur/excalibur-2916730__340.jpg\n",
            "https://caelum-online-public.s3.amazonaws.com/1381-scraping/01/img-cars/mclaren/mclaren-2855240__340.jpg\n",
            "https://caelum-online-public.s3.amazonaws.com/1381-scraping/01/img-cars/toyota/toyota-3245397__340.jpg\n"
          ]
        }
      ],
      "source": [
        "#itera a lista de fotos e utiliza o método get para mostrar o SRC de cada item\n",
        "for item in soup.findAll('img', alt='Foto'):\n",
        "  print(item.get('src'))\n"
      ]
    },
    {
      "cell_type": "markdown",
      "metadata": {
        "id": "ZZpcBVtkEVWW"
      },
      "source": [
        "### Cuidado com o atributo \"class\""
      ]
    },
    {
      "cell_type": "code",
      "execution_count": 126,
      "metadata": {
        "id": "_wynQ7aCEVWW",
        "colab": {
          "base_uri": "https://localhost:8080/"
        },
        "outputId": "1a0e6935-32b7-4fb4-d125-0b31d7c3f930"
      },
      "outputs": [
        {
          "output_type": "execute_result",
          "data": {
            "text/plain": [
              "[<p class=\"txt-value\">R$ 338.000</p>,\n",
              " <p class=\"txt-value\">R$ 346.000</p>,\n",
              " <p class=\"txt-value\">R$ 480.000</p>,\n",
              " <p class=\"txt-value\">R$ 133.000</p>,\n",
              " <p class=\"txt-value\">R$ 175.000</p>,\n",
              " <p class=\"txt-value\">R$ 239.000</p>,\n",
              " <p class=\"txt-value\">R$ 115.000</p>,\n",
              " <p class=\"txt-value\">R$ 114.000</p>,\n",
              " <p class=\"txt-value\">R$ 75.000</p>,\n",
              " <p class=\"txt-value\">R$ 117.000</p>]"
            ]
          },
          "metadata": {},
          "execution_count": 126
        }
      ],
      "source": [
        "#não aceita usar a palavra reservada CLASS dentro dos parâmetros. utilizar o class_\n",
        "soup.findAll('p', class_= \"txt-value\")"
      ]
    },
    {
      "cell_type": "markdown",
      "metadata": {
        "id": "8Y1JxxBnEVWW"
      },
      "source": [
        "### Obtendo todo o conteúdo de texto de uma página"
      ]
    },
    {
      "cell_type": "code",
      "execution_count": 127,
      "metadata": {
        "id": "8uEsHaooEVWW",
        "colab": {
          "base_uri": "https://localhost:8080/"
        },
        "outputId": "ae8401f9-6286-402f-b015-14a81a476e5a"
      },
      "outputs": [
        {
          "output_type": "execute_result",
          "data": {
            "text/plain": [
              "['html',\n",
              " 'Alura Motors',\n",
              " \" /*Regra para a animacao*/ @keyframes spin { 0% { transform: rotate(0deg); } 100% { transform: rotate(360deg); } } /*Mudando o tamanho do icone de resposta*/ div.glyphicon { color:#6B8E23; font-size: 38px; } /*Classe que mostra a animacao 'spin'*/ .loader { border: 16px solid #f3f3f3; border-radius: 50%; border-top: 16px solid #3498db; width: 80px; height: 80px; -webkit-animation: spin 2s linear infinite; animation: spin 2s linear infinite; } \",\n",
              " ' requisitar(\"https://alura-scraping.herokuapp.com/produtos?_page=\"+1+\"&_limit=10\") ',\n",
              " 'You need to enable JavaScript to run this app.',\n",
              " 'Aguarde... ',\n",
              " 'Motors ',\n",
              " 'Hello World',\n",
              " 'Anúncios',\n",
              " 'Veículos de Luxo Novos e Usados - Todas as Marcas',\n",
              " '246 veículos encontrados',\n",
              " 'Página 1 de 25',\n",
              " 'LAMBORGHINI AVENTADOR',\n",
              " 'USADO',\n",
              " 'Motor 1.8 16v',\n",
              " 'Ano 1993 - 55.286 km',\n",
              " '► 4 X 4',\n",
              " '► Câmera de estacionamento',\n",
              " '► Controle de tração',\n",
              " '► Sensor de estacionamento',\n",
              " '...',\n",
              " 'Belo Horizonte - MG',\n",
              " 'R$ 338.000',\n",
              " 'BMW M2',\n",
              " 'USADO',\n",
              " 'Motor 3.0 32v',\n",
              " 'Ano 2018 - 83.447 km',\n",
              " '► Câmera de estacionamento',\n",
              " '► Controle de estabilidade',\n",
              " '► Travas elétricas',\n",
              " '► Freios ABS',\n",
              " '...',\n",
              " 'Belo Horizonte - MG',\n",
              " 'R$ 346.000',\n",
              " 'ALFA',\n",
              " 'USADO',\n",
              " 'Motor 1.8 16v',\n",
              " 'Ano 2004 - 19.722 km',\n",
              " '► Central multimídia',\n",
              " '► Bancos de couro',\n",
              " '► Rodas de liga',\n",
              " '► Câmera de estacionamento',\n",
              " '...',\n",
              " 'Rio de Janeiro - RJ',\n",
              " 'R$ 480.000',\n",
              " 'PUECH',\n",
              " 'USADO',\n",
              " 'Motor Diesel V8',\n",
              " 'Ano 1992 - 34.335 km',\n",
              " '► Bancos de couro',\n",
              " '► Freios ABS',\n",
              " '► Rodas de liga',\n",
              " '► Câmbio automático',\n",
              " '...',\n",
              " 'São Paulo - SP',\n",
              " 'R$ 133.000',\n",
              " 'LAMBORGHINI MURCIELAGO',\n",
              " 'USADO',\n",
              " 'Motor 1.0 8v',\n",
              " 'Ano 1991 - 464 km',\n",
              " '► Central multimídia',\n",
              " '► Teto panorâmico',\n",
              " '► Sensor crepuscular',\n",
              " '► Piloto automático',\n",
              " '...',\n",
              " 'Belo Horizonte - MG',\n",
              " 'R$ 175.000',\n",
              " 'ASTON MARTIN',\n",
              " 'USADO',\n",
              " 'OPORTUNIDADE',\n",
              " 'Motor Diesel V6',\n",
              " 'Ano 2004 - 50.189 km',\n",
              " '► Painel digital',\n",
              " '► Controle de tração',\n",
              " '► Teto panorâmico',\n",
              " '► Central multimídia',\n",
              " '...',\n",
              " 'Belo Horizonte - MG',\n",
              " 'R$ 239.000',\n",
              " 'TVR',\n",
              " 'USADO',\n",
              " 'Motor 4.0 Turbo',\n",
              " 'Ano 2014 - 17.778 km',\n",
              " '► 4 X 4',\n",
              " '► Teto panorâmico',\n",
              " '► Central multimídia',\n",
              " '► Controle de estabilidade',\n",
              " '...',\n",
              " 'Belo Horizonte - MG',\n",
              " 'R$ 115.000',\n",
              " 'EXCALIBUR',\n",
              " 'USADO',\n",
              " 'Motor 3.0 32v',\n",
              " 'Ano 2009 - 81.251 km',\n",
              " '► Painel digital',\n",
              " '► Câmbio automático',\n",
              " '► Sensor de chuva',\n",
              " '► Travas elétricas',\n",
              " '...',\n",
              " 'Rio de Janeiro - RJ',\n",
              " 'R$ 114.000',\n",
              " 'MCLAREN',\n",
              " 'NOVO',\n",
              " 'Motor Diesel',\n",
              " 'Ano 2019 - 0 km',\n",
              " '► Central multimídia',\n",
              " '► Câmera de estacionamento',\n",
              " '► Câmbio automático',\n",
              " '► Ar condicionado',\n",
              " '...',\n",
              " 'São Paulo - SP',\n",
              " 'R$ 75.000',\n",
              " 'TOYOTA',\n",
              " 'USADO',\n",
              " 'OPORTUNIDADE',\n",
              " 'Motor 4.0 Turbo',\n",
              " 'Ano 1999 - 12.536 km',\n",
              " '► Bancos de couro',\n",
              " '► Freios ABS',\n",
              " '► Piloto automático',\n",
              " '► Controle de estabilidade',\n",
              " '...',\n",
              " 'São Paulo - SP',\n",
              " 'R$ 117.000',\n",
              " '246 veículos encontrados',\n",
              " 'Página 1 de 25',\n",
              " 'Motors ',\n",
              " 'Aplicação para treinamento de web scraping']"
            ]
          },
          "metadata": {},
          "execution_count": 127
        }
      ],
      "source": [
        "#acha todos os elementos de texto, passando o parâmetro text\n",
        "soup.findAll(text= True)"
      ]
    },
    {
      "cell_type": "markdown",
      "metadata": {
        "id": "fXugpf5JEVWW"
      },
      "source": [
        "# 4.2. Outros métodos de pesquisa"
      ]
    },
    {
      "cell_type": "markdown",
      "metadata": {
        "id": "tbgpo3MyEVWX"
      },
      "source": [
        "- ### *findParent(tag, attributes, text, **kwargs)*\n",
        "\n",
        "- ### *findParents(tag, attributes, text, limit, **kwargs)*\n",
        "\n",
        "#### https://www.crummy.com/software/BeautifulSoup/bs4/doc/#find-parents-and-find-parent\n",
        "\n",
        "> **Observação:**\n",
        "> - *findParent()* e *findParents()* também podem ser utilizados como *find_parent()* e *find_parents()*, respectivamente.\n",
        "---\n",
        "- ### *findNextSibling(tag, attributes, text, **kwargs)*\n",
        "\n",
        "- ### *findNextSiblings(tag, attributes, text, limit, **kwargs)*\n",
        "\n",
        "- ### *findPreviousSibling(tag, attributes, text, **kwargs)*\n",
        "\n",
        "- ### *findPreviousSiblings(tag, attributes, text, limit, **kwargs)*\n",
        "\n",
        "#### https://www.crummy.com/software/BeautifulSoup/bs4/doc/#find-next-siblings-and-find-next-sibling\n",
        "#### https://www.crummy.com/software/BeautifulSoup/bs4/doc/#find-previous-siblings-and-find-previous-sibling\n",
        "\n",
        "> **Observação:**\n",
        "> - *findNextSibling()*, *findNextSiblings()*, *findPreviousSibling()* e *findPreviousSiblings()* também podem ser utilizados como *find_next_sibling()*, *find_next_siblings()*, *find_previous_sibling()* e *find_previous_siblings()*, respectivamente.\n",
        "---\n",
        "- ### *findNext(tag, attributes, text, **kwargs)*\n",
        "\n",
        "- ### *findAllNext(tag, attributes, text, limit, **kwargs)*\n",
        "\n",
        "- ### *findPrevious(tag, attributes, text, **kwargs)*\n",
        "\n",
        "- ### *findAllPrevious(tag, attributes, text, limit, **kwargs)*\n",
        "\n",
        "#### https://www.crummy.com/software/BeautifulSoup/bs4/doc/#find-all-next-and-find-next\n",
        "#### https://www.crummy.com/software/BeautifulSoup/bs4/doc/#find-all-previous-and-find-previous\n",
        "\n",
        "> **Observação:**\n",
        "> - *findNext()*, *findAllNext()*, *findPrevious* e *findAllPrevious* também podem ser utilizados como *find_next()*, *find_all_next()*, *find_previous()* e *find_all_previous()*, respectivamente."
      ]
    },
    {
      "cell_type": "markdown",
      "metadata": {
        "id": "H2zK8t1FEVWX"
      },
      "source": [
        "## HTML de exemplo para ilustrar a utilização dos métodos de pesquisa do BeautifulSoup"
      ]
    },
    {
      "cell_type": "markdown",
      "metadata": {
        "id": "1bdQn8UhEVWX"
      },
      "source": [
        "<img src=\"https://caelum-online-public.s3.amazonaws.com/1381-scraping/01/BeautifulSoup-method.png\" width=80%>"
      ]
    },
    {
      "cell_type": "markdown",
      "metadata": {
        "id": "OfYVY3EZEVWX"
      },
      "source": [
        "---\n",
        "## Resultado"
      ]
    },
    {
      "cell_type": "markdown",
      "metadata": {
        "id": "yQ8VD_p4EVWX"
      },
      "source": [
        "<html>\n",
        "    <body>\n",
        "        <div id=“container-a”>\n",
        "            <h1>Título A</h1>\n",
        "            <h2 class=\"ref-a\">Sub título A</h2>\n",
        "            <p>Texto de conteúdo A</p>\n",
        "        </div>\n",
        "        <div id=“container-b”>\n",
        "            <h1>Título B</h1>\n",
        "            <h2 class=\"ref-b\">Sub título B</h2>\n",
        "            <p>Texto de conteúdo B</p>\n",
        "        </div>\n",
        "    </body>\n",
        "</html>"
      ]
    },
    {
      "cell_type": "code",
      "execution_count": 128,
      "metadata": {
        "id": "nn46tUdyEVWY"
      },
      "outputs": [],
      "source": [
        "html_teste = \"\"\"\n",
        "<html>\n",
        "    <body>\n",
        "        <div id=“container-a”>\n",
        "            <h1>Título A</h1>\n",
        "            <h2 class=\"ref-a\">Sub título A</h2>\n",
        "            <p>Texto de conteúdo A</p>\n",
        "        </div>\n",
        "        <div id=“container-b”>\n",
        "            <h1>Título B</h1>\n",
        "            <h2 class=\"ref-b\">Sub título B</h2>\n",
        "            <p>Texto de conteúdo B</p>\n",
        "        </div>\n",
        "    </body>\n",
        "</html>\n",
        "\n",
        "\"\"\""
      ]
    },
    {
      "cell_type": "markdown",
      "metadata": {
        "id": "rL3cyY_JEVWY"
      },
      "source": [
        "### Tratamentos para a string HTML"
      ]
    },
    {
      "cell_type": "code",
      "execution_count": 129,
      "metadata": {
        "id": "7D3A8f1lEVWY",
        "colab": {
          "base_uri": "https://localhost:8080/",
          "height": 0
        },
        "outputId": "ba30a00a-4586-419f-860b-2a6895c6e29c"
      },
      "outputs": [
        {
          "output_type": "execute_result",
          "data": {
            "text/plain": [
              "'\\n<html>\\n    <body>\\n        <div id=“container-a”>\\n            <h1>Título A</h1>\\n            <h2 class=\"ref-a\">Sub título A</h2>\\n            <p>Texto de conteúdo A</p>\\n        </div>\\n        <div id=“container-b”>\\n            <h1>Título B</h1>\\n            <h2 class=\"ref-b\">Sub título B</h2>\\n            <p>Texto de conteúdo B</p>\\n        </div>\\n    </body>\\n</html>\\n\\n'"
            ],
            "application/vnd.google.colaboratory.intrinsic+json": {
              "type": "string"
            }
          },
          "metadata": {},
          "execution_count": 129
        }
      ],
      "source": [
        "html_teste"
      ]
    },
    {
      "cell_type": "code",
      "execution_count": 130,
      "metadata": {
        "id": "x8CrJdMSEVWY",
        "colab": {
          "base_uri": "https://localhost:8080/",
          "height": 0
        },
        "outputId": "9a089848-11ac-4881-e959-a8ad4a69f42b"
      },
      "outputs": [
        {
          "output_type": "execute_result",
          "data": {
            "text/plain": [
              "'<html><body><div id=“container-a”><h1>Título A</h1><h2 class=\"ref-a\">Sub título A</h2><p>Texto de conteúdo A</p></div><div id=“container-b”><h1>Título B</h1><h2 class=\"ref-b\">Sub título B</h2><p>Texto de conteúdo B</p></div></body></html>'"
            ],
            "application/vnd.google.colaboratory.intrinsic+json": {
              "type": "string"
            }
          },
          "metadata": {},
          "execution_count": 130
        }
      ],
      "source": [
        "html_teste = trata_html(html_teste)\n",
        "html_teste"
      ]
    },
    {
      "cell_type": "markdown",
      "metadata": {
        "id": "PQEF9t0dEVWY"
      },
      "source": [
        "### Criando o objeto BeautifulSoup"
      ]
    },
    {
      "cell_type": "code",
      "execution_count": 131,
      "metadata": {
        "scrolled": true,
        "id": "oy943wIREVWY",
        "colab": {
          "base_uri": "https://localhost:8080/"
        },
        "outputId": "9f64177b-9029-47f7-9b4a-72df262d682f"
      },
      "outputs": [
        {
          "output_type": "execute_result",
          "data": {
            "text/plain": [
              "<html><body><div id=\"“container-a”\"><h1>Título A</h1><h2 class=\"ref-a\">Sub título A</h2><p>Texto de conteúdo A</p></div><div id=\"“container-b”\"><h1>Título B</h1><h2 class=\"ref-b\">Sub título B</h2><p>Texto de conteúdo B</p></div></body></html>"
            ]
          },
          "metadata": {},
          "execution_count": 131
        }
      ],
      "source": [
        "soup_1 = BeautifulSoup(html_teste, 'html.parser')\n",
        "soup_1"
      ]
    },
    {
      "cell_type": "markdown",
      "metadata": {
        "id": "KU8SDlhAEVWY"
      },
      "source": [
        "### Parents"
      ]
    },
    {
      "cell_type": "code",
      "execution_count": 131,
      "metadata": {
        "id": "FTwxN5blEVWY"
      },
      "outputs": [],
      "source": [
        ""
      ]
    },
    {
      "cell_type": "code",
      "execution_count": 131,
      "metadata": {
        "id": "-N3iF14lEVWZ"
      },
      "outputs": [],
      "source": [
        ""
      ]
    },
    {
      "cell_type": "code",
      "execution_count": 131,
      "metadata": {
        "id": "hcrPz7i-EVWZ"
      },
      "outputs": [],
      "source": [
        ""
      ]
    },
    {
      "cell_type": "code",
      "execution_count": 131,
      "metadata": {
        "id": "GzeieKAwEVWZ"
      },
      "outputs": [],
      "source": [
        ""
      ]
    },
    {
      "cell_type": "code",
      "execution_count": 131,
      "metadata": {
        "id": "Jl_IbtEJEVWZ"
      },
      "outputs": [],
      "source": [
        ""
      ]
    },
    {
      "cell_type": "markdown",
      "metadata": {
        "id": "t8Zpu5GYEVWZ"
      },
      "source": [
        "## Siblings"
      ]
    },
    {
      "cell_type": "code",
      "execution_count": 131,
      "metadata": {
        "id": "G6snxg51EVWZ"
      },
      "outputs": [],
      "source": [
        ""
      ]
    },
    {
      "cell_type": "code",
      "execution_count": 131,
      "metadata": {
        "id": "6ds7ZCVqEVWZ"
      },
      "outputs": [],
      "source": [
        ""
      ]
    },
    {
      "cell_type": "code",
      "execution_count": 131,
      "metadata": {
        "id": "bZ7i9S47EVWZ"
      },
      "outputs": [],
      "source": [
        ""
      ]
    },
    {
      "cell_type": "markdown",
      "metadata": {
        "id": "bmc5BqnaEVWa"
      },
      "source": [
        "## Next e Previous"
      ]
    },
    {
      "cell_type": "code",
      "execution_count": 131,
      "metadata": {
        "id": "5A-NCTLdEVWa"
      },
      "outputs": [],
      "source": [
        ""
      ]
    },
    {
      "cell_type": "code",
      "execution_count": 131,
      "metadata": {
        "id": "PhhshogOEVWa"
      },
      "outputs": [],
      "source": [
        ""
      ]
    },
    {
      "cell_type": "code",
      "execution_count": 131,
      "metadata": {
        "id": "KvI7Ws4pEVWa"
      },
      "outputs": [],
      "source": [
        ""
      ]
    },
    {
      "cell_type": "markdown",
      "metadata": {
        "id": "mYPlHSULEVWa"
      },
      "source": [
        "# <font color=green>5. WEB SCRAPING DO SITE ALURA MOTORS - OBTENDO OS DADOS DE UM ANÚNCIO"
      ]
    },
    {
      "cell_type": "markdown",
      "metadata": {
        "id": "SbClsypiEVWa"
      },
      "source": [
        "# 5.1. Identificando e selecionando os dados no HTML"
      ]
    },
    {
      "cell_type": "markdown",
      "metadata": {
        "id": "PrgprbMDEVWa"
      },
      "source": [
        "### Obtendo o HTML e criando o objeto BeautifulSoup"
      ]
    },
    {
      "cell_type": "code",
      "execution_count": 132,
      "metadata": {
        "id": "ZEQg_X-PEVWb",
        "colab": {
          "base_uri": "https://localhost:8080/"
        },
        "outputId": "97798468-327c-4d88-f552-bddc8fbe9f79"
      },
      "outputs": [
        {
          "output_type": "execute_result",
          "data": {
            "text/plain": [
              "<!DOCTYPE html>\n",
              "\n",
              "<html lang=\"pt-br\">\n",
              "<head>\n",
              "<meta charset=\"utf-8\"/>\n",
              "<meta content=\"width=device-width, initial-scale=1, shrink-to-fit=no\" name=\"viewport\"/>\n",
              "<title>Alura Motors</title>\n",
              "<style>\n",
              "\t\t/*Regra para a animacao*/\n",
              "\t\t@keyframes spin {\n",
              "\t\t\t0% { transform: rotate(0deg); }\n",
              "\t\t\t100% { transform: rotate(360deg); }\n",
              "\t\t}\n",
              "\t\t/*Mudando o tamanho do icone de resposta*/\n",
              "\t\tdiv.glyphicon {\n",
              "\t\t\tcolor:#6B8E23;\n",
              "\t\t\tfont-size: 38px;\n",
              "\t\t}\n",
              "\t\t/*Classe que mostra a animacao 'spin'*/\n",
              "\t\t.loader {\n",
              "\t\t\tborder: 16px solid #f3f3f3;\n",
              "\t\t\tborder-radius: 50%;\n",
              "\t\t\tborder-top: 16px solid #3498db;\n",
              "\t\t\twidth: 80px;\n",
              "\t\t\theight: 80px;\n",
              "\t\t\t-webkit-animation: spin 2s linear infinite;\n",
              "\t\t\tanimation: spin 2s linear infinite;\n",
              "\t\t}\n",
              "\t</style>\n",
              "<link crossorigin=\"anonymous\" href=\"https://maxcdn.bootstrapcdn.com/bootstrap/3.3.7/css/bootstrap.min.css\" integrity=\"sha384-BVYiiSIFeK1dGmJRAkycuHAHRg32OmUcww7on3RYdg4Va+PmSTsz/K68vbdEjh4u\" rel=\"stylesheet\"/>\n",
              "<link href=\"css/styles.css\" media=\"all\" rel=\"stylesheet\"/>\n",
              "<script src=\"https://code.jquery.com/jquery-1.12.4.js\"></script>\n",
              "<script crossorigin=\"anonymous\" integrity=\"sha384-Tc5IQib027qvyjSMfHjOMaLkfuWVxZxUPnCJA7l2mCWNIpG9mGCD8wGNIcPD7Txa\" src=\"https://maxcdn.bootstrapcdn.com/bootstrap/3.3.7/js/bootstrap.min.js\"></script>\n",
              "<script src=\"js/index.js\" type=\"text/javascript\"></script>\n",
              "<script>\n",
              "\t\trequisitar(\"https://alura-scraping.herokuapp.com/produtos?_page=\"+1+\"&_limit=10\")\n",
              "\t</script>\n",
              "</head>\n",
              "<body cz-shortcut-listen=\"true\">\n",
              "<noscript>You need to enable JavaScript to run this app.</noscript>\n",
              "<div aria-labelledby=\"loadingModal_label\" class=\"modal fade\" data-backdrop=\"static\" id=\"loadingModal\" role=\"dialog\" tabindex=\"-1\">\n",
              "<div class=\"modal-dialog\" role=\"document\">\n",
              "<div class=\"modal-content\">\n",
              "<div class=\"modal-header\">\n",
              "<h5 class=\"modal-title\" id=\"loadingModal_label\">\n",
              "<span class=\"glyphicon glyphicon-refresh\"></span>Aguarde...\n",
              "\t\t\t\t\t</h5>\n",
              "</div>\n",
              "<div class=\"modal-body\">\n",
              "<div class=\"alert\" role=\"alert\">\n",
              "<center>\n",
              "<div class=\"loader\" id=\"loader\"></div><br/>\n",
              "<h4><b id=\"loadingModal_content\"></b></h4>\n",
              "</center>\n",
              "</div>\n",
              "</div>\n",
              "</div>\n",
              "</div>\n",
              "</div>\n",
              "<div id=\"root\">\n",
              "<header>\n",
              "<nav class=\"navbar navbar-inverse\" style=\"margin-bottom: 0;\">\n",
              "<div class=\"container\" style=\"margin-bottom: -20px;\">\n",
              "<div class=\"navbar\">\n",
              "<a class=\"navbar-brand\" href=\"./index.php\" title=\"Alura Motors\">\n",
              "<img alt=\"Alura\" class=\"d-inline-block align-top\" src=\"img/alura-logo.svg\"/>Motors\n",
              "\t\t\t\t\t\t</a>\n",
              "<ul class=\"nav navbar-nav\" style=\"margin-top: 35px;\">\n",
              "<li><a href=\"./hello-world.php\">Hello World</a></li>\n",
              "<li><a href=\"./index.php\">Anúncios</a></li>\n",
              "</ul>\n",
              "</div>\n",
              "</div>\n",
              "</nav>\n",
              "</header>\n",
              "<div class=\"container\">\n",
              "<h1 class=\"sub-header\">Veículos de Luxo Novos e Usados - Todas as Marcas</h1>\n",
              "<div class=\"row\">\n",
              "<div class=\"col-md-12\">\n",
              "<div class=\"container\" style=\"width: 100%\">\n",
              "<div class=\"type-select\">246 veículos encontrados</div>\n",
              "<div class=\"container-pagination\" style=\"float: right\">\n",
              "<span class=\"info-pages\">Página 1 de 25</span>\n",
              "</div>\n",
              "</div>\n",
              "<div id=\"container-cards\" style=\"height: 100%\">\n",
              "<div class=\"well card\">\n",
              "<div class=\"col-md-3 image-card\">\n",
              "<img alt=\"Foto\" height=\"155\" src=\"https://caelum-online-public.s3.amazonaws.com/1381-scraping/01/img-cars/lamborghini-aventador/lamborghini-aventador-2932196__340.jpg\" width=\"220\"/>\n",
              "</div>\n",
              "<div class=\"col-md-6 body-card\">\n",
              "<p class=\"txt-name inline\">LAMBORGHINI AVENTADOR</p>\n",
              "<p class=\"txt-category badge badge-secondary inline\">USADO</p>\n",
              "<p class=\"txt-motor\">Motor 1.8 16v</p>\n",
              "<p class=\"txt-description\">Ano 1993 - 55.286 km</p>\n",
              "<ul class=\"lst-items\">\n",
              "<li class=\"txt-items\">► 4 X 4</li>\n",
              "<li class=\"txt-items\">► Câmera de estacionamento</li>\n",
              "<li class=\"txt-items\">► Controle de tração</li>\n",
              "<li class=\"txt-items\">► Sensor de estacionamento</li>\n",
              "<li class=\"txt-items\">...</li>\n",
              "</ul>\n",
              "<p class=\"txt-location\">Belo Horizonte - MG</p>\n",
              "</div>\n",
              "<div class=\"col-md-3 value-card\">\n",
              "<div class=\"value\">\n",
              "<p class=\"txt-value\">R$ 338.000</p>\n",
              "</div>\n",
              "</div>\n",
              "</div>\n",
              "<div class=\"well card\">\n",
              "<div class=\"col-md-3 image-card\">\n",
              "<img alt=\"Foto\" height=\"155\" src=\"https://caelum-online-public.s3.amazonaws.com/1381-scraping/01/img-cars/bmw-m2/bmw-m2-2970882__340.jpg\" width=\"220\"/>\n",
              "</div>\n",
              "<div class=\"col-md-6 body-card\">\n",
              "<p class=\"txt-name inline\">BMW M2</p>\n",
              "<p class=\"txt-category badge badge-secondary inline\">USADO</p>\n",
              "<p class=\"txt-motor\">Motor 3.0 32v</p>\n",
              "<p class=\"txt-description\">Ano 2018 - 83.447 km</p>\n",
              "<ul class=\"lst-items\">\n",
              "<li class=\"txt-items\">► Câmera de estacionamento</li>\n",
              "<li class=\"txt-items\">► Controle de estabilidade</li>\n",
              "<li class=\"txt-items\">► Travas elétricas</li>\n",
              "<li class=\"txt-items\">► Freios ABS</li>\n",
              "<li class=\"txt-items\">...</li>\n",
              "</ul>\n",
              "<p class=\"txt-location\">Belo Horizonte - MG</p>\n",
              "</div>\n",
              "<div class=\"col-md-3 value-card\">\n",
              "<div class=\"value\">\n",
              "<p class=\"txt-value\">R$ 346.000</p>\n",
              "</div>\n",
              "</div>\n",
              "</div>\n",
              "<div class=\"well card\">\n",
              "<div class=\"col-md-3 image-card\">\n",
              "<img alt=\"Foto\" height=\"155\" src=\"https://caelum-online-public.s3.amazonaws.com/1381-scraping/01/img-cars/alfa/alfa-1823056__340.jpg\" width=\"220\"/>\n",
              "</div>\n",
              "<div class=\"col-md-6 body-card\">\n",
              "<p class=\"txt-name inline\">ALFA</p>\n",
              "<p class=\"txt-category badge badge-secondary inline\">USADO</p>\n",
              "<p class=\"txt-motor\">Motor 1.8 16v</p>\n",
              "<p class=\"txt-description\">Ano 2004 - 19.722 km</p>\n",
              "<ul class=\"lst-items\">\n",
              "<li class=\"txt-items\">► Central multimídia</li>\n",
              "<li class=\"txt-items\">► Bancos de couro</li>\n",
              "<li class=\"txt-items\">► Rodas de liga</li>\n",
              "<li class=\"txt-items\">► Câmera de estacionamento</li>\n",
              "<li class=\"txt-items\">...</li>\n",
              "</ul>\n",
              "<p class=\"txt-location\">Rio de Janeiro - RJ</p>\n",
              "</div>\n",
              "<div class=\"col-md-3 value-card\">\n",
              "<div class=\"value\">\n",
              "<p class=\"txt-value\">R$ 480.000</p>\n",
              "</div>\n",
              "</div>\n",
              "</div>\n",
              "<div class=\"well card\">\n",
              "<div class=\"col-md-3 image-card\">\n",
              "<img alt=\"Foto\" height=\"155\" src=\"https://caelum-online-public.s3.amazonaws.com/1381-scraping/01/img-cars/puech/puech-4055386__340.jpg\" width=\"220\"/>\n",
              "</div>\n",
              "<div class=\"col-md-6 body-card\">\n",
              "<p class=\"txt-name inline\">PUECH</p>\n",
              "<p class=\"txt-category badge badge-secondary inline\">USADO</p>\n",
              "<p class=\"txt-motor\">Motor Diesel V8</p>\n",
              "<p class=\"txt-description\">Ano 1992 - 34.335 km</p>\n",
              "<ul class=\"lst-items\">\n",
              "<li class=\"txt-items\">► Bancos de couro</li>\n",
              "<li class=\"txt-items\">► Freios ABS</li>\n",
              "<li class=\"txt-items\">► Rodas de liga</li>\n",
              "<li class=\"txt-items\">► Câmbio automático</li>\n",
              "<li class=\"txt-items\">...</li>\n",
              "</ul>\n",
              "<p class=\"txt-location\">São Paulo - SP</p>\n",
              "</div>\n",
              "<div class=\"col-md-3 value-card\">\n",
              "<div class=\"value\">\n",
              "<p class=\"txt-value\">R$ 133.000</p>\n",
              "</div>\n",
              "</div>\n",
              "</div>\n",
              "<div class=\"well card\">\n",
              "<div class=\"col-md-3 image-card\">\n",
              "<img alt=\"Foto\" height=\"155\" src=\"https://caelum-online-public.s3.amazonaws.com/1381-scraping/01/img-cars/lamborghini-murcielago/lamborghini-murcielago-2872974__340.jpg\" width=\"220\"/>\n",
              "</div>\n",
              "<div class=\"col-md-6 body-card\">\n",
              "<p class=\"txt-name inline\">LAMBORGHINI MURCIELAGO</p>\n",
              "<p class=\"txt-category badge badge-secondary inline\">USADO</p>\n",
              "<p class=\"txt-motor\">Motor 1.0 8v</p>\n",
              "<p class=\"txt-description\">Ano 1991 - 464 km</p>\n",
              "<ul class=\"lst-items\">\n",
              "<li class=\"txt-items\">► Central multimídia</li>\n",
              "<li class=\"txt-items\">► Teto panorâmico</li>\n",
              "<li class=\"txt-items\">► Sensor crepuscular</li>\n",
              "<li class=\"txt-items\">► Piloto automático</li>\n",
              "<li class=\"txt-items\">...</li>\n",
              "</ul>\n",
              "<p class=\"txt-location\">Belo Horizonte - MG</p>\n",
              "</div>\n",
              "<div class=\"col-md-3 value-card\">\n",
              "<div class=\"value\">\n",
              "<p class=\"txt-value\">R$ 175.000</p>\n",
              "</div>\n",
              "</div>\n",
              "</div>\n",
              "<div class=\"well card\">\n",
              "<div class=\"col-md-3 image-card\">\n",
              "<img alt=\"Foto\" height=\"155\" src=\"https://caelum-online-public.s3.amazonaws.com/1381-scraping/01/img-cars/aston-martin/aston-martin-2977916__340.jpg\" width=\"220\"/>\n",
              "</div>\n",
              "<div class=\"col-md-6 body-card\">\n",
              "<p class=\"txt-name inline\">ASTON MARTIN</p>\n",
              "<p class=\"txt-category badge badge-secondary inline\">USADO</p>\n",
              "<p class=\"txt-opportunity badge badge-danger inline\">OPORTUNIDADE</p>\n",
              "<p class=\"txt-motor\">Motor Diesel V6</p>\n",
              "<p class=\"txt-description\">Ano 2004 - 50.189 km</p>\n",
              "<ul class=\"lst-items\">\n",
              "<li class=\"txt-items\">► Painel digital</li>\n",
              "<li class=\"txt-items\">► Controle de tração</li>\n",
              "<li class=\"txt-items\">► Teto panorâmico</li>\n",
              "<li class=\"txt-items\">► Central multimídia</li>\n",
              "<li class=\"txt-items\">...</li>\n",
              "</ul>\n",
              "<p class=\"txt-location\">Belo Horizonte - MG</p>\n",
              "</div>\n",
              "<div class=\"col-md-3 value-card\">\n",
              "<div class=\"value\">\n",
              "<p class=\"txt-value\">R$ 239.000</p>\n",
              "</div>\n",
              "</div>\n",
              "</div>\n",
              "<div class=\"well card\">\n",
              "<div class=\"col-md-3 image-card\">\n",
              "<img alt=\"Foto\" height=\"155\" src=\"https://caelum-online-public.s3.amazonaws.com/1381-scraping/01/img-cars/tvr/tvr-2943925__340.jpg\" width=\"220\"/>\n",
              "</div>\n",
              "<div class=\"col-md-6 body-card\">\n",
              "<p class=\"txt-name inline\">TVR</p>\n",
              "<p class=\"txt-category badge badge-secondary inline\">USADO</p>\n",
              "<p class=\"txt-motor\">Motor 4.0 Turbo</p>\n",
              "<p class=\"txt-description\">Ano 2014 - 17.778 km</p>\n",
              "<ul class=\"lst-items\">\n",
              "<li class=\"txt-items\">► 4 X 4</li>\n",
              "<li class=\"txt-items\">► Teto panorâmico</li>\n",
              "<li class=\"txt-items\">► Central multimídia</li>\n",
              "<li class=\"txt-items\">► Controle de estabilidade</li>\n",
              "<li class=\"txt-items\">...</li>\n",
              "</ul>\n",
              "<p class=\"txt-location\">Belo Horizonte - MG</p>\n",
              "</div>\n",
              "<div class=\"col-md-3 value-card\">\n",
              "<div class=\"value\">\n",
              "<p class=\"txt-value\">R$ 115.000</p>\n",
              "</div>\n",
              "</div>\n",
              "</div>\n",
              "<div class=\"well card\">\n",
              "<div class=\"col-md-3 image-card\">\n",
              "<img alt=\"Foto\" height=\"155\" src=\"https://caelum-online-public.s3.amazonaws.com/1381-scraping/01/img-cars/excalibur/excalibur-2916730__340.jpg\" width=\"220\"/>\n",
              "</div>\n",
              "<div class=\"col-md-6 body-card\">\n",
              "<p class=\"txt-name inline\">EXCALIBUR</p>\n",
              "<p class=\"txt-category badge badge-secondary inline\">USADO</p>\n",
              "<p class=\"txt-motor\">Motor 3.0 32v</p>\n",
              "<p class=\"txt-description\">Ano 2009 - 81.251 km</p>\n",
              "<ul class=\"lst-items\">\n",
              "<li class=\"txt-items\">► Painel digital</li>\n",
              "<li class=\"txt-items\">► Câmbio automático</li>\n",
              "<li class=\"txt-items\">► Sensor de chuva</li>\n",
              "<li class=\"txt-items\">► Travas elétricas</li>\n",
              "<li class=\"txt-items\">...</li>\n",
              "</ul>\n",
              "<p class=\"txt-location\">Rio de Janeiro - RJ</p>\n",
              "</div>\n",
              "<div class=\"col-md-3 value-card\">\n",
              "<div class=\"value\">\n",
              "<p class=\"txt-value\">R$ 114.000</p>\n",
              "</div>\n",
              "</div>\n",
              "</div>\n",
              "<div class=\"well card\">\n",
              "<div class=\"col-md-3 image-card\">\n",
              "<img alt=\"Foto\" height=\"155\" src=\"https://caelum-online-public.s3.amazonaws.com/1381-scraping/01/img-cars/mclaren/mclaren-2855240__340.jpg\" width=\"220\"/>\n",
              "</div>\n",
              "<div class=\"col-md-6 body-card\">\n",
              "<p class=\"txt-name inline\">MCLAREN</p>\n",
              "<p class=\"txt-category badge badge-secondary inline\">NOVO</p>\n",
              "<p class=\"txt-motor\">Motor Diesel</p>\n",
              "<p class=\"txt-description\">Ano 2019 - 0 km</p>\n",
              "<ul class=\"lst-items\">\n",
              "<li class=\"txt-items\">► Central multimídia</li>\n",
              "<li class=\"txt-items\">► Câmera de estacionamento</li>\n",
              "<li class=\"txt-items\">► Câmbio automático</li>\n",
              "<li class=\"txt-items\">► Ar condicionado</li>\n",
              "<li class=\"txt-items\">...</li>\n",
              "</ul>\n",
              "<p class=\"txt-location\">São Paulo - SP</p>\n",
              "</div>\n",
              "<div class=\"col-md-3 value-card\">\n",
              "<div class=\"value\">\n",
              "<p class=\"txt-value\">R$ 75.000</p>\n",
              "</div>\n",
              "</div>\n",
              "</div>\n",
              "<div class=\"well card\">\n",
              "<div class=\"col-md-3 image-card\">\n",
              "<img alt=\"Foto\" height=\"155\" src=\"https://caelum-online-public.s3.amazonaws.com/1381-scraping/01/img-cars/toyota/toyota-3245397__340.jpg\" width=\"220\"/>\n",
              "</div>\n",
              "<div class=\"col-md-6 body-card\">\n",
              "<p class=\"txt-name inline\">TOYOTA</p>\n",
              "<p class=\"txt-category badge badge-secondary inline\">USADO</p>\n",
              "<p class=\"txt-opportunity badge badge-danger inline\">OPORTUNIDADE</p>\n",
              "<p class=\"txt-motor\">Motor 4.0 Turbo</p>\n",
              "<p class=\"txt-description\">Ano 1999 - 12.536 km</p>\n",
              "<ul class=\"lst-items\">\n",
              "<li class=\"txt-items\">► Bancos de couro</li>\n",
              "<li class=\"txt-items\">► Freios ABS</li>\n",
              "<li class=\"txt-items\">► Piloto automático</li>\n",
              "<li class=\"txt-items\">► Controle de estabilidade</li>\n",
              "<li class=\"txt-items\">...</li>\n",
              "</ul>\n",
              "<p class=\"txt-location\">São Paulo - SP</p>\n",
              "</div>\n",
              "<div class=\"col-md-3 value-card\">\n",
              "<div class=\"value\">\n",
              "<p class=\"txt-value\">R$ 117.000</p>\n",
              "</div>\n",
              "</div>\n",
              "</div> </div>\n",
              "<div class=\"type-select\">246 veículos encontrados</div>\n",
              "<div class=\"container-pagination\" style=\"float: right\">\n",
              "<span class=\"info-pages\">Página 1 de 25</span>\n",
              "</div>\n",
              "</div>\n",
              "</div>\n",
              "</div>\n",
              "</div>\n",
              "</body></html>\n",
              "<footer>\n",
              "<nav class=\"navbar navbar-inverse\">\n",
              "<div class=\"container\" style=\"margin-bottom: 10px;\">\n",
              "<div class=\"navbar\">\n",
              "<a class=\"navbar-brand\" href=\"./index.php\" title=\"Alura Motors\">\n",
              "<img alt=\"Alura\" class=\"d-inline-block align-top\" src=\"img/alura-logo.svg\"/>Motors\n",
              "\t\t\t\t\t\t</a>\n",
              "<p style=\"color: #fff; text-align: center; margin-top: 40px;\">Aplicação para treinamento de web scraping</p>\n",
              "</div>\n",
              "</div>\n",
              "</nav>\n",
              "</footer>\n",
              "\n",
              "\n"
            ]
          },
          "metadata": {},
          "execution_count": 132
        }
      ],
      "source": [
        "response = urlopen('https://alura-site-scraping.herokuapp.com/index.php')\n",
        "html = response.read().decode('utf-8')\n",
        "soup = BeautifulSoup(html, 'html.parser')\n",
        "soup"
      ]
    },
    {
      "cell_type": "markdown",
      "metadata": {
        "id": "9CxcogRbEVWb"
      },
      "source": [
        "### Criando variávels para armazenar informações"
      ]
    },
    {
      "cell_type": "code",
      "execution_count": 133,
      "metadata": {
        "id": "rLvZbevhEVWb"
      },
      "outputs": [],
      "source": [
        "#criando variáveis para armazenar o dados \n",
        "cards = []\n",
        "card = {}"
      ]
    },
    {
      "cell_type": "markdown",
      "metadata": {
        "id": "_5s5GzQBEVWb"
      },
      "source": [
        "### Obtendo os dados do primeiro CARD"
      ]
    },
    {
      "cell_type": "code",
      "execution_count": 134,
      "metadata": {
        "scrolled": false,
        "id": "xJq7TwMJEVWb",
        "colab": {
          "base_uri": "https://localhost:8080/"
        },
        "outputId": "90e3faf7-bf11-40c2-d89e-319f8f49b08e"
      },
      "outputs": [
        {
          "output_type": "execute_result",
          "data": {
            "text/plain": [
              "<div class=\"well card\">\n",
              "<div class=\"col-md-3 image-card\">\n",
              "<img alt=\"Foto\" height=\"155\" src=\"https://caelum-online-public.s3.amazonaws.com/1381-scraping/01/img-cars/lamborghini-aventador/lamborghini-aventador-2932196__340.jpg\" width=\"220\"/>\n",
              "</div>\n",
              "<div class=\"col-md-6 body-card\">\n",
              "<p class=\"txt-name inline\">LAMBORGHINI AVENTADOR</p>\n",
              "<p class=\"txt-category badge badge-secondary inline\">USADO</p>\n",
              "<p class=\"txt-motor\">Motor 1.8 16v</p>\n",
              "<p class=\"txt-description\">Ano 1993 - 55.286 km</p>\n",
              "<ul class=\"lst-items\">\n",
              "<li class=\"txt-items\">► 4 X 4</li>\n",
              "<li class=\"txt-items\">► Câmera de estacionamento</li>\n",
              "<li class=\"txt-items\">► Controle de tração</li>\n",
              "<li class=\"txt-items\">► Sensor de estacionamento</li>\n",
              "<li class=\"txt-items\">...</li>\n",
              "</ul>\n",
              "<p class=\"txt-location\">Belo Horizonte - MG</p>\n",
              "</div>\n",
              "<div class=\"col-md-3 value-card\">\n",
              "<div class=\"value\">\n",
              "<p class=\"txt-value\">R$ 338.000</p>\n",
              "</div>\n",
              "</div>\n",
              "</div>"
            ]
          },
          "metadata": {},
          "execution_count": 134
        }
      ],
      "source": [
        "#selecionando na página uma DIV que tenha como classe o WELL e CARD para selecionar os dados do anúncio \n",
        "anuncio = soup.find('div', {'class': 'well card'})\n",
        "anuncio"
      ]
    },
    {
      "cell_type": "markdown",
      "metadata": {
        "id": "0FmzB7UEEVWb"
      },
      "source": [
        "# 5.2. Obtendo o VALOR do veículo anunciado"
      ]
    },
    {
      "cell_type": "code",
      "execution_count": 135,
      "metadata": {
        "id": "3WlBHqmuEVWb",
        "colab": {
          "base_uri": "https://localhost:8080/"
        },
        "outputId": "d8809637-0a58-428d-d628-d9819af46f13"
      },
      "outputs": [
        {
          "output_type": "execute_result",
          "data": {
            "text/plain": [
              "<div class=\"col-md-3 value-card\">\n",
              "<div class=\"value\">\n",
              "<p class=\"txt-value\">R$ 338.000</p>\n",
              "</div>\n",
              "</div>"
            ]
          },
          "metadata": {},
          "execution_count": 135
        }
      ],
      "source": [
        "#achar a DIV que possui a classe VALUE-CARD\n",
        "anuncio.find('div', {'class' : 'value-card'})"
      ]
    },
    {
      "cell_type": "code",
      "execution_count": 136,
      "metadata": {
        "id": "yLy-pB2hEVWb",
        "colab": {
          "base_uri": "https://localhost:8080/",
          "height": 0
        },
        "outputId": "b6b8e460-d84d-4419-c57a-f52f2105d51c"
      },
      "outputs": [
        {
          "output_type": "execute_result",
          "data": {
            "text/plain": [
              "'R$ 338.000'"
            ],
            "application/vnd.google.colaboratory.intrinsic+json": {
              "type": "string"
            }
          },
          "metadata": {},
          "execution_count": 136
        }
      ],
      "source": [
        "#achar o valor que está contido no anúncio \n",
        "anuncio.find('p', {'class' : 'txt-value'}).get_text()"
      ]
    },
    {
      "cell_type": "code",
      "execution_count": 137,
      "metadata": {
        "id": "vCK2ISPqEVWc",
        "colab": {
          "base_uri": "https://localhost:8080/"
        },
        "outputId": "c24df23d-3bdb-43ce-e17a-f36d9ffd8fe8"
      },
      "outputs": [
        {
          "output_type": "execute_result",
          "data": {
            "text/plain": [
              "{'value': 'R$ 338.000'}"
            ]
          },
          "metadata": {},
          "execution_count": 137
        }
      ],
      "source": [
        "#salvando card no dic criado \n",
        "card['value'] = anuncio.find('p', {'class' : 'txt-value'}).get_text()\n",
        "card"
      ]
    },
    {
      "cell_type": "code",
      "execution_count": 137,
      "metadata": {
        "id": "WPbaskniEVWc"
      },
      "outputs": [],
      "source": [
        ""
      ]
    },
    {
      "cell_type": "code",
      "execution_count": 137,
      "metadata": {
        "id": "MDhSSv-sEVWc"
      },
      "outputs": [],
      "source": [
        ""
      ]
    },
    {
      "cell_type": "markdown",
      "metadata": {
        "id": "ZcpDq_1vEVWc"
      },
      "source": [
        "### <font color=red>Resumo"
      ]
    },
    {
      "cell_type": "code",
      "execution_count": 138,
      "metadata": {
        "id": "oAGcHlyhEVWc"
      },
      "outputs": [],
      "source": [
        "# Valor para obter o valor do CLASS txt value \n",
        "card['value'] = anuncio.find('p', {'class' : 'txt-value'}).get_text()\n"
      ]
    },
    {
      "cell_type": "markdown",
      "metadata": {
        "id": "c0I3dgGfEVWc"
      },
      "source": [
        "# 5.3. Obtendo as INFORMAÇÕES sobre o veículo anunciado"
      ]
    },
    {
      "cell_type": "code",
      "execution_count": 139,
      "metadata": {
        "id": "dHduIbZjEVWd",
        "colab": {
          "base_uri": "https://localhost:8080/"
        },
        "outputId": "dfa53f27-0f5c-43cd-9b5f-a13c8c9871ad"
      },
      "outputs": [
        {
          "output_type": "execute_result",
          "data": {
            "text/plain": [
              "[<p class=\"txt-name inline\">LAMBORGHINI AVENTADOR</p>,\n",
              " <p class=\"txt-category badge badge-secondary inline\">USADO</p>,\n",
              " <p class=\"txt-motor\">Motor 1.8 16v</p>,\n",
              " <p class=\"txt-description\">Ano 1993 - 55.286 km</p>,\n",
              " <p class=\"txt-location\">Belo Horizonte - MG</p>]"
            ]
          },
          "metadata": {},
          "execution_count": 139
        }
      ],
      "source": [
        "#primeiro procuramos a tag div para achar o bloco de tags e depos usamos o método findALL com as divisões 'p' para colocar os resultados numa lista\n",
        "anuncio.find('div', {'class':'body-card'}).findAll('p')"
      ]
    },
    {
      "cell_type": "code",
      "execution_count": 140,
      "metadata": {
        "id": "WVJfIZewEVWd"
      },
      "outputs": [],
      "source": [
        "#salvando a lista de todos os elementos com a tag 'p' em um variável \n",
        "infos = anuncio.find('div', {'class':'body-card'}).findAll('p')"
      ]
    },
    {
      "cell_type": "code",
      "execution_count": 141,
      "metadata": {
        "id": "Cxvd0YrSEVWd",
        "colab": {
          "base_uri": "https://localhost:8080/"
        },
        "outputId": "2fee54b3-439a-470f-8903-00fb68b9462d"
      },
      "outputs": [
        {
          "output_type": "stream",
          "name": "stdout",
          "text": [
            "['txt-name', 'inline']  -  LAMBORGHINI AVENTADOR\n",
            "['txt-category', 'badge', 'badge-secondary', 'inline']  -  USADO\n",
            "['txt-motor']  -  Motor 1.8 16v\n",
            "['txt-description']  -  Ano 1993 - 55.286 km\n",
            "['txt-location']  -  Belo Horizonte - MG\n"
          ]
        }
      ],
      "source": [
        "#fazendo uma iteração para extrair todos os nomes das classes,  um ' - ', e a conteúdo dentro da TAG, retornando em listas separadas\n",
        "for info in infos:\n",
        "  print(info.get('class'), ' - ', info.get_text())"
      ]
    },
    {
      "cell_type": "code",
      "execution_count": 142,
      "metadata": {
        "id": "uPtq1DyREVWd",
        "colab": {
          "base_uri": "https://localhost:8080/"
        },
        "outputId": "60f47a8e-fe7f-4b70-db74-e97d71129026"
      },
      "outputs": [
        {
          "output_type": "stream",
          "name": "stdout",
          "text": [
            "txt-name  -  LAMBORGHINI AVENTADOR\n",
            "txt-category  -  USADO\n",
            "txt-motor  -  Motor 1.8 16v\n",
            "txt-description  -  Ano 1993 - 55.286 km\n",
            "txt-location  -  Belo Horizonte - MG\n"
          ]
        }
      ],
      "source": [
        "#imprimir apenas primeiro item do nome das CLASS\n",
        "for info in infos:\n",
        "  print(info.get('class')[0], ' - ', info.get_text())"
      ]
    },
    {
      "cell_type": "code",
      "execution_count": 143,
      "metadata": {
        "id": "nDE4SpmUEVWd",
        "colab": {
          "base_uri": "https://localhost:8080/"
        },
        "outputId": "a3eb699d-960a-47cc-d94e-140f77f9297c"
      },
      "outputs": [
        {
          "output_type": "stream",
          "name": "stdout",
          "text": [
            "['txt', 'name']  -  LAMBORGHINI AVENTADOR\n",
            "['txt', 'category']  -  USADO\n",
            "['txt', 'motor']  -  Motor 1.8 16v\n",
            "['txt', 'description']  -  Ano 1993 - 55.286 km\n",
            "['txt', 'location']  -  Belo Horizonte - MG\n"
          ]
        }
      ],
      "source": [
        "#passando o m´´etodo split pra separar o txt das classes e pegar apenas o nome das classes \n",
        "for info in infos:\n",
        "  print(info.get('class')[0].split('-'), ' - ', info.get_text())"
      ]
    },
    {
      "cell_type": "code",
      "execution_count": 144,
      "metadata": {
        "id": "MdohzYPnEVWd",
        "colab": {
          "base_uri": "https://localhost:8080/"
        },
        "outputId": "108b314c-0669-4663-cf7e-ca57421d9b47"
      },
      "outputs": [
        {
          "output_type": "stream",
          "name": "stdout",
          "text": [
            "name  -  LAMBORGHINI AVENTADOR\n",
            "category  -  USADO\n",
            "motor  -  Motor 1.8 16v\n",
            "description  -  Ano 1993 - 55.286 km\n",
            "location  -  Belo Horizonte - MG\n"
          ]
        }
      ],
      "source": [
        "for info in infos:\n",
        "  print(info.get('class')[0].split('-')[-1], ' - ', info.get_text())"
      ]
    },
    {
      "cell_type": "code",
      "execution_count": 145,
      "metadata": {
        "id": "nS_DcdxWEVWd",
        "colab": {
          "base_uri": "https://localhost:8080/"
        },
        "outputId": "ae0e7d64-b5de-40cc-bd98-d1519d505b54"
      },
      "outputs": [
        {
          "output_type": "stream",
          "name": "stdout",
          "text": [
            "name  -  LAMBORGHINI AVENTADOR\n",
            "category  -  USADO\n",
            "motor  -  Motor 1.8 16v\n",
            "description  -  Ano 1993 - 55.286 km\n",
            "location  -  Belo Horizonte - MG\n"
          ]
        }
      ],
      "source": [
        "for info in infos:\n",
        "  print(info.get('class')[0].split('-')[-1], ' - ', info.get_text())"
      ]
    },
    {
      "cell_type": "code",
      "execution_count": 146,
      "metadata": {
        "id": "GrCwq4ouEVWd",
        "colab": {
          "base_uri": "https://localhost:8080/"
        },
        "outputId": "c8c49cab-bb42-485c-9506-5aa85a6fee97"
      },
      "outputs": [
        {
          "output_type": "execute_result",
          "data": {
            "text/plain": [
              "{'category': 'USADO',\n",
              " 'description': 'Ano 1993 - 55.286 km',\n",
              " 'location': 'Belo Horizonte - MG',\n",
              " 'motor': 'Motor 1.8 16v',\n",
              " 'name': 'LAMBORGHINI AVENTADOR',\n",
              " 'value': 'R$ 338.000'}"
            ]
          },
          "metadata": {},
          "execution_count": 146
        }
      ],
      "source": [
        "#iterando para criar dicionário com o o último nome da classe [-1] e a informação da TAG\n",
        "for info in infos:\n",
        "  card[info.get('class')[0].split('-')[-1]] =  info.get_text()\n",
        "\n",
        "card"
      ]
    },
    {
      "cell_type": "markdown",
      "metadata": {
        "id": "-5e4-88rEVWe"
      },
      "source": [
        "### <font color=red>Resumo"
      ]
    },
    {
      "cell_type": "code",
      "execution_count": 147,
      "metadata": {
        "id": "S39_qBHwEVWe"
      },
      "outputs": [],
      "source": [
        "# Informações\n",
        "infos = anuncio.find('div', {'class':'body-card'}).findAll('p')\n",
        "for info in infos:\n",
        "  card[info.get('class')[0].split('-')[-1]] =  info.get_text()\n"
      ]
    },
    {
      "cell_type": "markdown",
      "metadata": {
        "id": "TTnCAKMDEVWe"
      },
      "source": [
        "# 5.4. Obtendo os ACESSÓRIOS do veículo anunciado"
      ]
    },
    {
      "cell_type": "code",
      "source": [
        "#selecionar primeiro a DIV depois alguma class que filtre o resultado, neste caso a class body-card, usar o find para achar todas 'ui', findaAll para todos os 'li', resultado em uma lista.\n",
        "anuncio.find('div', {'class':'body-card'}).find('ul').findAll('li')"
      ],
      "metadata": {
        "colab": {
          "base_uri": "https://localhost:8080/"
        },
        "id": "U6ZmH29o8WBd",
        "outputId": "ab6b8081-20c7-4ea3-bee4-5867328c22f6"
      },
      "execution_count": 148,
      "outputs": [
        {
          "output_type": "execute_result",
          "data": {
            "text/plain": [
              "[<li class=\"txt-items\">► 4 X 4</li>,\n",
              " <li class=\"txt-items\">► Câmera de estacionamento</li>,\n",
              " <li class=\"txt-items\">► Controle de tração</li>,\n",
              " <li class=\"txt-items\">► Sensor de estacionamento</li>,\n",
              " <li class=\"txt-items\">...</li>]"
            ]
          },
          "metadata": {},
          "execution_count": 148
        }
      ]
    },
    {
      "cell_type": "code",
      "execution_count": 149,
      "metadata": {
        "id": "KxuRzPgPEVWe"
      },
      "outputs": [],
      "source": [
        "#salvar todo o método para encontrar bloco HTML em uma variável para assim iterar e encaixar outros métodos\n",
        "items = anuncio.find('div', {'class':'body-card'}).find('ul').findAll('li')"
      ]
    },
    {
      "cell_type": "code",
      "source": [
        "items.pop()"
      ],
      "metadata": {
        "colab": {
          "base_uri": "https://localhost:8080/"
        },
        "id": "lRbV_CZGB4XU",
        "outputId": "17c26991-8a79-4b77-c1f4-6bce19c7147f"
      },
      "execution_count": 150,
      "outputs": [
        {
          "output_type": "execute_result",
          "data": {
            "text/plain": [
              "<li class=\"txt-items\">...</li>"
            ]
          },
          "metadata": {},
          "execution_count": 150
        }
      ]
    },
    {
      "cell_type": "code",
      "execution_count": 151,
      "metadata": {
        "id": "NDq9wWdsEVWe",
        "colab": {
          "base_uri": "https://localhost:8080/"
        },
        "outputId": "5a2463a0-433d-4b01-a823-ba7d20eb1214"
      },
      "outputs": [
        {
          "output_type": "execute_result",
          "data": {
            "text/plain": [
              "[<li class=\"txt-items\">► 4 X 4</li>,\n",
              " <li class=\"txt-items\">► Câmera de estacionamento</li>,\n",
              " <li class=\"txt-items\">► Controle de tração</li>,\n",
              " <li class=\"txt-items\">► Sensor de estacionamento</li>]"
            ]
          },
          "metadata": {},
          "execution_count": 151
        }
      ],
      "source": [
        "items"
      ]
    },
    {
      "cell_type": "code",
      "execution_count": 152,
      "metadata": {
        "id": "FPXfrLReEVWe",
        "colab": {
          "base_uri": "https://localhost:8080/"
        },
        "outputId": "b0b52dbe-2cee-4dab-ebf0-25c623bb6035"
      },
      "outputs": [
        {
          "output_type": "stream",
          "name": "stdout",
          "text": [
            "4 X 4\n",
            "Câmera de estacionamento\n",
            "Controle de tração\n",
            "Sensor de estacionamento\n"
          ]
        }
      ],
      "source": [
        "for item in items:\n",
        "  print(item.get_text().replace('► ', ''))"
      ]
    },
    {
      "cell_type": "code",
      "execution_count": 153,
      "metadata": {
        "id": "sPy9RB6REVWe",
        "colab": {
          "base_uri": "https://localhost:8080/"
        },
        "outputId": "c82070c1-273f-429e-80a8-4fa8890df767"
      },
      "outputs": [
        {
          "output_type": "execute_result",
          "data": {
            "text/plain": [
              "['4 X 4',\n",
              " 'Câmera de estacionamento',\n",
              " 'Controle de tração',\n",
              " 'Sensor de estacionamento']"
            ]
          },
          "metadata": {},
          "execution_count": 153
        }
      ],
      "source": [
        "acessorios = []\n",
        "for item in items:\n",
        "  acessorios.append(item.getText().replace('► ', ''))\n",
        "\n",
        "acessorios"
      ]
    },
    {
      "cell_type": "code",
      "execution_count": 154,
      "metadata": {
        "id": "-UC2nzTYEVWf"
      },
      "outputs": [],
      "source": [
        "card['itens'] = acessorios"
      ]
    },
    {
      "cell_type": "code",
      "execution_count": 155,
      "metadata": {
        "id": "EoqWCiFOEVWf",
        "colab": {
          "base_uri": "https://localhost:8080/"
        },
        "outputId": "9f14c059-bd54-4355-c3c0-a157ab4cfd4a"
      },
      "outputs": [
        {
          "output_type": "execute_result",
          "data": {
            "text/plain": [
              "{'category': 'USADO',\n",
              " 'description': 'Ano 1993 - 55.286 km',\n",
              " 'itens': ['4 X 4',\n",
              "  'Câmera de estacionamento',\n",
              "  'Controle de tração',\n",
              "  'Sensor de estacionamento'],\n",
              " 'location': 'Belo Horizonte - MG',\n",
              " 'motor': 'Motor 1.8 16v',\n",
              " 'name': 'LAMBORGHINI AVENTADOR',\n",
              " 'value': 'R$ 338.000'}"
            ]
          },
          "metadata": {},
          "execution_count": 155
        }
      ],
      "source": [
        "card"
      ]
    },
    {
      "cell_type": "code",
      "execution_count": 155,
      "metadata": {
        "id": "2teh0TmwEVWf"
      },
      "outputs": [],
      "source": [
        ""
      ]
    },
    {
      "cell_type": "markdown",
      "metadata": {
        "id": "KL8pmqgYEVWf"
      },
      "source": [
        "### <font color=red>Resumo"
      ]
    },
    {
      "cell_type": "code",
      "execution_count": 156,
      "metadata": {
        "id": "hqXWTV50EVWf",
        "colab": {
          "base_uri": "https://localhost:8080/"
        },
        "outputId": "8c4357ff-e924-4a2e-ef89-f2566b31f953"
      },
      "outputs": [
        {
          "output_type": "stream",
          "name": "stdout",
          "text": [
            "4 X 4\n",
            "Câmera de estacionamento\n",
            "Controle de tração\n",
            "Sensor de estacionamento\n"
          ]
        }
      ],
      "source": [
        "# Acessórios, tudo que foi tratado para conseguir a lista de acessórios \n",
        "items = anuncio.find('div', {'class':'body-card'}).find('ul').findAll('li')\n",
        "items.pop()\n",
        "for item in items:\n",
        "  print(item.get_text().replace('► ', ''))\n",
        "card['itens'] = acessorios"
      ]
    },
    {
      "cell_type": "markdown",
      "metadata": {
        "id": "RAYYxwWBEVWf"
      },
      "source": [
        "# 5.5 Criando um DataFrame com os dados coletados do Alura Motors"
      ]
    },
    {
      "cell_type": "code",
      "execution_count": 157,
      "metadata": {
        "id": "WF2JsM2vEVWg"
      },
      "outputs": [],
      "source": [
        "dataset = pd.DataFrame(card )"
      ]
    },
    {
      "cell_type": "code",
      "execution_count": 158,
      "metadata": {
        "id": "2Yc0SR5CEVWg",
        "colab": {
          "base_uri": "https://localhost:8080/",
          "height": 288
        },
        "outputId": "78405577-9e8b-41c5-8d7b-a06e33c3e41b"
      },
      "outputs": [
        {
          "output_type": "execute_result",
          "data": {
            "text/plain": [
              "        value                   name category          motor  \\\n",
              "0  R$ 338.000  LAMBORGHINI AVENTADOR    USADO  Motor 1.8 16v   \n",
              "1  R$ 338.000  LAMBORGHINI AVENTADOR    USADO  Motor 1.8 16v   \n",
              "2  R$ 338.000  LAMBORGHINI AVENTADOR    USADO  Motor 1.8 16v   \n",
              "3  R$ 338.000  LAMBORGHINI AVENTADOR    USADO  Motor 1.8 16v   \n",
              "\n",
              "            description             location                     itens  \n",
              "0  Ano 1993 - 55.286 km  Belo Horizonte - MG                     4 X 4  \n",
              "1  Ano 1993 - 55.286 km  Belo Horizonte - MG  Câmera de estacionamento  \n",
              "2  Ano 1993 - 55.286 km  Belo Horizonte - MG        Controle de tração  \n",
              "3  Ano 1993 - 55.286 km  Belo Horizonte - MG  Sensor de estacionamento  "
            ],
            "text/html": [
              "\n",
              "  <div id=\"df-60218f1f-b457-41a0-8c70-e993a2972ed7\">\n",
              "    <div class=\"colab-df-container\">\n",
              "      <div>\n",
              "<style scoped>\n",
              "    .dataframe tbody tr th:only-of-type {\n",
              "        vertical-align: middle;\n",
              "    }\n",
              "\n",
              "    .dataframe tbody tr th {\n",
              "        vertical-align: top;\n",
              "    }\n",
              "\n",
              "    .dataframe thead th {\n",
              "        text-align: right;\n",
              "    }\n",
              "</style>\n",
              "<table border=\"1\" class=\"dataframe\">\n",
              "  <thead>\n",
              "    <tr style=\"text-align: right;\">\n",
              "      <th></th>\n",
              "      <th>value</th>\n",
              "      <th>name</th>\n",
              "      <th>category</th>\n",
              "      <th>motor</th>\n",
              "      <th>description</th>\n",
              "      <th>location</th>\n",
              "      <th>itens</th>\n",
              "    </tr>\n",
              "  </thead>\n",
              "  <tbody>\n",
              "    <tr>\n",
              "      <th>0</th>\n",
              "      <td>R$ 338.000</td>\n",
              "      <td>LAMBORGHINI AVENTADOR</td>\n",
              "      <td>USADO</td>\n",
              "      <td>Motor 1.8 16v</td>\n",
              "      <td>Ano 1993 - 55.286 km</td>\n",
              "      <td>Belo Horizonte - MG</td>\n",
              "      <td>4 X 4</td>\n",
              "    </tr>\n",
              "    <tr>\n",
              "      <th>1</th>\n",
              "      <td>R$ 338.000</td>\n",
              "      <td>LAMBORGHINI AVENTADOR</td>\n",
              "      <td>USADO</td>\n",
              "      <td>Motor 1.8 16v</td>\n",
              "      <td>Ano 1993 - 55.286 km</td>\n",
              "      <td>Belo Horizonte - MG</td>\n",
              "      <td>Câmera de estacionamento</td>\n",
              "    </tr>\n",
              "    <tr>\n",
              "      <th>2</th>\n",
              "      <td>R$ 338.000</td>\n",
              "      <td>LAMBORGHINI AVENTADOR</td>\n",
              "      <td>USADO</td>\n",
              "      <td>Motor 1.8 16v</td>\n",
              "      <td>Ano 1993 - 55.286 km</td>\n",
              "      <td>Belo Horizonte - MG</td>\n",
              "      <td>Controle de tração</td>\n",
              "    </tr>\n",
              "    <tr>\n",
              "      <th>3</th>\n",
              "      <td>R$ 338.000</td>\n",
              "      <td>LAMBORGHINI AVENTADOR</td>\n",
              "      <td>USADO</td>\n",
              "      <td>Motor 1.8 16v</td>\n",
              "      <td>Ano 1993 - 55.286 km</td>\n",
              "      <td>Belo Horizonte - MG</td>\n",
              "      <td>Sensor de estacionamento</td>\n",
              "    </tr>\n",
              "  </tbody>\n",
              "</table>\n",
              "</div>\n",
              "      <button class=\"colab-df-convert\" onclick=\"convertToInteractive('df-60218f1f-b457-41a0-8c70-e993a2972ed7')\"\n",
              "              title=\"Convert this dataframe to an interactive table.\"\n",
              "              style=\"display:none;\">\n",
              "        \n",
              "  <svg xmlns=\"http://www.w3.org/2000/svg\" height=\"24px\"viewBox=\"0 0 24 24\"\n",
              "       width=\"24px\">\n",
              "    <path d=\"M0 0h24v24H0V0z\" fill=\"none\"/>\n",
              "    <path d=\"M18.56 5.44l.94 2.06.94-2.06 2.06-.94-2.06-.94-.94-2.06-.94 2.06-2.06.94zm-11 1L8.5 8.5l.94-2.06 2.06-.94-2.06-.94L8.5 2.5l-.94 2.06-2.06.94zm10 10l.94 2.06.94-2.06 2.06-.94-2.06-.94-.94-2.06-.94 2.06-2.06.94z\"/><path d=\"M17.41 7.96l-1.37-1.37c-.4-.4-.92-.59-1.43-.59-.52 0-1.04.2-1.43.59L10.3 9.45l-7.72 7.72c-.78.78-.78 2.05 0 2.83L4 21.41c.39.39.9.59 1.41.59.51 0 1.02-.2 1.41-.59l7.78-7.78 2.81-2.81c.8-.78.8-2.07 0-2.86zM5.41 20L4 18.59l7.72-7.72 1.47 1.35L5.41 20z\"/>\n",
              "  </svg>\n",
              "      </button>\n",
              "      \n",
              "  <style>\n",
              "    .colab-df-container {\n",
              "      display:flex;\n",
              "      flex-wrap:wrap;\n",
              "      gap: 12px;\n",
              "    }\n",
              "\n",
              "    .colab-df-convert {\n",
              "      background-color: #E8F0FE;\n",
              "      border: none;\n",
              "      border-radius: 50%;\n",
              "      cursor: pointer;\n",
              "      display: none;\n",
              "      fill: #1967D2;\n",
              "      height: 32px;\n",
              "      padding: 0 0 0 0;\n",
              "      width: 32px;\n",
              "    }\n",
              "\n",
              "    .colab-df-convert:hover {\n",
              "      background-color: #E2EBFA;\n",
              "      box-shadow: 0px 1px 2px rgba(60, 64, 67, 0.3), 0px 1px 3px 1px rgba(60, 64, 67, 0.15);\n",
              "      fill: #174EA6;\n",
              "    }\n",
              "\n",
              "    [theme=dark] .colab-df-convert {\n",
              "      background-color: #3B4455;\n",
              "      fill: #D2E3FC;\n",
              "    }\n",
              "\n",
              "    [theme=dark] .colab-df-convert:hover {\n",
              "      background-color: #434B5C;\n",
              "      box-shadow: 0px 1px 3px 1px rgba(0, 0, 0, 0.15);\n",
              "      filter: drop-shadow(0px 1px 2px rgba(0, 0, 0, 0.3));\n",
              "      fill: #FFFFFF;\n",
              "    }\n",
              "  </style>\n",
              "\n",
              "      <script>\n",
              "        const buttonEl =\n",
              "          document.querySelector('#df-60218f1f-b457-41a0-8c70-e993a2972ed7 button.colab-df-convert');\n",
              "        buttonEl.style.display =\n",
              "          google.colab.kernel.accessAllowed ? 'block' : 'none';\n",
              "\n",
              "        async function convertToInteractive(key) {\n",
              "          const element = document.querySelector('#df-60218f1f-b457-41a0-8c70-e993a2972ed7');\n",
              "          const dataTable =\n",
              "            await google.colab.kernel.invokeFunction('convertToInteractive',\n",
              "                                                     [key], {});\n",
              "          if (!dataTable) return;\n",
              "\n",
              "          const docLinkHtml = 'Like what you see? Visit the ' +\n",
              "            '<a target=\"_blank\" href=https://colab.research.google.com/notebooks/data_table.ipynb>data table notebook</a>'\n",
              "            + ' to learn more about interactive tables.';\n",
              "          element.innerHTML = '';\n",
              "          dataTable['output_type'] = 'display_data';\n",
              "          await google.colab.output.renderOutput(dataTable, element);\n",
              "          const docLink = document.createElement('div');\n",
              "          docLink.innerHTML = docLinkHtml;\n",
              "          element.appendChild(docLink);\n",
              "        }\n",
              "      </script>\n",
              "    </div>\n",
              "  </div>\n",
              "  "
            ]
          },
          "metadata": {},
          "execution_count": 158
        }
      ],
      "source": [
        "#o data frame não reconheceu a key itens com 4 elementos, é necessário um tratamento \n",
        "dataset"
      ]
    },
    {
      "cell_type": "code",
      "execution_count": 159,
      "metadata": {
        "id": "pRQj4XmpEVWg"
      },
      "outputs": [],
      "source": [
        "#definindo a orientação do card \n",
        "dataset = pd.DataFrame.from_dict(card, orient = 'index').T"
      ]
    },
    {
      "cell_type": "code",
      "execution_count": 160,
      "metadata": {
        "id": "uHkeMcUgEVWg",
        "colab": {
          "base_uri": "https://localhost:8080/",
          "height": 142
        },
        "outputId": "af7ba586-3b55-402b-db25-fa5cb2a599d6"
      },
      "outputs": [
        {
          "output_type": "execute_result",
          "data": {
            "text/plain": [
              "        value                   name category          motor  \\\n",
              "0  R$ 338.000  LAMBORGHINI AVENTADOR    USADO  Motor 1.8 16v   \n",
              "\n",
              "            description             location  \\\n",
              "0  Ano 1993 - 55.286 km  Belo Horizonte - MG   \n",
              "\n",
              "                                               itens  \n",
              "0  [4 X 4, Câmera de estacionamento, Controle de ...  "
            ],
            "text/html": [
              "\n",
              "  <div id=\"df-4e0d38ac-e44d-4141-973d-90c5d01ab13d\">\n",
              "    <div class=\"colab-df-container\">\n",
              "      <div>\n",
              "<style scoped>\n",
              "    .dataframe tbody tr th:only-of-type {\n",
              "        vertical-align: middle;\n",
              "    }\n",
              "\n",
              "    .dataframe tbody tr th {\n",
              "        vertical-align: top;\n",
              "    }\n",
              "\n",
              "    .dataframe thead th {\n",
              "        text-align: right;\n",
              "    }\n",
              "</style>\n",
              "<table border=\"1\" class=\"dataframe\">\n",
              "  <thead>\n",
              "    <tr style=\"text-align: right;\">\n",
              "      <th></th>\n",
              "      <th>value</th>\n",
              "      <th>name</th>\n",
              "      <th>category</th>\n",
              "      <th>motor</th>\n",
              "      <th>description</th>\n",
              "      <th>location</th>\n",
              "      <th>itens</th>\n",
              "    </tr>\n",
              "  </thead>\n",
              "  <tbody>\n",
              "    <tr>\n",
              "      <th>0</th>\n",
              "      <td>R$ 338.000</td>\n",
              "      <td>LAMBORGHINI AVENTADOR</td>\n",
              "      <td>USADO</td>\n",
              "      <td>Motor 1.8 16v</td>\n",
              "      <td>Ano 1993 - 55.286 km</td>\n",
              "      <td>Belo Horizonte - MG</td>\n",
              "      <td>[4 X 4, Câmera de estacionamento, Controle de ...</td>\n",
              "    </tr>\n",
              "  </tbody>\n",
              "</table>\n",
              "</div>\n",
              "      <button class=\"colab-df-convert\" onclick=\"convertToInteractive('df-4e0d38ac-e44d-4141-973d-90c5d01ab13d')\"\n",
              "              title=\"Convert this dataframe to an interactive table.\"\n",
              "              style=\"display:none;\">\n",
              "        \n",
              "  <svg xmlns=\"http://www.w3.org/2000/svg\" height=\"24px\"viewBox=\"0 0 24 24\"\n",
              "       width=\"24px\">\n",
              "    <path d=\"M0 0h24v24H0V0z\" fill=\"none\"/>\n",
              "    <path d=\"M18.56 5.44l.94 2.06.94-2.06 2.06-.94-2.06-.94-.94-2.06-.94 2.06-2.06.94zm-11 1L8.5 8.5l.94-2.06 2.06-.94-2.06-.94L8.5 2.5l-.94 2.06-2.06.94zm10 10l.94 2.06.94-2.06 2.06-.94-2.06-.94-.94-2.06-.94 2.06-2.06.94z\"/><path d=\"M17.41 7.96l-1.37-1.37c-.4-.4-.92-.59-1.43-.59-.52 0-1.04.2-1.43.59L10.3 9.45l-7.72 7.72c-.78.78-.78 2.05 0 2.83L4 21.41c.39.39.9.59 1.41.59.51 0 1.02-.2 1.41-.59l7.78-7.78 2.81-2.81c.8-.78.8-2.07 0-2.86zM5.41 20L4 18.59l7.72-7.72 1.47 1.35L5.41 20z\"/>\n",
              "  </svg>\n",
              "      </button>\n",
              "      \n",
              "  <style>\n",
              "    .colab-df-container {\n",
              "      display:flex;\n",
              "      flex-wrap:wrap;\n",
              "      gap: 12px;\n",
              "    }\n",
              "\n",
              "    .colab-df-convert {\n",
              "      background-color: #E8F0FE;\n",
              "      border: none;\n",
              "      border-radius: 50%;\n",
              "      cursor: pointer;\n",
              "      display: none;\n",
              "      fill: #1967D2;\n",
              "      height: 32px;\n",
              "      padding: 0 0 0 0;\n",
              "      width: 32px;\n",
              "    }\n",
              "\n",
              "    .colab-df-convert:hover {\n",
              "      background-color: #E2EBFA;\n",
              "      box-shadow: 0px 1px 2px rgba(60, 64, 67, 0.3), 0px 1px 3px 1px rgba(60, 64, 67, 0.15);\n",
              "      fill: #174EA6;\n",
              "    }\n",
              "\n",
              "    [theme=dark] .colab-df-convert {\n",
              "      background-color: #3B4455;\n",
              "      fill: #D2E3FC;\n",
              "    }\n",
              "\n",
              "    [theme=dark] .colab-df-convert:hover {\n",
              "      background-color: #434B5C;\n",
              "      box-shadow: 0px 1px 3px 1px rgba(0, 0, 0, 0.15);\n",
              "      filter: drop-shadow(0px 1px 2px rgba(0, 0, 0, 0.3));\n",
              "      fill: #FFFFFF;\n",
              "    }\n",
              "  </style>\n",
              "\n",
              "      <script>\n",
              "        const buttonEl =\n",
              "          document.querySelector('#df-4e0d38ac-e44d-4141-973d-90c5d01ab13d button.colab-df-convert');\n",
              "        buttonEl.style.display =\n",
              "          google.colab.kernel.accessAllowed ? 'block' : 'none';\n",
              "\n",
              "        async function convertToInteractive(key) {\n",
              "          const element = document.querySelector('#df-4e0d38ac-e44d-4141-973d-90c5d01ab13d');\n",
              "          const dataTable =\n",
              "            await google.colab.kernel.invokeFunction('convertToInteractive',\n",
              "                                                     [key], {});\n",
              "          if (!dataTable) return;\n",
              "\n",
              "          const docLinkHtml = 'Like what you see? Visit the ' +\n",
              "            '<a target=\"_blank\" href=https://colab.research.google.com/notebooks/data_table.ipynb>data table notebook</a>'\n",
              "            + ' to learn more about interactive tables.';\n",
              "          element.innerHTML = '';\n",
              "          dataTable['output_type'] = 'display_data';\n",
              "          await google.colab.output.renderOutput(dataTable, element);\n",
              "          const docLink = document.createElement('div');\n",
              "          docLink.innerHTML = docLinkHtml;\n",
              "          element.appendChild(docLink);\n",
              "        }\n",
              "      </script>\n",
              "    </div>\n",
              "  </div>\n",
              "  "
            ]
          },
          "metadata": {},
          "execution_count": 160
        }
      ],
      "source": [
        "dataset"
      ]
    },
    {
      "cell_type": "code",
      "source": [
        "from google.colab import drive\n",
        "drive.mount('/content/drive')"
      ],
      "metadata": {
        "colab": {
          "base_uri": "https://localhost:8080/"
        },
        "id": "cW53ffXhlBZs",
        "outputId": "1163fd9d-b602-47a1-c4d8-fb2844876aef"
      },
      "execution_count": 161,
      "outputs": [
        {
          "output_type": "stream",
          "name": "stdout",
          "text": [
            "Drive already mounted at /content/drive; to attempt to forcibly remount, call drive.mount(\"/content/drive\", force_remount=True).\n"
          ]
        }
      ]
    },
    {
      "cell_type": "code",
      "execution_count": 162,
      "metadata": {
        "id": "LlQ0hE4MEVWg"
      },
      "outputs": [],
      "source": [
        "dataset.to_csv('/content/drive/MyDrive/Programming/Alura Programação/WebScraping BeatifulSoup/data/dataset.csv', index=False, encoding='utf-8-sig')"
      ]
    },
    {
      "cell_type": "markdown",
      "metadata": {
        "id": "091jn_cVEVWh"
      },
      "source": [
        "# 5.6. Obtendo a FOTO do anúncio"
      ]
    },
    {
      "cell_type": "code",
      "execution_count": 163,
      "metadata": {
        "id": "MMW4yzdNEVWh",
        "colab": {
          "base_uri": "https://localhost:8080/"
        },
        "outputId": "e62bd6e4-3bc3-47a2-ee9f-869f8f43d99d"
      },
      "outputs": [
        {
          "output_type": "execute_result",
          "data": {
            "text/plain": [
              "<img alt=\"Foto\" height=\"155\" src=\"https://caelum-online-public.s3.amazonaws.com/1381-scraping/01/img-cars/lamborghini-aventador/lamborghini-aventador-2932196__340.jpg\" width=\"220\"/>"
            ]
          },
          "metadata": {},
          "execution_count": 163
        }
      ],
      "source": [
        "#localizando caminho da imagem\n",
        "image = anuncio.find('div', {'class':'image-card'}).img\n",
        "image"
      ]
    },
    {
      "cell_type": "code",
      "execution_count": 164,
      "metadata": {
        "id": "YpNMAerTEVWh",
        "colab": {
          "base_uri": "https://localhost:8080/"
        },
        "outputId": "f0e50bb7-91aa-44e7-9a43-40baa4127d40"
      },
      "outputs": [
        {
          "output_type": "stream",
          "name": "stdout",
          "text": [
            "https://caelum-online-public.s3.amazonaws.com/1381-scraping/01/img-cars/lamborghini-aventador/lamborghini-aventador-2932196__340.jpg\n"
          ]
        }
      ],
      "source": [
        "print(image.get('src'))\n"
      ]
    },
    {
      "cell_type": "markdown",
      "metadata": {
        "id": "tpQPek0TEVWh"
      },
      "source": [
        "### Visualizando a FOTO no notebook (extra)"
      ]
    },
    {
      "cell_type": "code",
      "execution_count": 165,
      "metadata": {
        "id": "DbeNO7jpEVWh",
        "colab": {
          "base_uri": "https://localhost:8080/",
          "height": 0
        },
        "outputId": "67015f57-e8d5-4fd7-cf6a-3c0481c7e1df"
      },
      "outputs": [
        {
          "output_type": "display_data",
          "data": {
            "text/plain": [
              "<IPython.core.display.HTML object>"
            ],
            "text/html": [
              "<img alt=\"Foto\" height=\"155\" src=\"https://caelum-online-public.s3.amazonaws.com/1381-scraping/01/img-cars/lamborghini-aventador/lamborghini-aventador-2932196__340.jpg\" width=\"220\"/>"
            ]
          },
          "metadata": {}
        }
      ],
      "source": [
        "#visualizando as fotos dentro do google collabs\n",
        "from IPython.core.display import display, HTML \n",
        "display(HTML(str(anuncio.find('div', {'class':'image-card'}).img)))"
      ]
    },
    {
      "cell_type": "markdown",
      "metadata": {
        "id": "sQlPM0epEVWi"
      },
      "source": [
        "### Rotina para acessar e salvar a FOTO do anúncio"
      ]
    },
    {
      "cell_type": "markdown",
      "metadata": {
        "id": "9uCuDcnwEVWi"
      },
      "source": [
        "## https://docs.python.org/3/library/urllib.request.html#urllib.request.urlretrieve"
      ]
    },
    {
      "cell_type": "code",
      "execution_count": 166,
      "metadata": {
        "id": "ERT-1Lb9EVWi",
        "colab": {
          "base_uri": "https://localhost:8080/",
          "height": 0
        },
        "outputId": "ce23268e-ea0d-4ee9-829c-4e7347ff003a"
      },
      "outputs": [
        {
          "output_type": "execute_result",
          "data": {
            "text/plain": [
              "'lamborghini-aventador-2932196__340.jpg'"
            ],
            "application/vnd.google.colaboratory.intrinsic+json": {
              "type": "string"
            }
          },
          "metadata": {},
          "execution_count": 166
        }
      ],
      "source": [
        "image.get('src').split('/')[-1]"
      ]
    },
    {
      "cell_type": "code",
      "execution_count": 167,
      "metadata": {
        "id": "n-qo3xUpEVWi",
        "colab": {
          "base_uri": "https://localhost:8080/"
        },
        "outputId": "8105674b-cc99-4d9d-b8f2-80d9016fd9d6"
      },
      "outputs": [
        {
          "output_type": "execute_result",
          "data": {
            "text/plain": [
              "('/content/drive/MyDrive/Programming/Alura Programação/WebScraping BeatifulSoup/img/lamborghini-aventador-2932196__340.jpg',\n",
              " <http.client.HTTPMessage at 0x7f961ad9a250>)"
            ]
          },
          "metadata": {},
          "execution_count": 167
        }
      ],
      "source": [
        "from urllib.request import urlretrieve\n",
        "urlretrieve(image.get('src'), '/content/drive/MyDrive/Programming/Alura Programação/WebScraping BeatifulSoup/img/' + image.get('src').split('/')[-1] )"
      ]
    },
    {
      "cell_type": "markdown",
      "metadata": {
        "id": "tC7U04ZfEVWi"
      },
      "source": [
        "### <font color=red>Resumo"
      ]
    },
    {
      "cell_type": "code",
      "execution_count": 168,
      "metadata": {
        "id": "w8iE1IygEVWi",
        "colab": {
          "base_uri": "https://localhost:8080/"
        },
        "outputId": "72131c2d-3b37-4ef5-b985-b835da67922f"
      },
      "outputs": [
        {
          "output_type": "execute_result",
          "data": {
            "text/plain": [
              "('/content/drive/MyDrive/Programming/Alura Programação/WebScraping BeatifulSoup/img/lamborghini-aventador-2932196__340.jpg',\n",
              " <http.client.HTTPMessage at 0x7f961ae00f90>)"
            ]
          },
          "metadata": {},
          "execution_count": 168
        }
      ],
      "source": [
        "image = anuncio.find('div', {'class':'image-card'}).img\n",
        "urlretrieve(image.get('src'), '/content/drive/MyDrive/Programming/Alura Programação/WebScraping BeatifulSoup/img/' + image.get('src').split('/')[-1] )"
      ]
    },
    {
      "cell_type": "markdown",
      "metadata": {
        "id": "zDiY9GOCEVWi"
      },
      "source": [
        "# <font color=green>6. WEB SCRAPING DO SITE ALURA MOTORS - OBTENDO OS DADOS DE TODOS OS ANÚNCIOS DE UMA PÁGINA"
      ]
    },
    {
      "cell_type": "markdown",
      "metadata": {
        "id": "kluOIlMoEVWj"
      },
      "source": [
        "# 6.1. Identificando as informações no HTML"
      ]
    },
    {
      "cell_type": "code",
      "execution_count": 169,
      "metadata": {
        "scrolled": true,
        "id": "zFk9kN3PEVWj",
        "colab": {
          "base_uri": "https://localhost:8080/"
        },
        "outputId": "a239588c-15fc-4490-c778-d1c6b76822fd"
      },
      "outputs": [
        {
          "output_type": "execute_result",
          "data": {
            "text/plain": [
              "[<div class=\"well card\">\n",
              " <div class=\"col-md-3 image-card\">\n",
              " <img alt=\"Foto\" height=\"155\" src=\"https://caelum-online-public.s3.amazonaws.com/1381-scraping/01/img-cars/lamborghini-aventador/lamborghini-aventador-2932196__340.jpg\" width=\"220\"/>\n",
              " </div>\n",
              " <div class=\"col-md-6 body-card\">\n",
              " <p class=\"txt-name inline\">LAMBORGHINI AVENTADOR</p>\n",
              " <p class=\"txt-category badge badge-secondary inline\">USADO</p>\n",
              " <p class=\"txt-motor\">Motor 1.8 16v</p>\n",
              " <p class=\"txt-description\">Ano 1993 - 55.286 km</p>\n",
              " <ul class=\"lst-items\">\n",
              " <li class=\"txt-items\">► 4 X 4</li>\n",
              " <li class=\"txt-items\">► Câmera de estacionamento</li>\n",
              " <li class=\"txt-items\">► Controle de tração</li>\n",
              " <li class=\"txt-items\">► Sensor de estacionamento</li>\n",
              " <li class=\"txt-items\">...</li>\n",
              " </ul>\n",
              " <p class=\"txt-location\">Belo Horizonte - MG</p>\n",
              " </div>\n",
              " <div class=\"col-md-3 value-card\">\n",
              " <div class=\"value\">\n",
              " <p class=\"txt-value\">R$ 338.000</p>\n",
              " </div>\n",
              " </div>\n",
              " </div>, <div class=\"well card\">\n",
              " <div class=\"col-md-3 image-card\">\n",
              " <img alt=\"Foto\" height=\"155\" src=\"https://caelum-online-public.s3.amazonaws.com/1381-scraping/01/img-cars/bmw-m2/bmw-m2-2970882__340.jpg\" width=\"220\"/>\n",
              " </div>\n",
              " <div class=\"col-md-6 body-card\">\n",
              " <p class=\"txt-name inline\">BMW M2</p>\n",
              " <p class=\"txt-category badge badge-secondary inline\">USADO</p>\n",
              " <p class=\"txt-motor\">Motor 3.0 32v</p>\n",
              " <p class=\"txt-description\">Ano 2018 - 83.447 km</p>\n",
              " <ul class=\"lst-items\">\n",
              " <li class=\"txt-items\">► Câmera de estacionamento</li>\n",
              " <li class=\"txt-items\">► Controle de estabilidade</li>\n",
              " <li class=\"txt-items\">► Travas elétricas</li>\n",
              " <li class=\"txt-items\">► Freios ABS</li>\n",
              " <li class=\"txt-items\">...</li>\n",
              " </ul>\n",
              " <p class=\"txt-location\">Belo Horizonte - MG</p>\n",
              " </div>\n",
              " <div class=\"col-md-3 value-card\">\n",
              " <div class=\"value\">\n",
              " <p class=\"txt-value\">R$ 346.000</p>\n",
              " </div>\n",
              " </div>\n",
              " </div>, <div class=\"well card\">\n",
              " <div class=\"col-md-3 image-card\">\n",
              " <img alt=\"Foto\" height=\"155\" src=\"https://caelum-online-public.s3.amazonaws.com/1381-scraping/01/img-cars/alfa/alfa-1823056__340.jpg\" width=\"220\"/>\n",
              " </div>\n",
              " <div class=\"col-md-6 body-card\">\n",
              " <p class=\"txt-name inline\">ALFA</p>\n",
              " <p class=\"txt-category badge badge-secondary inline\">USADO</p>\n",
              " <p class=\"txt-motor\">Motor 1.8 16v</p>\n",
              " <p class=\"txt-description\">Ano 2004 - 19.722 km</p>\n",
              " <ul class=\"lst-items\">\n",
              " <li class=\"txt-items\">► Central multimídia</li>\n",
              " <li class=\"txt-items\">► Bancos de couro</li>\n",
              " <li class=\"txt-items\">► Rodas de liga</li>\n",
              " <li class=\"txt-items\">► Câmera de estacionamento</li>\n",
              " <li class=\"txt-items\">...</li>\n",
              " </ul>\n",
              " <p class=\"txt-location\">Rio de Janeiro - RJ</p>\n",
              " </div>\n",
              " <div class=\"col-md-3 value-card\">\n",
              " <div class=\"value\">\n",
              " <p class=\"txt-value\">R$ 480.000</p>\n",
              " </div>\n",
              " </div>\n",
              " </div>, <div class=\"well card\">\n",
              " <div class=\"col-md-3 image-card\">\n",
              " <img alt=\"Foto\" height=\"155\" src=\"https://caelum-online-public.s3.amazonaws.com/1381-scraping/01/img-cars/puech/puech-4055386__340.jpg\" width=\"220\"/>\n",
              " </div>\n",
              " <div class=\"col-md-6 body-card\">\n",
              " <p class=\"txt-name inline\">PUECH</p>\n",
              " <p class=\"txt-category badge badge-secondary inline\">USADO</p>\n",
              " <p class=\"txt-motor\">Motor Diesel V8</p>\n",
              " <p class=\"txt-description\">Ano 1992 - 34.335 km</p>\n",
              " <ul class=\"lst-items\">\n",
              " <li class=\"txt-items\">► Bancos de couro</li>\n",
              " <li class=\"txt-items\">► Freios ABS</li>\n",
              " <li class=\"txt-items\">► Rodas de liga</li>\n",
              " <li class=\"txt-items\">► Câmbio automático</li>\n",
              " <li class=\"txt-items\">...</li>\n",
              " </ul>\n",
              " <p class=\"txt-location\">São Paulo - SP</p>\n",
              " </div>\n",
              " <div class=\"col-md-3 value-card\">\n",
              " <div class=\"value\">\n",
              " <p class=\"txt-value\">R$ 133.000</p>\n",
              " </div>\n",
              " </div>\n",
              " </div>, <div class=\"well card\">\n",
              " <div class=\"col-md-3 image-card\">\n",
              " <img alt=\"Foto\" height=\"155\" src=\"https://caelum-online-public.s3.amazonaws.com/1381-scraping/01/img-cars/lamborghini-murcielago/lamborghini-murcielago-2872974__340.jpg\" width=\"220\"/>\n",
              " </div>\n",
              " <div class=\"col-md-6 body-card\">\n",
              " <p class=\"txt-name inline\">LAMBORGHINI MURCIELAGO</p>\n",
              " <p class=\"txt-category badge badge-secondary inline\">USADO</p>\n",
              " <p class=\"txt-motor\">Motor 1.0 8v</p>\n",
              " <p class=\"txt-description\">Ano 1991 - 464 km</p>\n",
              " <ul class=\"lst-items\">\n",
              " <li class=\"txt-items\">► Central multimídia</li>\n",
              " <li class=\"txt-items\">► Teto panorâmico</li>\n",
              " <li class=\"txt-items\">► Sensor crepuscular</li>\n",
              " <li class=\"txt-items\">► Piloto automático</li>\n",
              " <li class=\"txt-items\">...</li>\n",
              " </ul>\n",
              " <p class=\"txt-location\">Belo Horizonte - MG</p>\n",
              " </div>\n",
              " <div class=\"col-md-3 value-card\">\n",
              " <div class=\"value\">\n",
              " <p class=\"txt-value\">R$ 175.000</p>\n",
              " </div>\n",
              " </div>\n",
              " </div>, <div class=\"well card\">\n",
              " <div class=\"col-md-3 image-card\">\n",
              " <img alt=\"Foto\" height=\"155\" src=\"https://caelum-online-public.s3.amazonaws.com/1381-scraping/01/img-cars/aston-martin/aston-martin-2977916__340.jpg\" width=\"220\"/>\n",
              " </div>\n",
              " <div class=\"col-md-6 body-card\">\n",
              " <p class=\"txt-name inline\">ASTON MARTIN</p>\n",
              " <p class=\"txt-category badge badge-secondary inline\">USADO</p>\n",
              " <p class=\"txt-opportunity badge badge-danger inline\">OPORTUNIDADE</p>\n",
              " <p class=\"txt-motor\">Motor Diesel V6</p>\n",
              " <p class=\"txt-description\">Ano 2004 - 50.189 km</p>\n",
              " <ul class=\"lst-items\">\n",
              " <li class=\"txt-items\">► Painel digital</li>\n",
              " <li class=\"txt-items\">► Controle de tração</li>\n",
              " <li class=\"txt-items\">► Teto panorâmico</li>\n",
              " <li class=\"txt-items\">► Central multimídia</li>\n",
              " <li class=\"txt-items\">...</li>\n",
              " </ul>\n",
              " <p class=\"txt-location\">Belo Horizonte - MG</p>\n",
              " </div>\n",
              " <div class=\"col-md-3 value-card\">\n",
              " <div class=\"value\">\n",
              " <p class=\"txt-value\">R$ 239.000</p>\n",
              " </div>\n",
              " </div>\n",
              " </div>, <div class=\"well card\">\n",
              " <div class=\"col-md-3 image-card\">\n",
              " <img alt=\"Foto\" height=\"155\" src=\"https://caelum-online-public.s3.amazonaws.com/1381-scraping/01/img-cars/tvr/tvr-2943925__340.jpg\" width=\"220\"/>\n",
              " </div>\n",
              " <div class=\"col-md-6 body-card\">\n",
              " <p class=\"txt-name inline\">TVR</p>\n",
              " <p class=\"txt-category badge badge-secondary inline\">USADO</p>\n",
              " <p class=\"txt-motor\">Motor 4.0 Turbo</p>\n",
              " <p class=\"txt-description\">Ano 2014 - 17.778 km</p>\n",
              " <ul class=\"lst-items\">\n",
              " <li class=\"txt-items\">► 4 X 4</li>\n",
              " <li class=\"txt-items\">► Teto panorâmico</li>\n",
              " <li class=\"txt-items\">► Central multimídia</li>\n",
              " <li class=\"txt-items\">► Controle de estabilidade</li>\n",
              " <li class=\"txt-items\">...</li>\n",
              " </ul>\n",
              " <p class=\"txt-location\">Belo Horizonte - MG</p>\n",
              " </div>\n",
              " <div class=\"col-md-3 value-card\">\n",
              " <div class=\"value\">\n",
              " <p class=\"txt-value\">R$ 115.000</p>\n",
              " </div>\n",
              " </div>\n",
              " </div>, <div class=\"well card\">\n",
              " <div class=\"col-md-3 image-card\">\n",
              " <img alt=\"Foto\" height=\"155\" src=\"https://caelum-online-public.s3.amazonaws.com/1381-scraping/01/img-cars/excalibur/excalibur-2916730__340.jpg\" width=\"220\"/>\n",
              " </div>\n",
              " <div class=\"col-md-6 body-card\">\n",
              " <p class=\"txt-name inline\">EXCALIBUR</p>\n",
              " <p class=\"txt-category badge badge-secondary inline\">USADO</p>\n",
              " <p class=\"txt-motor\">Motor 3.0 32v</p>\n",
              " <p class=\"txt-description\">Ano 2009 - 81.251 km</p>\n",
              " <ul class=\"lst-items\">\n",
              " <li class=\"txt-items\">► Painel digital</li>\n",
              " <li class=\"txt-items\">► Câmbio automático</li>\n",
              " <li class=\"txt-items\">► Sensor de chuva</li>\n",
              " <li class=\"txt-items\">► Travas elétricas</li>\n",
              " <li class=\"txt-items\">...</li>\n",
              " </ul>\n",
              " <p class=\"txt-location\">Rio de Janeiro - RJ</p>\n",
              " </div>\n",
              " <div class=\"col-md-3 value-card\">\n",
              " <div class=\"value\">\n",
              " <p class=\"txt-value\">R$ 114.000</p>\n",
              " </div>\n",
              " </div>\n",
              " </div>, <div class=\"well card\">\n",
              " <div class=\"col-md-3 image-card\">\n",
              " <img alt=\"Foto\" height=\"155\" src=\"https://caelum-online-public.s3.amazonaws.com/1381-scraping/01/img-cars/mclaren/mclaren-2855240__340.jpg\" width=\"220\"/>\n",
              " </div>\n",
              " <div class=\"col-md-6 body-card\">\n",
              " <p class=\"txt-name inline\">MCLAREN</p>\n",
              " <p class=\"txt-category badge badge-secondary inline\">NOVO</p>\n",
              " <p class=\"txt-motor\">Motor Diesel</p>\n",
              " <p class=\"txt-description\">Ano 2019 - 0 km</p>\n",
              " <ul class=\"lst-items\">\n",
              " <li class=\"txt-items\">► Central multimídia</li>\n",
              " <li class=\"txt-items\">► Câmera de estacionamento</li>\n",
              " <li class=\"txt-items\">► Câmbio automático</li>\n",
              " <li class=\"txt-items\">► Ar condicionado</li>\n",
              " <li class=\"txt-items\">...</li>\n",
              " </ul>\n",
              " <p class=\"txt-location\">São Paulo - SP</p>\n",
              " </div>\n",
              " <div class=\"col-md-3 value-card\">\n",
              " <div class=\"value\">\n",
              " <p class=\"txt-value\">R$ 75.000</p>\n",
              " </div>\n",
              " </div>\n",
              " </div>, <div class=\"well card\">\n",
              " <div class=\"col-md-3 image-card\">\n",
              " <img alt=\"Foto\" height=\"155\" src=\"https://caelum-online-public.s3.amazonaws.com/1381-scraping/01/img-cars/toyota/toyota-3245397__340.jpg\" width=\"220\"/>\n",
              " </div>\n",
              " <div class=\"col-md-6 body-card\">\n",
              " <p class=\"txt-name inline\">TOYOTA</p>\n",
              " <p class=\"txt-category badge badge-secondary inline\">USADO</p>\n",
              " <p class=\"txt-opportunity badge badge-danger inline\">OPORTUNIDADE</p>\n",
              " <p class=\"txt-motor\">Motor 4.0 Turbo</p>\n",
              " <p class=\"txt-description\">Ano 1999 - 12.536 km</p>\n",
              " <ul class=\"lst-items\">\n",
              " <li class=\"txt-items\">► Bancos de couro</li>\n",
              " <li class=\"txt-items\">► Freios ABS</li>\n",
              " <li class=\"txt-items\">► Piloto automático</li>\n",
              " <li class=\"txt-items\">► Controle de estabilidade</li>\n",
              " <li class=\"txt-items\">...</li>\n",
              " </ul>\n",
              " <p class=\"txt-location\">São Paulo - SP</p>\n",
              " </div>\n",
              " <div class=\"col-md-3 value-card\">\n",
              " <div class=\"value\">\n",
              " <p class=\"txt-value\">R$ 117.000</p>\n",
              " </div>\n",
              " </div>\n",
              " </div>]"
            ]
          },
          "metadata": {},
          "execution_count": 169
        }
      ],
      "source": [
        "soup.find('div', {'id': 'container-cards'}).findAll('div', class_='card')"
      ]
    },
    {
      "cell_type": "code",
      "execution_count": 170,
      "metadata": {
        "scrolled": true,
        "id": "TUV-s6NtEVWj"
      },
      "outputs": [],
      "source": [
        "anuncios = soup.find('div', {'id': 'container-cards'}).findAll('div', class_='card')"
      ]
    },
    {
      "cell_type": "code",
      "execution_count": 171,
      "metadata": {
        "scrolled": true,
        "id": "CcFoj4dXEVWj",
        "colab": {
          "base_uri": "https://localhost:8080/"
        },
        "outputId": "70f57a19-73bd-458e-e339-1bb5e2664927"
      },
      "outputs": [
        {
          "output_type": "stream",
          "name": "stdout",
          "text": [
            "<div class=\"well card\">\n",
            "<div class=\"col-md-3 image-card\">\n",
            "<img alt=\"Foto\" height=\"155\" src=\"https://caelum-online-public.s3.amazonaws.com/1381-scraping/01/img-cars/lamborghini-aventador/lamborghini-aventador-2932196__340.jpg\" width=\"220\"/>\n",
            "</div>\n",
            "<div class=\"col-md-6 body-card\">\n",
            "<p class=\"txt-name inline\">LAMBORGHINI AVENTADOR</p>\n",
            "<p class=\"txt-category badge badge-secondary inline\">USADO</p>\n",
            "<p class=\"txt-motor\">Motor 1.8 16v</p>\n",
            "<p class=\"txt-description\">Ano 1993 - 55.286 km</p>\n",
            "<ul class=\"lst-items\">\n",
            "<li class=\"txt-items\">► 4 X 4</li>\n",
            "<li class=\"txt-items\">► Câmera de estacionamento</li>\n",
            "<li class=\"txt-items\">► Controle de tração</li>\n",
            "<li class=\"txt-items\">► Sensor de estacionamento</li>\n",
            "<li class=\"txt-items\">...</li>\n",
            "</ul>\n",
            "<p class=\"txt-location\">Belo Horizonte - MG</p>\n",
            "</div>\n",
            "<div class=\"col-md-3 value-card\">\n",
            "<div class=\"value\">\n",
            "<p class=\"txt-value\">R$ 338.000</p>\n",
            "</div>\n",
            "</div>\n",
            "</div>\n",
            "\n",
            "\n",
            "<div class=\"well card\">\n",
            "<div class=\"col-md-3 image-card\">\n",
            "<img alt=\"Foto\" height=\"155\" src=\"https://caelum-online-public.s3.amazonaws.com/1381-scraping/01/img-cars/bmw-m2/bmw-m2-2970882__340.jpg\" width=\"220\"/>\n",
            "</div>\n",
            "<div class=\"col-md-6 body-card\">\n",
            "<p class=\"txt-name inline\">BMW M2</p>\n",
            "<p class=\"txt-category badge badge-secondary inline\">USADO</p>\n",
            "<p class=\"txt-motor\">Motor 3.0 32v</p>\n",
            "<p class=\"txt-description\">Ano 2018 - 83.447 km</p>\n",
            "<ul class=\"lst-items\">\n",
            "<li class=\"txt-items\">► Câmera de estacionamento</li>\n",
            "<li class=\"txt-items\">► Controle de estabilidade</li>\n",
            "<li class=\"txt-items\">► Travas elétricas</li>\n",
            "<li class=\"txt-items\">► Freios ABS</li>\n",
            "<li class=\"txt-items\">...</li>\n",
            "</ul>\n",
            "<p class=\"txt-location\">Belo Horizonte - MG</p>\n",
            "</div>\n",
            "<div class=\"col-md-3 value-card\">\n",
            "<div class=\"value\">\n",
            "<p class=\"txt-value\">R$ 346.000</p>\n",
            "</div>\n",
            "</div>\n",
            "</div>\n",
            "\n",
            "\n",
            "<div class=\"well card\">\n",
            "<div class=\"col-md-3 image-card\">\n",
            "<img alt=\"Foto\" height=\"155\" src=\"https://caelum-online-public.s3.amazonaws.com/1381-scraping/01/img-cars/alfa/alfa-1823056__340.jpg\" width=\"220\"/>\n",
            "</div>\n",
            "<div class=\"col-md-6 body-card\">\n",
            "<p class=\"txt-name inline\">ALFA</p>\n",
            "<p class=\"txt-category badge badge-secondary inline\">USADO</p>\n",
            "<p class=\"txt-motor\">Motor 1.8 16v</p>\n",
            "<p class=\"txt-description\">Ano 2004 - 19.722 km</p>\n",
            "<ul class=\"lst-items\">\n",
            "<li class=\"txt-items\">► Central multimídia</li>\n",
            "<li class=\"txt-items\">► Bancos de couro</li>\n",
            "<li class=\"txt-items\">► Rodas de liga</li>\n",
            "<li class=\"txt-items\">► Câmera de estacionamento</li>\n",
            "<li class=\"txt-items\">...</li>\n",
            "</ul>\n",
            "<p class=\"txt-location\">Rio de Janeiro - RJ</p>\n",
            "</div>\n",
            "<div class=\"col-md-3 value-card\">\n",
            "<div class=\"value\">\n",
            "<p class=\"txt-value\">R$ 480.000</p>\n",
            "</div>\n",
            "</div>\n",
            "</div>\n",
            "\n",
            "\n",
            "<div class=\"well card\">\n",
            "<div class=\"col-md-3 image-card\">\n",
            "<img alt=\"Foto\" height=\"155\" src=\"https://caelum-online-public.s3.amazonaws.com/1381-scraping/01/img-cars/puech/puech-4055386__340.jpg\" width=\"220\"/>\n",
            "</div>\n",
            "<div class=\"col-md-6 body-card\">\n",
            "<p class=\"txt-name inline\">PUECH</p>\n",
            "<p class=\"txt-category badge badge-secondary inline\">USADO</p>\n",
            "<p class=\"txt-motor\">Motor Diesel V8</p>\n",
            "<p class=\"txt-description\">Ano 1992 - 34.335 km</p>\n",
            "<ul class=\"lst-items\">\n",
            "<li class=\"txt-items\">► Bancos de couro</li>\n",
            "<li class=\"txt-items\">► Freios ABS</li>\n",
            "<li class=\"txt-items\">► Rodas de liga</li>\n",
            "<li class=\"txt-items\">► Câmbio automático</li>\n",
            "<li class=\"txt-items\">...</li>\n",
            "</ul>\n",
            "<p class=\"txt-location\">São Paulo - SP</p>\n",
            "</div>\n",
            "<div class=\"col-md-3 value-card\">\n",
            "<div class=\"value\">\n",
            "<p class=\"txt-value\">R$ 133.000</p>\n",
            "</div>\n",
            "</div>\n",
            "</div>\n",
            "\n",
            "\n",
            "<div class=\"well card\">\n",
            "<div class=\"col-md-3 image-card\">\n",
            "<img alt=\"Foto\" height=\"155\" src=\"https://caelum-online-public.s3.amazonaws.com/1381-scraping/01/img-cars/lamborghini-murcielago/lamborghini-murcielago-2872974__340.jpg\" width=\"220\"/>\n",
            "</div>\n",
            "<div class=\"col-md-6 body-card\">\n",
            "<p class=\"txt-name inline\">LAMBORGHINI MURCIELAGO</p>\n",
            "<p class=\"txt-category badge badge-secondary inline\">USADO</p>\n",
            "<p class=\"txt-motor\">Motor 1.0 8v</p>\n",
            "<p class=\"txt-description\">Ano 1991 - 464 km</p>\n",
            "<ul class=\"lst-items\">\n",
            "<li class=\"txt-items\">► Central multimídia</li>\n",
            "<li class=\"txt-items\">► Teto panorâmico</li>\n",
            "<li class=\"txt-items\">► Sensor crepuscular</li>\n",
            "<li class=\"txt-items\">► Piloto automático</li>\n",
            "<li class=\"txt-items\">...</li>\n",
            "</ul>\n",
            "<p class=\"txt-location\">Belo Horizonte - MG</p>\n",
            "</div>\n",
            "<div class=\"col-md-3 value-card\">\n",
            "<div class=\"value\">\n",
            "<p class=\"txt-value\">R$ 175.000</p>\n",
            "</div>\n",
            "</div>\n",
            "</div>\n",
            "\n",
            "\n",
            "<div class=\"well card\">\n",
            "<div class=\"col-md-3 image-card\">\n",
            "<img alt=\"Foto\" height=\"155\" src=\"https://caelum-online-public.s3.amazonaws.com/1381-scraping/01/img-cars/aston-martin/aston-martin-2977916__340.jpg\" width=\"220\"/>\n",
            "</div>\n",
            "<div class=\"col-md-6 body-card\">\n",
            "<p class=\"txt-name inline\">ASTON MARTIN</p>\n",
            "<p class=\"txt-category badge badge-secondary inline\">USADO</p>\n",
            "<p class=\"txt-opportunity badge badge-danger inline\">OPORTUNIDADE</p>\n",
            "<p class=\"txt-motor\">Motor Diesel V6</p>\n",
            "<p class=\"txt-description\">Ano 2004 - 50.189 km</p>\n",
            "<ul class=\"lst-items\">\n",
            "<li class=\"txt-items\">► Painel digital</li>\n",
            "<li class=\"txt-items\">► Controle de tração</li>\n",
            "<li class=\"txt-items\">► Teto panorâmico</li>\n",
            "<li class=\"txt-items\">► Central multimídia</li>\n",
            "<li class=\"txt-items\">...</li>\n",
            "</ul>\n",
            "<p class=\"txt-location\">Belo Horizonte - MG</p>\n",
            "</div>\n",
            "<div class=\"col-md-3 value-card\">\n",
            "<div class=\"value\">\n",
            "<p class=\"txt-value\">R$ 239.000</p>\n",
            "</div>\n",
            "</div>\n",
            "</div>\n",
            "\n",
            "\n",
            "<div class=\"well card\">\n",
            "<div class=\"col-md-3 image-card\">\n",
            "<img alt=\"Foto\" height=\"155\" src=\"https://caelum-online-public.s3.amazonaws.com/1381-scraping/01/img-cars/tvr/tvr-2943925__340.jpg\" width=\"220\"/>\n",
            "</div>\n",
            "<div class=\"col-md-6 body-card\">\n",
            "<p class=\"txt-name inline\">TVR</p>\n",
            "<p class=\"txt-category badge badge-secondary inline\">USADO</p>\n",
            "<p class=\"txt-motor\">Motor 4.0 Turbo</p>\n",
            "<p class=\"txt-description\">Ano 2014 - 17.778 km</p>\n",
            "<ul class=\"lst-items\">\n",
            "<li class=\"txt-items\">► 4 X 4</li>\n",
            "<li class=\"txt-items\">► Teto panorâmico</li>\n",
            "<li class=\"txt-items\">► Central multimídia</li>\n",
            "<li class=\"txt-items\">► Controle de estabilidade</li>\n",
            "<li class=\"txt-items\">...</li>\n",
            "</ul>\n",
            "<p class=\"txt-location\">Belo Horizonte - MG</p>\n",
            "</div>\n",
            "<div class=\"col-md-3 value-card\">\n",
            "<div class=\"value\">\n",
            "<p class=\"txt-value\">R$ 115.000</p>\n",
            "</div>\n",
            "</div>\n",
            "</div>\n",
            "\n",
            "\n",
            "<div class=\"well card\">\n",
            "<div class=\"col-md-3 image-card\">\n",
            "<img alt=\"Foto\" height=\"155\" src=\"https://caelum-online-public.s3.amazonaws.com/1381-scraping/01/img-cars/excalibur/excalibur-2916730__340.jpg\" width=\"220\"/>\n",
            "</div>\n",
            "<div class=\"col-md-6 body-card\">\n",
            "<p class=\"txt-name inline\">EXCALIBUR</p>\n",
            "<p class=\"txt-category badge badge-secondary inline\">USADO</p>\n",
            "<p class=\"txt-motor\">Motor 3.0 32v</p>\n",
            "<p class=\"txt-description\">Ano 2009 - 81.251 km</p>\n",
            "<ul class=\"lst-items\">\n",
            "<li class=\"txt-items\">► Painel digital</li>\n",
            "<li class=\"txt-items\">► Câmbio automático</li>\n",
            "<li class=\"txt-items\">► Sensor de chuva</li>\n",
            "<li class=\"txt-items\">► Travas elétricas</li>\n",
            "<li class=\"txt-items\">...</li>\n",
            "</ul>\n",
            "<p class=\"txt-location\">Rio de Janeiro - RJ</p>\n",
            "</div>\n",
            "<div class=\"col-md-3 value-card\">\n",
            "<div class=\"value\">\n",
            "<p class=\"txt-value\">R$ 114.000</p>\n",
            "</div>\n",
            "</div>\n",
            "</div>\n",
            "\n",
            "\n",
            "<div class=\"well card\">\n",
            "<div class=\"col-md-3 image-card\">\n",
            "<img alt=\"Foto\" height=\"155\" src=\"https://caelum-online-public.s3.amazonaws.com/1381-scraping/01/img-cars/mclaren/mclaren-2855240__340.jpg\" width=\"220\"/>\n",
            "</div>\n",
            "<div class=\"col-md-6 body-card\">\n",
            "<p class=\"txt-name inline\">MCLAREN</p>\n",
            "<p class=\"txt-category badge badge-secondary inline\">NOVO</p>\n",
            "<p class=\"txt-motor\">Motor Diesel</p>\n",
            "<p class=\"txt-description\">Ano 2019 - 0 km</p>\n",
            "<ul class=\"lst-items\">\n",
            "<li class=\"txt-items\">► Central multimídia</li>\n",
            "<li class=\"txt-items\">► Câmera de estacionamento</li>\n",
            "<li class=\"txt-items\">► Câmbio automático</li>\n",
            "<li class=\"txt-items\">► Ar condicionado</li>\n",
            "<li class=\"txt-items\">...</li>\n",
            "</ul>\n",
            "<p class=\"txt-location\">São Paulo - SP</p>\n",
            "</div>\n",
            "<div class=\"col-md-3 value-card\">\n",
            "<div class=\"value\">\n",
            "<p class=\"txt-value\">R$ 75.000</p>\n",
            "</div>\n",
            "</div>\n",
            "</div>\n",
            "\n",
            "\n",
            "<div class=\"well card\">\n",
            "<div class=\"col-md-3 image-card\">\n",
            "<img alt=\"Foto\" height=\"155\" src=\"https://caelum-online-public.s3.amazonaws.com/1381-scraping/01/img-cars/toyota/toyota-3245397__340.jpg\" width=\"220\"/>\n",
            "</div>\n",
            "<div class=\"col-md-6 body-card\">\n",
            "<p class=\"txt-name inline\">TOYOTA</p>\n",
            "<p class=\"txt-category badge badge-secondary inline\">USADO</p>\n",
            "<p class=\"txt-opportunity badge badge-danger inline\">OPORTUNIDADE</p>\n",
            "<p class=\"txt-motor\">Motor 4.0 Turbo</p>\n",
            "<p class=\"txt-description\">Ano 1999 - 12.536 km</p>\n",
            "<ul class=\"lst-items\">\n",
            "<li class=\"txt-items\">► Bancos de couro</li>\n",
            "<li class=\"txt-items\">► Freios ABS</li>\n",
            "<li class=\"txt-items\">► Piloto automático</li>\n",
            "<li class=\"txt-items\">► Controle de estabilidade</li>\n",
            "<li class=\"txt-items\">...</li>\n",
            "</ul>\n",
            "<p class=\"txt-location\">São Paulo - SP</p>\n",
            "</div>\n",
            "<div class=\"col-md-3 value-card\">\n",
            "<div class=\"value\">\n",
            "<p class=\"txt-value\">R$ 117.000</p>\n",
            "</div>\n",
            "</div>\n",
            "</div>\n",
            "\n",
            "\n"
          ]
        }
      ],
      "source": [
        "for anuncio in anuncios:\n",
        "  print(str(anuncio) + \"\\n\\n\")"
      ]
    },
    {
      "cell_type": "markdown",
      "metadata": {
        "id": "TAto0efxEVWj"
      },
      "source": [
        "# 6.2. Criando uma rotina de scraping"
      ]
    },
    {
      "cell_type": "code",
      "execution_count": 172,
      "metadata": {
        "id": "tHd-YktEEVWj",
        "colab": {
          "base_uri": "https://localhost:8080/"
        },
        "outputId": "da1fdc7b-b650-4941-cbb2-9db90379793c"
      },
      "outputs": [
        {
          "output_type": "stream",
          "name": "stdout",
          "text": [
            "Bancos de couro\n",
            "Freios ABS\n",
            "Piloto automático\n",
            "Controle de estabilidade\n"
          ]
        },
        {
          "output_type": "execute_result",
          "data": {
            "text/plain": [
              "('/content/drive/MyDrive/Programming/Alura Programação/WebScraping BeatifulSoup/img/toyota-3245397__340.jpg',\n",
              " <http.client.HTTPMessage at 0x7f961ada5050>)"
            ]
          },
          "metadata": {},
          "execution_count": 172
        }
      ],
      "source": [
        "# Valor para obter o valor do CLASS txt value \n",
        "card['value'] = anuncio.find('p', {'class' : 'txt-value'}).get_text()\n",
        "\n",
        "# Informações\n",
        "infos = anuncio.find('div', {'class':'body-card'}).findAll('p')\n",
        "for info in infos:\n",
        "  card[info.get('class')[0].split('-')[-1]] =  info.get_text()\n",
        "\n",
        "#Acessorios\n",
        "items = anuncio.find('div', {'class':'body-card'}).find('ul').findAll('li')\n",
        "items.pop()\n",
        "for item in items:\n",
        "  print(item.get_text().replace('► ', ''))\n",
        "card['itens'] = acessorios\n",
        "\n",
        "#Imagens\n",
        "image = anuncio.find('div', {'class':'image-card'}).img\n",
        "urlretrieve(image.get('src'), '/content/drive/MyDrive/Programming/Alura Programação/WebScraping BeatifulSoup/img/' + image.get('src').split('/')[-1] )\n",
        "\n"
      ]
    },
    {
      "cell_type": "code",
      "execution_count": 173,
      "metadata": {
        "id": "-FJb2WwPEVWj",
        "colab": {
          "base_uri": "https://localhost:8080/",
          "height": 667
        },
        "outputId": "e315be55-2469-4432-d571-801f2cf087a0"
      },
      "outputs": [
        {
          "output_type": "execute_result",
          "data": {
            "text/plain": [
              "        value                    name category            motor  \\\n",
              "0  R$ 338.000   LAMBORGHINI AVENTADOR    USADO    Motor 1.8 16v   \n",
              "1  R$ 346.000                  BMW M2    USADO    Motor 3.0 32v   \n",
              "2  R$ 480.000                    ALFA    USADO    Motor 1.8 16v   \n",
              "3  R$ 133.000                   PUECH    USADO  Motor Diesel V8   \n",
              "4  R$ 175.000  LAMBORGHINI MURCIELAGO    USADO     Motor 1.0 8v   \n",
              "5  R$ 239.000            ASTON MARTIN    USADO  Motor Diesel V6   \n",
              "6  R$ 115.000                     TVR    USADO  Motor 4.0 Turbo   \n",
              "7  R$ 114.000               EXCALIBUR    USADO    Motor 3.0 32v   \n",
              "8   R$ 75.000                 MCLAREN     NOVO     Motor Diesel   \n",
              "9  R$ 117.000                  TOYOTA    USADO  Motor 4.0 Turbo   \n",
              "\n",
              "            description             location  \\\n",
              "0  Ano 1993 - 55.286 km  Belo Horizonte - MG   \n",
              "1  Ano 2018 - 83.447 km  Belo Horizonte - MG   \n",
              "2  Ano 2004 - 19.722 km  Rio de Janeiro - RJ   \n",
              "3  Ano 1992 - 34.335 km       São Paulo - SP   \n",
              "4     Ano 1991 - 464 km  Belo Horizonte - MG   \n",
              "5  Ano 2004 - 50.189 km  Belo Horizonte - MG   \n",
              "6  Ano 2014 - 17.778 km  Belo Horizonte - MG   \n",
              "7  Ano 2009 - 81.251 km  Rio de Janeiro - RJ   \n",
              "8       Ano 2019 - 0 km       São Paulo - SP   \n",
              "9  Ano 1999 - 12.536 km       São Paulo - SP   \n",
              "\n",
              "                                               items   opportunity  \n",
              "0  [4 X 4, Câmera de estacionamento, Controle de ...           NaN  \n",
              "1  [Câmera de estacionamento, Controle de estabil...           NaN  \n",
              "2  [Central multimídia, Bancos de couro, Rodas de...           NaN  \n",
              "3  [Bancos de couro, Freios ABS, Rodas de liga, C...           NaN  \n",
              "4  [Central multimídia, Teto panorâmico, Sensor c...           NaN  \n",
              "5  [Painel digital, Controle de tração, Teto pano...  OPORTUNIDADE  \n",
              "6  [4 X 4, Teto panorâmico, Central multimídia, C...           NaN  \n",
              "7  [Painel digital, Câmbio automático, Sensor de ...           NaN  \n",
              "8  [Central multimídia, Câmera de estacionamento,...           NaN  \n",
              "9  [Bancos de couro, Freios ABS, Piloto automátic...  OPORTUNIDADE  "
            ],
            "text/html": [
              "\n",
              "  <div id=\"df-bf63885c-3875-4cfd-a35a-7029d459d602\">\n",
              "    <div class=\"colab-df-container\">\n",
              "      <div>\n",
              "<style scoped>\n",
              "    .dataframe tbody tr th:only-of-type {\n",
              "        vertical-align: middle;\n",
              "    }\n",
              "\n",
              "    .dataframe tbody tr th {\n",
              "        vertical-align: top;\n",
              "    }\n",
              "\n",
              "    .dataframe thead th {\n",
              "        text-align: right;\n",
              "    }\n",
              "</style>\n",
              "<table border=\"1\" class=\"dataframe\">\n",
              "  <thead>\n",
              "    <tr style=\"text-align: right;\">\n",
              "      <th></th>\n",
              "      <th>value</th>\n",
              "      <th>name</th>\n",
              "      <th>category</th>\n",
              "      <th>motor</th>\n",
              "      <th>description</th>\n",
              "      <th>location</th>\n",
              "      <th>items</th>\n",
              "      <th>opportunity</th>\n",
              "    </tr>\n",
              "  </thead>\n",
              "  <tbody>\n",
              "    <tr>\n",
              "      <th>0</th>\n",
              "      <td>R$ 338.000</td>\n",
              "      <td>LAMBORGHINI AVENTADOR</td>\n",
              "      <td>USADO</td>\n",
              "      <td>Motor 1.8 16v</td>\n",
              "      <td>Ano 1993 - 55.286 km</td>\n",
              "      <td>Belo Horizonte - MG</td>\n",
              "      <td>[4 X 4, Câmera de estacionamento, Controle de ...</td>\n",
              "      <td>NaN</td>\n",
              "    </tr>\n",
              "    <tr>\n",
              "      <th>1</th>\n",
              "      <td>R$ 346.000</td>\n",
              "      <td>BMW M2</td>\n",
              "      <td>USADO</td>\n",
              "      <td>Motor 3.0 32v</td>\n",
              "      <td>Ano 2018 - 83.447 km</td>\n",
              "      <td>Belo Horizonte - MG</td>\n",
              "      <td>[Câmera de estacionamento, Controle de estabil...</td>\n",
              "      <td>NaN</td>\n",
              "    </tr>\n",
              "    <tr>\n",
              "      <th>2</th>\n",
              "      <td>R$ 480.000</td>\n",
              "      <td>ALFA</td>\n",
              "      <td>USADO</td>\n",
              "      <td>Motor 1.8 16v</td>\n",
              "      <td>Ano 2004 - 19.722 km</td>\n",
              "      <td>Rio de Janeiro - RJ</td>\n",
              "      <td>[Central multimídia, Bancos de couro, Rodas de...</td>\n",
              "      <td>NaN</td>\n",
              "    </tr>\n",
              "    <tr>\n",
              "      <th>3</th>\n",
              "      <td>R$ 133.000</td>\n",
              "      <td>PUECH</td>\n",
              "      <td>USADO</td>\n",
              "      <td>Motor Diesel V8</td>\n",
              "      <td>Ano 1992 - 34.335 km</td>\n",
              "      <td>São Paulo - SP</td>\n",
              "      <td>[Bancos de couro, Freios ABS, Rodas de liga, C...</td>\n",
              "      <td>NaN</td>\n",
              "    </tr>\n",
              "    <tr>\n",
              "      <th>4</th>\n",
              "      <td>R$ 175.000</td>\n",
              "      <td>LAMBORGHINI MURCIELAGO</td>\n",
              "      <td>USADO</td>\n",
              "      <td>Motor 1.0 8v</td>\n",
              "      <td>Ano 1991 - 464 km</td>\n",
              "      <td>Belo Horizonte - MG</td>\n",
              "      <td>[Central multimídia, Teto panorâmico, Sensor c...</td>\n",
              "      <td>NaN</td>\n",
              "    </tr>\n",
              "    <tr>\n",
              "      <th>5</th>\n",
              "      <td>R$ 239.000</td>\n",
              "      <td>ASTON MARTIN</td>\n",
              "      <td>USADO</td>\n",
              "      <td>Motor Diesel V6</td>\n",
              "      <td>Ano 2004 - 50.189 km</td>\n",
              "      <td>Belo Horizonte - MG</td>\n",
              "      <td>[Painel digital, Controle de tração, Teto pano...</td>\n",
              "      <td>OPORTUNIDADE</td>\n",
              "    </tr>\n",
              "    <tr>\n",
              "      <th>6</th>\n",
              "      <td>R$ 115.000</td>\n",
              "      <td>TVR</td>\n",
              "      <td>USADO</td>\n",
              "      <td>Motor 4.0 Turbo</td>\n",
              "      <td>Ano 2014 - 17.778 km</td>\n",
              "      <td>Belo Horizonte - MG</td>\n",
              "      <td>[4 X 4, Teto panorâmico, Central multimídia, C...</td>\n",
              "      <td>NaN</td>\n",
              "    </tr>\n",
              "    <tr>\n",
              "      <th>7</th>\n",
              "      <td>R$ 114.000</td>\n",
              "      <td>EXCALIBUR</td>\n",
              "      <td>USADO</td>\n",
              "      <td>Motor 3.0 32v</td>\n",
              "      <td>Ano 2009 - 81.251 km</td>\n",
              "      <td>Rio de Janeiro - RJ</td>\n",
              "      <td>[Painel digital, Câmbio automático, Sensor de ...</td>\n",
              "      <td>NaN</td>\n",
              "    </tr>\n",
              "    <tr>\n",
              "      <th>8</th>\n",
              "      <td>R$ 75.000</td>\n",
              "      <td>MCLAREN</td>\n",
              "      <td>NOVO</td>\n",
              "      <td>Motor Diesel</td>\n",
              "      <td>Ano 2019 - 0 km</td>\n",
              "      <td>São Paulo - SP</td>\n",
              "      <td>[Central multimídia, Câmera de estacionamento,...</td>\n",
              "      <td>NaN</td>\n",
              "    </tr>\n",
              "    <tr>\n",
              "      <th>9</th>\n",
              "      <td>R$ 117.000</td>\n",
              "      <td>TOYOTA</td>\n",
              "      <td>USADO</td>\n",
              "      <td>Motor 4.0 Turbo</td>\n",
              "      <td>Ano 1999 - 12.536 km</td>\n",
              "      <td>São Paulo - SP</td>\n",
              "      <td>[Bancos de couro, Freios ABS, Piloto automátic...</td>\n",
              "      <td>OPORTUNIDADE</td>\n",
              "    </tr>\n",
              "  </tbody>\n",
              "</table>\n",
              "</div>\n",
              "      <button class=\"colab-df-convert\" onclick=\"convertToInteractive('df-bf63885c-3875-4cfd-a35a-7029d459d602')\"\n",
              "              title=\"Convert this dataframe to an interactive table.\"\n",
              "              style=\"display:none;\">\n",
              "        \n",
              "  <svg xmlns=\"http://www.w3.org/2000/svg\" height=\"24px\"viewBox=\"0 0 24 24\"\n",
              "       width=\"24px\">\n",
              "    <path d=\"M0 0h24v24H0V0z\" fill=\"none\"/>\n",
              "    <path d=\"M18.56 5.44l.94 2.06.94-2.06 2.06-.94-2.06-.94-.94-2.06-.94 2.06-2.06.94zm-11 1L8.5 8.5l.94-2.06 2.06-.94-2.06-.94L8.5 2.5l-.94 2.06-2.06.94zm10 10l.94 2.06.94-2.06 2.06-.94-2.06-.94-.94-2.06-.94 2.06-2.06.94z\"/><path d=\"M17.41 7.96l-1.37-1.37c-.4-.4-.92-.59-1.43-.59-.52 0-1.04.2-1.43.59L10.3 9.45l-7.72 7.72c-.78.78-.78 2.05 0 2.83L4 21.41c.39.39.9.59 1.41.59.51 0 1.02-.2 1.41-.59l7.78-7.78 2.81-2.81c.8-.78.8-2.07 0-2.86zM5.41 20L4 18.59l7.72-7.72 1.47 1.35L5.41 20z\"/>\n",
              "  </svg>\n",
              "      </button>\n",
              "      \n",
              "  <style>\n",
              "    .colab-df-container {\n",
              "      display:flex;\n",
              "      flex-wrap:wrap;\n",
              "      gap: 12px;\n",
              "    }\n",
              "\n",
              "    .colab-df-convert {\n",
              "      background-color: #E8F0FE;\n",
              "      border: none;\n",
              "      border-radius: 50%;\n",
              "      cursor: pointer;\n",
              "      display: none;\n",
              "      fill: #1967D2;\n",
              "      height: 32px;\n",
              "      padding: 0 0 0 0;\n",
              "      width: 32px;\n",
              "    }\n",
              "\n",
              "    .colab-df-convert:hover {\n",
              "      background-color: #E2EBFA;\n",
              "      box-shadow: 0px 1px 2px rgba(60, 64, 67, 0.3), 0px 1px 3px 1px rgba(60, 64, 67, 0.15);\n",
              "      fill: #174EA6;\n",
              "    }\n",
              "\n",
              "    [theme=dark] .colab-df-convert {\n",
              "      background-color: #3B4455;\n",
              "      fill: #D2E3FC;\n",
              "    }\n",
              "\n",
              "    [theme=dark] .colab-df-convert:hover {\n",
              "      background-color: #434B5C;\n",
              "      box-shadow: 0px 1px 3px 1px rgba(0, 0, 0, 0.15);\n",
              "      filter: drop-shadow(0px 1px 2px rgba(0, 0, 0, 0.3));\n",
              "      fill: #FFFFFF;\n",
              "    }\n",
              "  </style>\n",
              "\n",
              "      <script>\n",
              "        const buttonEl =\n",
              "          document.querySelector('#df-bf63885c-3875-4cfd-a35a-7029d459d602 button.colab-df-convert');\n",
              "        buttonEl.style.display =\n",
              "          google.colab.kernel.accessAllowed ? 'block' : 'none';\n",
              "\n",
              "        async function convertToInteractive(key) {\n",
              "          const element = document.querySelector('#df-bf63885c-3875-4cfd-a35a-7029d459d602');\n",
              "          const dataTable =\n",
              "            await google.colab.kernel.invokeFunction('convertToInteractive',\n",
              "                                                     [key], {});\n",
              "          if (!dataTable) return;\n",
              "\n",
              "          const docLinkHtml = 'Like what you see? Visit the ' +\n",
              "            '<a target=\"_blank\" href=https://colab.research.google.com/notebooks/data_table.ipynb>data table notebook</a>'\n",
              "            + ' to learn more about interactive tables.';\n",
              "          element.innerHTML = '';\n",
              "          dataTable['output_type'] = 'display_data';\n",
              "          await google.colab.output.renderOutput(dataTable, element);\n",
              "          const docLink = document.createElement('div');\n",
              "          docLink.innerHTML = docLinkHtml;\n",
              "          element.appendChild(docLink);\n",
              "        }\n",
              "      </script>\n",
              "    </div>\n",
              "  </div>\n",
              "  "
            ]
          },
          "metadata": {},
          "execution_count": 173
        }
      ],
      "source": [
        "# Importando bibliotecas\n",
        "from urllib.request import urlopen, urlretrieve\n",
        "from bs4 import BeautifulSoup\n",
        "import pandas as pd\n",
        "\n",
        "# Declarando variável cards\n",
        "cards = []\n",
        "\n",
        "# Obtendo o HTML\n",
        "response = urlopen('https://alura-site-scraping.herokuapp.com/index.php')\n",
        "html = response.read().decode('utf-8')\n",
        "soup = BeautifulSoup(html, 'html.parser')\n",
        "\n",
        "# Obtendo as TAGs de interesse\n",
        "anuncios = soup.find('div', {\"id\": \"container-cards\"}).findAll('div', class_=\"card\")\n",
        "\n",
        "# Coletando as informações dos CARDS\n",
        "for anuncio in anuncios:\n",
        "    card = {}\n",
        "    \n",
        "    # Valor\n",
        "    card['value'] = anuncio.find('p', {'class': 'txt-value'}).getText()\n",
        "\n",
        "    # Informações\n",
        "    infos = anuncio.find('div', {'class': 'body-card'}).findAll('p')\n",
        "    for info in infos:\n",
        "        card[info.get('class')[0].split('-')[-1]] = info.get_text()\n",
        "\n",
        "    # Acessórios\n",
        "    items = anuncio.find('div', {'class': 'body-card'}).ul.findAll('li')\n",
        "    items.pop()\n",
        "    acessorios = []\n",
        "    for item in items:\n",
        "        acessorios.append(item.get_text().replace('► ', ''))\n",
        "    card['items'] = acessorios\n",
        "    \n",
        "    # Adicionando resultado a lista cards\n",
        "    cards.append(card)\n",
        "\n",
        "    # Imagens\n",
        "    image = anuncio.find('div', {'class': 'image-card'}).img\n",
        "    urlretrieve(image.get('src'), '/content/drive/MyDrive/Colab Notebooks/Cursos DataScience/Web Scraping/output/img/' + image.get('src').split('/')[-1])     \n",
        "\n",
        "# Criando um DataFrame com os resultados\n",
        "dataset = pd.DataFrame(cards)\n",
        "dataset.to_csv('/content/drive/MyDrive/Colab Notebooks/Cursos DataScience/Web Scraping/output/data/dados.csv', sep=';', index = False, encoding = 'utf-8-sig')\n",
        "dataset"
      ]
    },
    {
      "cell_type": "markdown",
      "metadata": {
        "id": "-ghVNSVwEVWj"
      },
      "source": [
        "# <font color=green>7. WEB SCRAPING DO SITE ALURA MOTORS - OBTENDO OS DADOS DE TODOS OS ANÚNCIOS DO SITE"
      ]
    },
    {
      "cell_type": "markdown",
      "source": [
        ""
      ],
      "metadata": {
        "id": "6B7OIlX9PwHW"
      }
    },
    {
      "cell_type": "markdown",
      "metadata": {
        "id": "DNB_HkP0EVWk"
      },
      "source": [
        "# 7.1. Identificando as informações no HTML"
      ]
    },
    {
      "cell_type": "code",
      "execution_count": 174,
      "metadata": {
        "id": "B3ZtuV4xEVWk",
        "colab": {
          "base_uri": "https://localhost:8080/"
        },
        "outputId": "c4c87802-2d25-4a54-b16b-f73cd95db258"
      },
      "outputs": [
        {
          "output_type": "execute_result",
          "data": {
            "text/plain": [
              "<span class=\"info-pages\">Página 1 de 25</span>"
            ]
          },
          "metadata": {},
          "execution_count": 174
        }
      ],
      "source": [
        "soup.find('span', class_=\"info-pages\")"
      ]
    },
    {
      "cell_type": "code",
      "execution_count": 175,
      "metadata": {
        "scrolled": true,
        "id": "GrVp5ufxEVWk",
        "colab": {
          "base_uri": "https://localhost:8080/",
          "height": 35
        },
        "outputId": "aa59637b-9589-42eb-ece8-2770427b2c7e"
      },
      "outputs": [
        {
          "output_type": "execute_result",
          "data": {
            "text/plain": [
              "'Página 1 de 25'"
            ],
            "application/vnd.google.colaboratory.intrinsic+json": {
              "type": "string"
            }
          },
          "metadata": {},
          "execution_count": 175
        }
      ],
      "source": [
        "soup.find('span', class_=\"info-pages\").get_text()"
      ]
    },
    {
      "cell_type": "code",
      "execution_count": 176,
      "metadata": {
        "id": "RgPdVbndEVWk",
        "colab": {
          "base_uri": "https://localhost:8080/",
          "height": 35
        },
        "outputId": "2441cab2-65f5-4e5b-94f1-1b7fed3921c8"
      },
      "outputs": [
        {
          "output_type": "execute_result",
          "data": {
            "text/plain": [
              "'25'"
            ],
            "application/vnd.google.colaboratory.intrinsic+json": {
              "type": "string"
            }
          },
          "metadata": {},
          "execution_count": 176
        }
      ],
      "source": [
        "soup.find('span', class_=\"info-pages\").get_text().split()[-1]"
      ]
    },
    {
      "cell_type": "code",
      "execution_count": 177,
      "metadata": {
        "id": "fJzaSDwFEVWk",
        "colab": {
          "base_uri": "https://localhost:8080/"
        },
        "outputId": "60cf1603-9016-4e77-b419-1142d496d83f"
      },
      "outputs": [
        {
          "output_type": "execute_result",
          "data": {
            "text/plain": [
              "25"
            ]
          },
          "metadata": {},
          "execution_count": 177
        }
      ],
      "source": [
        "int(soup.find('span', class_=\"info-pages\").get_text().split()[-1])"
      ]
    },
    {
      "cell_type": "code",
      "execution_count": 177,
      "metadata": {
        "id": "o0l6p7alEVWk"
      },
      "outputs": [],
      "source": [
        ""
      ]
    },
    {
      "cell_type": "markdown",
      "metadata": {
        "id": "dIZohfa7EVWk"
      },
      "source": [
        "# 7.2. Criando uma rotina de scraping - Script Final \n",
        "## executar isoladamente"
      ]
    },
    {
      "cell_type": "code",
      "execution_count": 177,
      "metadata": {
        "scrolled": true,
        "id": "IPpgXnJdEVWk"
      },
      "outputs": [],
      "source": [
        "# Obtendo o HTML\n",
        "response = urlopen('https://alura-site-scraping.herokuapp.com/index.php')\n",
        "html = response.read().decode('utf-8')\n",
        "soup = BeautifulSoup(html, 'html.parser')\n",
        "pages = int(soup.find('span', class_=\"info-pages\").get_text().split()[-1])\n",
        "\n",
        "##iterando as paginas\n",
        "for i in range(pages):\n",
        "  #Obtendo o HTML\n",
        "  response = urlopen('https://alura-site-scraping.herokuapp.com/index.php?page=' + str(i + 1))\n",
        "  html = response.read().decode('utf-8')\n",
        "  soup = BeautifulSoup(html, 'html.parser')\n",
        "\n",
        "  # Obtendo as TAGs de interesse\n",
        "  anuncios = soup.find('div', {\"id\": \"container-cards\"}).findAll('div', class_=\"card\")\n",
        "\n",
        "  # Coletando as informações dos CARDS\n",
        "  for anuncio in anuncios:\n",
        "      card = {}\n",
        "      \n",
        "      # Valor\n",
        "      card['value'] = anuncio.find('p', {'class': 'txt-value'}).getText()\n",
        "\n",
        "      # Informações\n",
        "      infos = anuncio.find('div', {'class': 'body-card'}).findAll('p')\n",
        "      for info in infos:\n",
        "          card[info.get('class')[0].split('-')[-1]] = info.get_text()\n",
        "\n",
        "      # Acessórios\n",
        "      items = anuncio.find('div', {'class': 'body-card'}).ul.findAll('li')\n",
        "      items.pop()\n",
        "      acessorios = []\n",
        "      for item in items:\n",
        "          acessorios.append(item.get_text().replace('► ', ''))\n",
        "      card['items'] = acessorios\n",
        "      \n",
        "      # Adicionando resultado a lista cards\n",
        "      cards.append(card)\n",
        "\n",
        "      # Imagens\n",
        "      image = anuncio.find('div', {'class': 'image-card'}).img\n",
        "      urlretrieve(image.get('src'), '/content/drive/MyDrive/Colab Notebooks/Cursos DataScience/Web Scraping/output/img/' + image.get('src').split('/')[-1])    \n",
        "\n",
        "\n",
        "# Criando um DataFrame com os resultados\n",
        "dataset = pd.DataFrame(cards)\n",
        "dataset.to_csv('/content/drive/MyDrive/Colab Notebooks/Cursos DataScience/Web Scraping/output/data/dados.csv', sep=';', index = False, encoding = 'utf-8-sig')\n",
        "dataset"
      ]
    }
  ],
  "metadata": {
    "colab": {
      "name": "Web Scraping_Framework_BeatifulSoup.ipynb",
      "provenance": [],
      "include_colab_link": true
    },
    "kernelspec": {
      "display_name": "Python 3",
      "language": "python",
      "name": "python3"
    },
    "language_info": {
      "codemirror_mode": {
        "name": "ipython",
        "version": 3
      },
      "file_extension": ".py",
      "mimetype": "text/x-python",
      "name": "python",
      "nbconvert_exporter": "python",
      "pygments_lexer": "ipython3",
      "version": "3.7.3"
    }
  },
  "nbformat": 4,
  "nbformat_minor": 0
}